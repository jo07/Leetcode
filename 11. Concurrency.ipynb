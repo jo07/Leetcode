{
 "cells": [
  {
   "cell_type": "code",
   "execution_count": 1,
   "metadata": {},
   "outputs": [],
   "source": [
    "import ipytest\n",
    "ipytest.autoconfig()\n",
    "import pytest"
   ]
  },
  {
   "cell_type": "markdown",
   "metadata": {},
   "source": [
    "## [Two City Scheduling](https://leetcode.com/problems/two-city-scheduling)"
   ]
  },
  {
   "cell_type": "raw",
   "metadata": {},
   "source": [
    "A company is planning to interview 2n people. Given the array costs where costs[i] = [aCosti, bCosti], the cost of flying the ith person to city a is aCosti, and the cost of flying the ith person to city b is bCosti.\n",
    "\n",
    "Return the minimum cost to fly every person to a city such that exactly n people arrive in each city.\n",
    "\n",
    "Example 1:\n",
    "\n",
    "Input: costs = [[10,20],[30,200],[400,50],[30,20]]\n",
    "Output: 110\n",
    "Explanation: \n",
    "The first person goes to city A for a cost of 10.\n",
    "The second person goes to city A for a cost of 30.\n",
    "The third person goes to city B for a cost of 50.\n",
    "The fourth person goes to city B for a cost of 20.\n",
    "\n",
    "The total minimum cost is 10 + 30 + 50 + 20 = 110 to have half the people interviewing in each city.\n",
    "Example 2:\n",
    "\n",
    "Input: costs = [[259,770],[448,54],[926,667],[184,139],[840,118],[577,469]]\n",
    "Output: 1859\n",
    "Example 3:\n",
    "\n",
    "Input: costs = [[515,563],[451,713],[537,709],[343,819],[855,779],[457,60],[650,359],[631,42]]\n",
    "Output: 3086\n",
    "\n",
    "\n",
    "Constraints:\n",
    "\n",
    "2 * n == costs.length\n",
    "2 <= costs.length <= 100\n",
    "costs.length is even.\n",
    "1 <= aCosti, bCosti <= 1000"
   ]
  },
  {
   "cell_type": "raw",
   "metadata": {},
   "source": [
    "# Logic\n",
    "We just need the total minimum cost and not the city we chose for each of the person. Suppose if we put every person on the first list and if we subtract the first item from the second we will get the difference. If we sort that difference list, take out n//2 items and add it to the sum of first items then we get our solution\n"
   ]
  },
  {
   "cell_type": "code",
   "execution_count": 6,
   "metadata": {},
   "outputs": [],
   "source": [
    "def twoCitySchedCost(costs):\n",
    "    first_item = [i for i, j in costs]\n",
    "    diff = [j - i for i, j in costs]\n",
    "    return sum(first_item) + sum(sorted(diff)[:len(costs)//2])"
   ]
  },
  {
   "cell_type": "code",
   "execution_count": 7,
   "metadata": {},
   "outputs": [
    {
     "name": "stdout",
     "output_type": "stream",
     "text": [
      "\u001b[32m.\u001b[0m\u001b[32m                                                                                            [100%]\u001b[0m\n",
      "\u001b[32m\u001b[32m\u001b[1m1 passed\u001b[0m\u001b[32m in 0.01s\u001b[0m\u001b[0m\n"
     ]
    }
   ],
   "source": [
    "%%ipytest \n",
    "def test_twoCitySchedCost():\n",
    "    assert twoCitySchedCost(costs = [[259,770],[448,54],[926,667],[184,139],[840,118],[577,469]]) == 1859\n",
    "    assert twoCitySchedCost([[515,563],[451,713],[537,709],[343,819],[855,779],[457,60],[650,359],[631,42]]) == 3086\n",
    "    assert twoCitySchedCost([[10,20],[30,200],[400,50],[30,20]]) == 110"
   ]
  },
  {
   "cell_type": "code",
   "execution_count": null,
   "metadata": {},
   "outputs": [],
   "source": []
  }
 ],
 "metadata": {
  "kernelspec": {
   "display_name": "Python 3",
   "language": "python",
   "name": "python3"
  },
  "language_info": {
   "codemirror_mode": {
    "name": "ipython",
    "version": 3
   },
   "file_extension": ".py",
   "mimetype": "text/x-python",
   "name": "python",
   "nbconvert_exporter": "python",
   "pygments_lexer": "ipython3",
   "version": "3.8.3"
  }
 },
 "nbformat": 4,
 "nbformat_minor": 4
}
