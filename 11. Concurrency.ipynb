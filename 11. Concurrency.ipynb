{
 "cells": [
  {
   "cell_type": "code",
   "execution_count": 1,
   "metadata": {},
   "outputs": [],
   "source": [
    "import ipytest\n",
    "ipytest.autoconfig()\n",
    "import pytest"
   ]
  },
  {
   "cell_type": "markdown",
   "metadata": {},
   "source": [
    "## [Two City Scheduling](https://leetcode.com/problems/two-city-scheduling)"
   ]
  },
  {
   "cell_type": "raw",
   "metadata": {},
   "source": [
    "A company is planning to interview 2n people. Given the array costs where costs[i] = [aCosti, bCosti], the cost of flying the ith person to city a is aCosti, and the cost of flying the ith person to city b is bCosti.\n",
    "\n",
    "Return the minimum cost to fly every person to a city such that exactly n people arrive in each city.\n",
    "\n",
    "Example 1:\n",
    "\n",
    "Input: costs = [[10,20],[30,200],[400,50],[30,20]]\n",
    "Output: 110\n",
    "Explanation: \n",
    "The first person goes to city A for a cost of 10.\n",
    "The second person goes to city A for a cost of 30.\n",
    "The third person goes to city B for a cost of 50.\n",
    "The fourth person goes to city B for a cost of 20.\n",
    "\n",
    "The total minimum cost is 10 + 30 + 50 + 20 = 110 to have half the people interviewing in each city.\n",
    "Example 2:\n",
    "\n",
    "Input: costs = [[259,770],[448,54],[926,667],[184,139],[840,118],[577,469]]\n",
    "Output: 1859\n",
    "Example 3:\n",
    "\n",
    "Input: costs = [[515,563],[451,713],[537,709],[343,819],[855,779],[457,60],[650,359],[631,42]]\n",
    "Output: 3086\n",
    "\n",
    "\n",
    "Constraints:\n",
    "\n",
    "2 * n == costs.length\n",
    "2 <= costs.length <= 100\n",
    "costs.length is even.\n",
    "1 <= aCosti, bCosti <= 1000"
   ]
  },
  {
   "cell_type": "raw",
   "metadata": {},
   "source": [
    "# Logic\n",
    "First we assign everyone to the first item. Now we need to choose half of them which needs to be send to the second list. Those should be the one with minimal difference with the first. So we create a list of difference of second item-first item. And if we sort it and take the smallest n/2 items from the diff list we get the difference of items of index which should have chosen the second item. Adding the sum of first list and the diff list would give the desired output."
   ]
  },
  {
   "cell_type": "code",
   "execution_count": 6,
   "metadata": {},
   "outputs": [],
   "source": [
    "def twoCitySchedCost(costs):\n",
    "    first_item = [i for i, j in costs]\n",
    "    diff = [j - i for i, j in costs]\n",
    "    return sum(first_item) + sum(sorted(diff)[:len(costs)//2])"
   ]
  },
  {
   "cell_type": "code",
   "execution_count": 7,
   "metadata": {},
   "outputs": [
    {
     "name": "stdout",
     "output_type": "stream",
     "text": [
      "\u001b[32m.\u001b[0m\u001b[32m                                                                                            [100%]\u001b[0m\n",
      "\u001b[32m\u001b[32m\u001b[1m1 passed\u001b[0m\u001b[32m in 0.01s\u001b[0m\u001b[0m\n"
     ]
    }
   ],
   "source": [
    "%%ipytest \n",
    "def test_twoCitySchedCost():\n",
    "    assert twoCitySchedCost(costs = [[259,770],[448,54],[926,667],[184,139],[840,118],[577,469]]) == 1859\n",
    "    assert twoCitySchedCost([[515,563],[451,713],[537,709],[343,819],[855,779],[457,60],[650,359],[631,42]]) == 3086\n",
    "    assert twoCitySchedCost([[10,20],[30,200],[400,50],[30,20]]) == 110"
   ]
  },
  {
   "cell_type": "code",
   "execution_count": 8,
   "metadata": {},
   "outputs": [
    {
     "data": {
      "text/plain": [
       "[1, 2, 3, 4]"
      ]
     },
     "execution_count": 8,
     "metadata": {},
     "output_type": "execute_result"
    }
   ],
   "source": []
  },
  {
   "cell_type": "markdown",
   "metadata": {},
   "source": [
    "## [Print in Order](https://leetcode.com/problems/print-in-order/)"
   ]
  },
  {
   "cell_type": "raw",
   "metadata": {},
   "source": [
    "Suppose we have a class:\n",
    "\n",
    "public class Foo {\n",
    "  public void first() { print(\"first\"); }\n",
    "  public void second() { print(\"second\"); }\n",
    "  public void third() { print(\"third\"); }\n",
    "}\n",
    "The same instance of Foo will be passed to three different threads. Thread A will call first(), thread B will call second(), and thread C will call third(). Design a mechanism and modify the program to ensure that second() is executed after first(), and third() is executed after second().\n",
    "\n",
    "Note:\n",
    "\n",
    "We do not know how the threads will be scheduled in the operating system, even though the numbers in the input seem to imply the ordering. The input format you see is mainly to ensure our tests' comprehensiveness.\n",
    "\n",
    " \n",
    "\n",
    "Example 1:\n",
    "\n",
    "Input: nums = [1,2,3]\n",
    "Output: \"firstsecondthird\"\n",
    "Explanation: There are three threads being fired asynchronously. The input [1,2,3] means thread A calls first(), thread B calls second(), and thread C calls third(). \"firstsecondthird\" is the correct output.\n",
    "Example 2:\n",
    "\n",
    "Input: nums = [1,3,2]\n",
    "Output: \"firstsecondthird\"\n",
    "Explanation: The input [1,3,2] means thread A calls first(), thread B calls third(), and thread C calls second(). \"firstsecondthird\" is the correct output.\n",
    " \n",
    "\n",
    "Constraints:\n",
    "\n",
    "nums is a permutation of [1, 2, 3]."
   ]
  },
  {
   "cell_type": "raw",
   "metadata": {},
   "source": [
    "Solution using Python Thread Barriers\n",
    "\n",
    "\"Barrier objects in python are used to wait for a fixed number of thread to complete execution before any particular thread can proceed forward with the execution of the program\""
   ]
  },
  {
   "cell_type": "code",
   "execution_count": 9,
   "metadata": {},
   "outputs": [],
   "source": [
    "# Implementation using Barrier\n",
    "from threading import Barrier\n",
    "class Foo:\n",
    "    def __init__(self):\n",
    "        # two barriers in first_barrier and the second\n",
    "        self.first_barrier = Barrier(2)\n",
    "        self.second_barrier = Barrier(2)\n",
    "\n",
    "    def first(self, printFirst: 'Callable[[], None]') -> None:\n",
    "        \n",
    "        # printFirst() outputs \"first\". Do not change or remove this line.\n",
    "        printFirst()\n",
    "        # first barrier in first_barrier\n",
    "        self.first_barrier.wait()\n",
    "\n",
    "    def second(self, printSecond: 'Callable[[], None]') -> None:\n",
    "        # second barrier in first_barrier\n",
    "        self.first_barrier.wait()\n",
    "        # printSecond() outputs \"second\". Do not change or remove this line.\n",
    "        printSecond()\n",
    "        self.second_barrier.wait()\n",
    "\n",
    "\n",
    "    def third(self, printThird: 'Callable[[], None]') -> None:\n",
    "        self.second_barrier.wait()\n",
    "        # printThird() outputs \"third\". Do not change or remove this line.\n",
    "        printThird()"
   ]
  },
  {
   "cell_type": "code",
   "execution_count": 10,
   "metadata": {},
   "outputs": [],
   "source": [
    "# Implementation using semaphore\n",
    "from threading import Semaphore\n",
    "class Foo:\n",
    "    def __init__(self):\n",
    "        self.second = Semaphore(0)\n",
    "        self.third = Semaphore(0)\n",
    "\n",
    "\n",
    "    def first(self, printFirst: 'Callable[[], None]') -> None:\n",
    "        \n",
    "        # printFirst() outputs \"first\". Do not change or remove this line.\n",
    "        printFirst()\n",
    "        self.two.release()\n",
    "\n",
    "    def second(self, printSecond: 'Callable[[], None]') -> None:\n",
    "        with self.two:\n",
    "            # printSecond() outputs \"second\". Do not change or remove this line.\n",
    "            printSecond()\n",
    "            self.three.release()\n",
    "\n",
    "    def third(self, printThird: 'Callable[[], None]') -> None:\n",
    "        \n",
    "        with self.two:\n",
    "            # printThird() outputs \"third\". Do not change or remove this line.\n",
    "            printThird()"
   ]
  },
  {
   "cell_type": "code",
   "execution_count": null,
   "metadata": {},
   "outputs": [],
   "source": []
  }
 ],
 "metadata": {
  "kernelspec": {
   "display_name": "Python 3",
   "language": "python",
   "name": "python3"
  },
  "language_info": {
   "codemirror_mode": {
    "name": "ipython",
    "version": 3
   },
   "file_extension": ".py",
   "mimetype": "text/x-python",
   "name": "python",
   "nbconvert_exporter": "python",
   "pygments_lexer": "ipython3",
   "version": "3.8.3"
  }
 },
 "nbformat": 4,
 "nbformat_minor": 4
}
