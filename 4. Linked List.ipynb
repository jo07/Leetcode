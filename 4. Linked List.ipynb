{
 "cells": [
  {
   "cell_type": "code",
   "execution_count": 1,
   "metadata": {},
   "outputs": [],
   "source": [
    "import ipytest\n",
    "ipytest.autoconfig()\n",
    "import pytest"
   ]
  },
  {
   "cell_type": "markdown",
   "metadata": {},
   "source": [
    "## [Reverse Linked List](https://leetcode.com/problems/reverse-linked-list/)"
   ]
  },
  {
   "cell_type": "raw",
   "metadata": {},
   "source": [
    "Given the head of a singly linked list, reverse the list, and return the reversed list.\n",
    "\n",
    "Example 1:\n",
    "\n",
    "\n",
    "Input: head = [1,2,3,4,5]\n",
    "Output: [5,4,3,2,1]\n",
    "\n",
    "Example 2:\n",
    "\n",
    "\n",
    "Input: head = [1,2]\n",
    "Output: [2,1]\n",
    "Example 3:\n",
    "\n",
    "Input: head = []\n",
    "Output: []\n",
    " \n",
    "\n",
    "Constraints:\n",
    "\n",
    "The number of nodes in the list is the range [0, 5000].\n",
    "-5000 <= Node.val <= 5000\n",
    " \n",
    "\n",
    "Follow up: A linked list can be reversed either iteratively or recursively. Could you implement both?"
   ]
  },
  {
   "cell_type": "code",
   "execution_count": 2,
   "metadata": {},
   "outputs": [],
   "source": [
    "# Solution\n",
    "# This is a basic classic problem of reversing a singly linked list. We are gonna take the head, the starting point, \n",
    "# then we are gonna recursively/ iteratively make new links in the backward direction instead of going forward."
   ]
  },
  {
   "cell_type": "code",
   "execution_count": 79,
   "metadata": {},
   "outputs": [],
   "source": [
    "# Implementation Iterative\n",
    "def reverseListIter(head):\n",
    "    cur, prev = head, None # Head doesn't have a prev node\n",
    "    while cur:\n",
    "        cur.next, prev, cur = prev, cur, cur.next\n",
    "    return prev"
   ]
  },
  {
   "cell_type": "code",
   "execution_count": 52,
   "metadata": {},
   "outputs": [],
   "source": [
    "def reverseListIter2(head):\n",
    "    curr, prev = head, None\n",
    "    while curr:\n",
    "        nxt = curr.next\n",
    "        curr.next = prev\n",
    "        prev = curr\n",
    "        curr = nxt\n",
    "    return prev"
   ]
  },
  {
   "cell_type": "code",
   "execution_count": 23,
   "metadata": {},
   "outputs": [],
   "source": [
    "# Implementation Recursive\n",
    "def reverseListRecur(head):\n",
    "    if not head:\n",
    "        return None\n",
    "    newHead = head\n",
    "    if head.next:\n",
    "        newHead = reverseListRecur(head.next)\n",
    "        head.next.next = head\n",
    "        head.next = None\n",
    "    return newHead"
   ]
  },
  {
   "cell_type": "code",
   "execution_count": 69,
   "metadata": {},
   "outputs": [],
   "source": [
    "# Need to create a function to pass list and return a linked list out of it. And a class for node\n",
    "def link2linked(list1):\n",
    "    dummy = curr = ListNode(0)\n",
    "    for item in list1:\n",
    "        curr.next = ListNode(item)\n",
    "        curr = curr.next\n",
    "    return dummy.next\n",
    "    \n",
    "class ListNode:\n",
    "    def __init__(self, val=0, next=None):\n",
    "        self.val = val\n",
    "        self.next = next"
   ]
  },
  {
   "cell_type": "code",
   "execution_count": 80,
   "metadata": {},
   "outputs": [],
   "source": [
    "s = link2linked([1,2,3,4,5])"
   ]
  },
  {
   "cell_type": "code",
   "execution_count": 81,
   "metadata": {},
   "outputs": [
    {
     "data": {
      "text/plain": [
       "(1, 2, 3, 4, 5)"
      ]
     },
     "execution_count": 81,
     "metadata": {},
     "output_type": "execute_result"
    }
   ],
   "source": [
    "s.val, s.next.val, s.next.next.val, s.next.next.next.val, s.next.next.next.next.val"
   ]
  },
  {
   "cell_type": "code",
   "execution_count": 82,
   "metadata": {},
   "outputs": [
    {
     "data": {
      "text/plain": [
       "(5, 4, 3, 2)"
      ]
     },
     "execution_count": 82,
     "metadata": {},
     "output_type": "execute_result"
    }
   ],
   "source": [
    "rs = reverseListIter(s)\n",
    "rs.val, rs.next.val, rs.next.next.val, rs.next.next.next.val"
   ]
  },
  {
   "cell_type": "code",
   "execution_count": 20,
   "metadata": {},
   "outputs": [],
   "source": [
    "# That atleast is working. "
   ]
  },
  {
   "cell_type": "markdown",
   "metadata": {},
   "source": [
    "## [Linked List Cycle](https://leetcode.com/problems/linked-list-cycle/)"
   ]
  },
  {
   "cell_type": "raw",
   "metadata": {},
   "source": [
    "Given head, the head of a linked list, determine if the linked list has a cycle in it.\n",
    "\n",
    "There is a cycle in a linked list if there is some node in the list that can be reached again by continuously following the next pointer. Internally, pos is used to denote the index of the node that tail's next pointer is connected to. Note that pos is not passed as a parameter.\n",
    "\n",
    "Return true if there is a cycle in the linked list. Otherwise, return false.\n",
    "\n",
    " \n",
    "\n",
    "Example 1:\n",
    "\n",
    "Input: head = [3,2,0,-4], pos = 1\n",
    "Output: true\n",
    "Explanation: There is a cycle in the linked list, where the tail connects to the 1st node (0-indexed).\n",
    "\n",
    "\n",
    "Example 2:\n",
    "\n",
    "\n",
    "Input: head = [1,2], pos = 0\n",
    "Output: true\n",
    "Explanation: There is a cycle in the linked list, where the tail connects to the 0th node.\n",
    "\n",
    "\n",
    "Example 3:\n",
    "\n",
    "\n",
    "Input: head = [1], pos = -1\n",
    "Output: false\n",
    "Explanation: There is no cycle in the linked list.\n",
    " \n",
    "\n",
    "Constraints:\n",
    "\n",
    "The number of the nodes in the list is in the range [0, 10^4].\n",
    "-10^5 <= Node.val <= 10^5\n",
    "pos is -1 or a valid index in the linked-list.\n",
    " \n",
    "\n",
    "Follow up: Can you solve it using O(1) (i.e. constant) memory?"
   ]
  },
  {
   "cell_type": "code",
   "execution_count": 28,
   "metadata": {},
   "outputs": [],
   "source": [
    "# Solution\n",
    "# If we can use O(n) space we can just put the elements in a dict or even better a set and then keep on checking \n",
    "# through the iteration if it's in the dict or not and keep on adding the element to the dict. Two things will happen\n",
    "# Either we arrive at an element already present in the dict, means there is a cycle or we arrive at the end of the \n",
    "# list which implies no cycle. To find the cycle in O(1) space you need to know the Floyds cycle detection algorithm\n",
    "# It says if there is a slow pointer jumping one step at a time and a fast pointer jumping two steps at a point when\n",
    "# starting from the same point they should never meet at a point unless there is a cycle. Let's build it"
   ]
  },
  {
   "cell_type": "code",
   "execution_count": 29,
   "metadata": {},
   "outputs": [],
   "source": [
    "# Implementation\n",
    "def hasCycle(head):\n",
    "    slow = fast = head\n",
    "    while fast and fast.next:\n",
    "        slow = slow.next\n",
    "        fast = fast.next.next\n",
    "        if slow == fast:\n",
    "            return True\n",
    "    return False\n",
    "        "
   ]
  },
  {
   "cell_type": "code",
   "execution_count": 30,
   "metadata": {},
   "outputs": [],
   "source": [
    "# That was bingo"
   ]
  },
  {
   "cell_type": "markdown",
   "metadata": {},
   "source": [
    "## [Merge Two Sorted Lists](https://leetcode.com/problems/merge-two-sorted-lists/)"
   ]
  },
  {
   "cell_type": "raw",
   "metadata": {},
   "source": [
    "You are given the heads of two sorted linked lists list1 and list2.\n",
    "\n",
    "Merge the two lists in a one sorted list. The list should be made by splicing together the nodes of the first two lists.\n",
    "\n",
    "Return the head of the merged linked list.\n",
    "\n",
    " \n",
    "\n",
    "Example 1:\n",
    "\n",
    "Input: list1 = [1,2,4], list2 = [1,3,4]\n",
    "Output: [1,1,2,3,4,4]\n",
    "\n",
    "Example 2:\n",
    "\n",
    "Input: list1 = [], list2 = []\n",
    "Output: []\n",
    "\n",
    "Example 3:\n",
    "\n",
    "Input: list1 = [], list2 = [0]\n",
    "Output: [0]\n",
    " \n",
    "\n",
    "Constraints:\n",
    "\n",
    "The number of nodes in both lists is in the range [0, 50].\n",
    "-100 <= Node.val <= 100\n",
    "Both list1 and list2 are sorted in non-decreasing order."
   ]
  },
  {
   "cell_type": "code",
   "execution_count": 31,
   "metadata": {},
   "outputs": [],
   "source": [
    "# Solution\n",
    "# Take their heads, compare them. Which ever is lesser recursively call the next items in that list with curr item\n",
    "# of the other list"
   ]
  },
  {
   "cell_type": "code",
   "execution_count": 32,
   "metadata": {},
   "outputs": [],
   "source": [
    "# Implementation\n",
    "def mergeTwoLists(l1, l2):\n",
    "    if not l1 or not l2:\n",
    "        return l1 or l2\n",
    "    if l1.val < l2.val:\n",
    "        l1.next = mergeTwoLists(l1.next, l2)\n",
    "        return l1\n",
    "    else:\n",
    "        l2.next = mergeTwoLists(l1, l2.next)\n",
    "        return l2"
   ]
  },
  {
   "cell_type": "code",
   "execution_count": 33,
   "metadata": {},
   "outputs": [],
   "source": [
    "# That's another bingo"
   ]
  },
  {
   "cell_type": "markdown",
   "metadata": {},
   "source": [
    "## [Merge k Sorted Lists](https://leetcode.com/problems/merge-k-sorted-lists/)"
   ]
  },
  {
   "cell_type": "raw",
   "metadata": {},
   "source": [
    "You are given an array of k linked-lists lists, each linked-list is sorted in ascending order.\n",
    "\n",
    "Merge all the linked-lists into one sorted linked-list and return it.\n",
    "\n",
    " \n",
    "\n",
    "Example 1:\n",
    "\n",
    "Input: lists = [[1,4,5],[1,3,4],[2,6]]\n",
    "Output: [1,1,2,3,4,4,5,6]\n",
    "Explanation: The linked-lists are:\n",
    "[\n",
    "  1->4->5,\n",
    "  1->3->4,\n",
    "  2->6\n",
    "]\n",
    "merging them into one sorted list:\n",
    "1->1->2->3->4->4->5->6\n",
    "\n",
    "\n",
    "Example 2:\n",
    "\n",
    "Input: lists = []\n",
    "Output: []\n",
    "\n",
    "Example 3:\n",
    "\n",
    "Input: lists = [[]]\n",
    "Output: []\n",
    " \n",
    "\n",
    "Constraints:\n",
    "\n",
    "k == lists.length\n",
    "0 <= k <= 104\n",
    "0 <= lists[i].length <= 500\n",
    "-10^4 <= lists[i][j] <= 10^4\n",
    "lists[i] is sorted in ascending order.\n",
    "The sum of lists[i].length will not exceed 10^4."
   ]
  },
  {
   "cell_type": "code",
   "execution_count": 34,
   "metadata": {},
   "outputs": [],
   "source": [
    "# Solution\n",
    "# We can use a priority queue or a heap (min heap to be exact). Add first element and the list number (i) of all the \n",
    "# linkedlist to the heap. Pop the heap and you get the min value. Use the value to populate the resultant linkedlist\n",
    "# Then push the next item from the ith list in the input. We keep doing this till the end of elements in all the \n",
    "# linked list and we have our list in the resultant linkedlist"
   ]
  },
  {
   "cell_type": "code",
   "execution_count": 37,
   "metadata": {},
   "outputs": [],
   "source": [
    "# Implementation\n",
    "\n",
    "import heapq\n",
    "\n",
    "def mergeKLists(lists):\n",
    "    head = curr = ListNode(0) # head is going to be the head of resultant linkedlist\n",
    "    hq = [] # our heap queue\n",
    "    for i in range(len(lists)):\n",
    "        if lists[i]:\n",
    "            heapq.heappush(hq, (lists[i].val, i)) # push the value and list number together into the heap\n",
    "            lists[i] = lists[i].next\n",
    "                           \n",
    "    while hq:    # we need to pop from heapq and also keep pushing the rest of the linkedlist nodes to heapq\n",
    "        val, i = heapq.heappop(hq)\n",
    "        curr.next = ListNode(val)\n",
    "        curr = curr.next\n",
    "        if lists[i]:\n",
    "            heapq.heappush(hq, (lists[i].val, i)) # push the value and list number together into the heap\n",
    "            lists[i] = lists[i].next\n",
    "    return head.next # head has a dummy value so we are gonna return from the next node\n",
    "        \n",
    "        \n",
    "            \n",
    "        \n"
   ]
  },
  {
   "cell_type": "code",
   "execution_count": 38,
   "metadata": {},
   "outputs": [],
   "source": [
    "# That's another bingo"
   ]
  },
  {
   "cell_type": "markdown",
   "metadata": {},
   "source": [
    "## [Remove Nth Node From End of List](https://leetcode.com/problems/remove-nth-node-from-end-of-list/)"
   ]
  },
  {
   "cell_type": "raw",
   "metadata": {},
   "source": [
    "Given the head of a linked list, remove the nth node from the end of the list and return its head. \n",
    "\n",
    "Example 1:\n",
    "\n",
    "\n",
    "Input: head = [1,2,3,4,5], n = 2\n",
    "Output: [1,2,3,5]\n",
    "\n",
    "Example 2:\n",
    "\n",
    "Input: head = [1], n = 1\n",
    "Output: []\n",
    "\n",
    "Example 3:\n",
    "\n",
    "Input: head = [1,2], n = 1\n",
    "Output: [1]\n",
    " \n",
    "\n",
    "Constraints:\n",
    "\n",
    "The number of nodes in the list is sz.\n",
    "1 <= sz <= 30\n",
    "0 <= Node.val <= 100\n",
    "1 <= n <= sz\n",
    " \n",
    "\n",
    "Follow up: Could you do this in one pass?"
   ]
  },
  {
   "cell_type": "code",
   "execution_count": 39,
   "metadata": {},
   "outputs": [],
   "source": [
    "# Solution\n",
    "# We use two pointers, fast and a slow. Fast pointer will iterate for n nodes. Then fast and slow will move one node \n",
    "# each. So when fast pointer reach the end node the slow pointer will be on nth node from the end. Since fast pointer\n",
    "# is n nodes ahead of slow pointer. Then we can remove the next node of slow pointer and then return the head. Cool na"
   ]
  },
  {
   "cell_type": "code",
   "execution_count": null,
   "metadata": {},
   "outputs": [],
   "source": [
    "# Implementation\n",
    "def removeNthFromEnd(head, n):\n",
    "    fast = slow = head\n",
    "    for _ in range(n):\n",
    "        fast = fast.next\n",
    "    if not fast:\n",
    "        return head.next\n",
    "    while fast.next:\n",
    "        fast = fast.next\n",
    "        slow = slow.next\n",
    "    slow.next = slow.next.next\n",
    "    return head"
   ]
  }
 ],
 "metadata": {
  "kernelspec": {
   "display_name": "Python 3",
   "language": "python",
   "name": "python3"
  },
  "language_info": {
   "codemirror_mode": {
    "name": "ipython",
    "version": 3
   },
   "file_extension": ".py",
   "mimetype": "text/x-python",
   "name": "python",
   "nbconvert_exporter": "python",
   "pygments_lexer": "ipython3",
   "version": "3.8.3"
  }
 },
 "nbformat": 4,
 "nbformat_minor": 4
}
