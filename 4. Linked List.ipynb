{
 "cells": [
  {
   "cell_type": "code",
   "execution_count": 1,
   "metadata": {},
   "outputs": [],
   "source": [
    "import ipytest\n",
    "ipytest.autoconfig()\n",
    "import pytest"
   ]
  },
  {
   "cell_type": "markdown",
   "metadata": {},
   "source": [
    "## [Reverse Linked List](https://leetcode.com/problems/reverse-linked-list/)"
   ]
  },
  {
   "cell_type": "raw",
   "metadata": {},
   "source": [
    "Given the head of a singly linked list, reverse the list, and return the reversed list.\n",
    "\n",
    "Example 1:\n",
    "\n",
    "\n",
    "Input: head = [1,2,3,4,5]\n",
    "Output: [5,4,3,2,1]\n",
    "\n",
    "Example 2:\n",
    "\n",
    "\n",
    "Input: head = [1,2]\n",
    "Output: [2,1]\n",
    "Example 3:\n",
    "\n",
    "Input: head = []\n",
    "Output: []\n",
    " \n",
    "\n",
    "Constraints:\n",
    "\n",
    "The number of nodes in the list is the range [0, 5000].\n",
    "-5000 <= Node.val <= 5000\n",
    " \n",
    "\n",
    "Follow up: A linked list can be reversed either iteratively or recursively. Could you implement both?"
   ]
  },
  {
   "cell_type": "code",
   "execution_count": 2,
   "metadata": {},
   "outputs": [],
   "source": [
    "# Solution\n",
    "# This is a basic classic problem of reversing a singly linked list. We are gonna take the head, the starting point, \n",
    "# then we are gonna recursively/ iteratively make new links in the backward direction instead of going forward."
   ]
  },
  {
   "cell_type": "code",
   "execution_count": 3,
   "metadata": {},
   "outputs": [],
   "source": [
    "# Implementation Iterative\n",
    "def reverseList(head):\n",
    "    cur, prev = head, None # Head doesn't have a prev node\n",
    "    while cur:\n",
    "        cur.next, prev, cur = prev, cur, cur.next\n",
    "    return prev"
   ]
  },
  {
   "cell_type": "code",
   "execution_count": 19,
   "metadata": {},
   "outputs": [],
   "source": [
    "# Implementation Recursive\n",
    "def reverseList(head):\n",
    "    if not head:\n",
    "        return None\n",
    "    newHead = head\n",
    "    if head.next:\n",
    "        newHead = reverseList(head.next)\n",
    "        head.next.next = head\n",
    "        head.next = None\n",
    "    return newHead"
   ]
  },
  {
   "cell_type": "code",
   "execution_count": 14,
   "metadata": {},
   "outputs": [],
   "source": [
    "# Need to create a function to pass list and return a linked list out of it. And a class for node\n",
    "def link2linked(list1):\n",
    "    if not list1:\n",
    "        return None\n",
    "    li = iter(list1)\n",
    "    head = ListNode(next(li))\n",
    "    prev = head\n",
    "    while item := next(li, None):\n",
    "        prev.next = ListNode(item)\n",
    "        prev = prev.next \n",
    "    return head\n",
    "    \n",
    "class ListNode:\n",
    "    def __init__(self, val=0, next=None):\n",
    "        self.val = val\n",
    "        self.next = next"
   ]
  },
  {
   "cell_type": "code",
   "execution_count": 15,
   "metadata": {},
   "outputs": [],
   "source": [
    "s = link2linked([1,2,3,4,5])"
   ]
  },
  {
   "cell_type": "code",
   "execution_count": 17,
   "metadata": {},
   "outputs": [
    {
     "data": {
      "text/plain": [
       "(1, 2, 3)"
      ]
     },
     "execution_count": 17,
     "metadata": {},
     "output_type": "execute_result"
    }
   ],
   "source": [
    "s.val, s.next.val, s.next.next.val"
   ]
  },
  {
   "cell_type": "code",
   "execution_count": 18,
   "metadata": {},
   "outputs": [],
   "source": [
    "# That atleast is working."
   ]
  },
  {
   "cell_type": "code",
   "execution_count": null,
   "metadata": {},
   "outputs": [],
   "source": []
  },
  {
   "cell_type": "code",
   "execution_count": null,
   "metadata": {},
   "outputs": [],
   "source": [
    "%%ipytest \n",
    "def test_insert():\n",
    "    assert insert([[1,3],[6,9]], [2,5]) == [[1,5],[6,9]]\n",
    "    assert insert([[1,2],[3,5],[6,7],[8,10],[12,16]], [4,8]) == [[1,2],[3,10],[12,16]]"
   ]
  }
 ],
 "metadata": {
  "kernelspec": {
   "display_name": "Python 3",
   "language": "python",
   "name": "python3"
  },
  "language_info": {
   "codemirror_mode": {
    "name": "ipython",
    "version": 3
   },
   "file_extension": ".py",
   "mimetype": "text/x-python",
   "name": "python",
   "nbconvert_exporter": "python",
   "pygments_lexer": "ipython3",
   "version": "3.8.3"
  }
 },
 "nbformat": 4,
 "nbformat_minor": 4
}
