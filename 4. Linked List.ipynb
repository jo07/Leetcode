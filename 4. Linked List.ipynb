{
 "cells": [
  {
   "cell_type": "code",
   "execution_count": 1,
   "metadata": {},
   "outputs": [],
   "source": [
    "import ipytest\n",
    "ipytest.autoconfig()\n",
    "import pytest"
   ]
  },
  {
   "cell_type": "markdown",
   "metadata": {},
   "source": [
    "## [Reverse Linked List](https://leetcode.com/problems/reverse-linked-list/)"
   ]
  },
  {
   "cell_type": "raw",
   "metadata": {},
   "source": [
    "Given the head of a singly linked list, reverse the list, and return the reversed list.\n",
    "\n",
    "Example 1:\n",
    "\n",
    "\n",
    "Input: head = [1,2,3,4,5]\n",
    "Output: [5,4,3,2,1]\n",
    "\n",
    "Example 2:\n",
    "\n",
    "\n",
    "Input: head = [1,2]\n",
    "Output: [2,1]\n",
    "Example 3:\n",
    "\n",
    "Input: head = []\n",
    "Output: []\n",
    " \n",
    "\n",
    "Constraints:\n",
    "\n",
    "The number of nodes in the list is the range [0, 5000].\n",
    "-5000 <= Node.val <= 5000\n",
    " \n",
    "\n",
    "Follow up: A linked list can be reversed either iteratively or recursively. Could you implement both?"
   ]
  },
  {
   "cell_type": "code",
   "execution_count": 2,
   "metadata": {},
   "outputs": [],
   "source": [
    "# Solution\n",
    "# This is a basic classic problem of reversing a singly linked list. We are gonna take the head, the starting point, \n",
    "# then we are gonna recursively/ iteratively make new links in the backward direction instead of going forward."
   ]
  },
  {
   "cell_type": "code",
   "execution_count": 21,
   "metadata": {},
   "outputs": [],
   "source": [
    "# Implementation Iterative\n",
    "def reverseListIter(head):\n",
    "    cur, prev = head, None # Head doesn't have a prev node\n",
    "    while cur:\n",
    "        cur.next, prev, cur = prev, cur, cur.next\n",
    "    return prev"
   ]
  },
  {
   "cell_type": "code",
   "execution_count": 23,
   "metadata": {},
   "outputs": [],
   "source": [
    "# Implementation Recursive\n",
    "def reverseListRecur(head):\n",
    "    if not head:\n",
    "        return None\n",
    "    newHead = head\n",
    "    if head.next:\n",
    "        newHead = reverseListRecur(head.next)\n",
    "        head.next.next = head\n",
    "        head.next = None\n",
    "    return newHead"
   ]
  },
  {
   "cell_type": "code",
   "execution_count": 25,
   "metadata": {},
   "outputs": [],
   "source": [
    "# Need to create a function to pass list and return a linked list out of it. And a class for node\n",
    "def link2linked(list1):\n",
    "    if not list1:\n",
    "        return None\n",
    "    li = iter(list1)\n",
    "    head = ListNode(next(li))\n",
    "    prev = head\n",
    "    while item := next(li, None):\n",
    "        prev.next = ListNode(item)\n",
    "        prev = prev.next \n",
    "    return head\n",
    "    \n",
    "class ListNode:\n",
    "    def __init__(self, val=0, next=None):\n",
    "        self.val = val\n",
    "        self.next = next"
   ]
  },
  {
   "cell_type": "code",
   "execution_count": 26,
   "metadata": {},
   "outputs": [],
   "source": [
    "s = link2linked([1,2,3,4,5])"
   ]
  },
  {
   "cell_type": "code",
   "execution_count": 27,
   "metadata": {},
   "outputs": [
    {
     "data": {
      "text/plain": [
       "(1, 2, 3)"
      ]
     },
     "execution_count": 27,
     "metadata": {},
     "output_type": "execute_result"
    }
   ],
   "source": [
    "s.val, s.next.val, s.next.next.val"
   ]
  },
  {
   "cell_type": "code",
   "execution_count": 20,
   "metadata": {},
   "outputs": [],
   "source": [
    "# That atleast is working. "
   ]
  },
  {
   "cell_type": "markdown",
   "metadata": {},
   "source": [
    "## [Linked List Cycle](https://leetcode.com/problems/linked-list-cycle/)"
   ]
  },
  {
   "cell_type": "raw",
   "metadata": {},
   "source": [
    "Given head, the head of a linked list, determine if the linked list has a cycle in it.\n",
    "\n",
    "There is a cycle in a linked list if there is some node in the list that can be reached again by continuously following the next pointer. Internally, pos is used to denote the index of the node that tail's next pointer is connected to. Note that pos is not passed as a parameter.\n",
    "\n",
    "Return true if there is a cycle in the linked list. Otherwise, return false.\n",
    "\n",
    " \n",
    "\n",
    "Example 1:\n",
    "\n",
    "Input: head = [3,2,0,-4], pos = 1\n",
    "Output: true\n",
    "Explanation: There is a cycle in the linked list, where the tail connects to the 1st node (0-indexed).\n",
    "\n",
    "\n",
    "Example 2:\n",
    "\n",
    "\n",
    "Input: head = [1,2], pos = 0\n",
    "Output: true\n",
    "Explanation: There is a cycle in the linked list, where the tail connects to the 0th node.\n",
    "\n",
    "\n",
    "Example 3:\n",
    "\n",
    "\n",
    "Input: head = [1], pos = -1\n",
    "Output: false\n",
    "Explanation: There is no cycle in the linked list.\n",
    " \n",
    "\n",
    "Constraints:\n",
    "\n",
    "The number of the nodes in the list is in the range [0, 10^4].\n",
    "-10^5 <= Node.val <= 10^5\n",
    "pos is -1 or a valid index in the linked-list.\n",
    " \n",
    "\n",
    "Follow up: Can you solve it using O(1) (i.e. constant) memory?"
   ]
  },
  {
   "cell_type": "code",
   "execution_count": 28,
   "metadata": {},
   "outputs": [],
   "source": [
    "# Solution\n",
    "# If we can use O(n) space we can just put the elements in a dict or even better a set and then keep on checking \n",
    "# through the iteration if it's in the dict or not and keep on adding the element to the dict. Two things will happen\n",
    "# Either we arrive at an element already present in the dict, means there is a cycle or we arrive at the end of the \n",
    "# list which implies no cycle. To find the cycle in O(1) space you need to know the Floyds cycle detection algorithm\n",
    "# It says if there is a slow pointer jumping one step at a time and a fast pointer jumping two steps at a point when\n",
    "# starting from the same point they should never meet at a point unless there is a cycle. Let's build it"
   ]
  },
  {
   "cell_type": "code",
   "execution_count": 29,
   "metadata": {},
   "outputs": [],
   "source": [
    "# Implementation\n",
    "def hasCycle(head):\n",
    "    slow = fast = head\n",
    "    while fast and fast.next:\n",
    "        slow = slow.next\n",
    "        fast = fast.next.next\n",
    "        if slow == fast:\n",
    "            return True\n",
    "    return False\n",
    "        "
   ]
  },
  {
   "cell_type": "code",
   "execution_count": 30,
   "metadata": {},
   "outputs": [],
   "source": [
    "# That was bingo"
   ]
  },
  {
   "cell_type": "code",
   "execution_count": null,
   "metadata": {},
   "outputs": [],
   "source": []
  }
 ],
 "metadata": {
  "kernelspec": {
   "display_name": "Python 3",
   "language": "python",
   "name": "python3"
  },
  "language_info": {
   "codemirror_mode": {
    "name": "ipython",
    "version": 3
   },
   "file_extension": ".py",
   "mimetype": "text/x-python",
   "name": "python",
   "nbconvert_exporter": "python",
   "pygments_lexer": "ipython3",
   "version": "3.8.3"
  }
 },
 "nbformat": 4,
 "nbformat_minor": 4
}
