{
 "cells": [
  {
   "cell_type": "markdown",
   "metadata": {},
   "source": [
    "## Trees"
   ]
  },
  {
   "cell_type": "code",
   "execution_count": 1,
   "metadata": {},
   "outputs": [],
   "source": [
    "# Python testing module\n",
    "import ipytest\n",
    "ipytest.autoconfig()\n",
    "import pytest"
   ]
  },
  {
   "cell_type": "markdown",
   "metadata": {},
   "source": [
    "## [Maximum Depth of Binary Tree](https://leetcode.com/problems/maximum-depth-of-binary-tree/)"
   ]
  },
  {
   "cell_type": "raw",
   "metadata": {},
   "source": [
    "Given the root of a binary tree, return its maximum depth.\n",
    "\n",
    "A binary tree's maximum depth is the number of nodes along the longest path from the root node down to the farthest leaf node.\n",
    "\n",
    " \n",
    "Example 1:\n",
    "\n",
    "Input: root = [3,9,20,null,null,15,7]\n",
    "Output: 3\n",
    "\n",
    "Example 2:\n",
    "\n",
    "Input: root = [1,null,2]\n",
    "Output: 2\n",
    " \n",
    "Constraints:\n",
    "\n",
    "The number of nodes in the tree is in the range [0, 10^4].\n",
    "-100 <= Node.val <= 100\n"
   ]
  },
  {
   "cell_type": "code",
   "execution_count": 2,
   "metadata": {},
   "outputs": [],
   "source": [
    "# Solution\n",
    "# Simple recursive solution will have the base case where we have reached a leaf node then return 0. Else return\n",
    "# 1 (for the current level) and whatever the value of recursive call to its left and right child will be"
   ]
  },
  {
   "cell_type": "code",
   "execution_count": 3,
   "metadata": {},
   "outputs": [],
   "source": [
    "# Implementation - Recursive (DFS)\n",
    "def maxDepth(root):\n",
    "    if not root:\n",
    "        return 0\n",
    "    return 1 + max(self.maxDepth(root.left), self.maxDepth(root.right))"
   ]
  },
  {
   "cell_type": "code",
   "execution_count": 4,
   "metadata": {},
   "outputs": [],
   "source": [
    "# Implementation - Iterative (BFS)\n",
    "def maxDepth(root):\n",
    "    if not root:\n",
    "        return 0\n",
    "    levels = 0\n",
    "    curr_level_nodes = 1 # root has only one element\n",
    "    nodes = deque([root])\n",
    "    while nodes:\n",
    "        node = nodes.popleft()\n",
    "        if node.left:\n",
    "            nodes.append(node.left)\n",
    "        if node.right:\n",
    "            nodes.append(node.right)\n",
    "        curr_level_nodes -= 1\n",
    "        if curr_level_nodes == 0:  # Means current level nodes have been traversed through\n",
    "            levels += 1 # So we increase the level counter by 1\n",
    "            curr_level_nodes = len(nodes) # All the next level elements are populated in nodes.\n",
    "    return levels"
   ]
  },
  {
   "cell_type": "markdown",
   "metadata": {},
   "source": [
    "## [Vertical Order Traversal of a Binary Tree](https://leetcode.com/problems/vertical-order-traversal-of-a-binary-tree)"
   ]
  },
  {
   "cell_type": "code",
   "execution_count": null,
   "metadata": {},
   "outputs": [],
   "source": []
  },
  {
   "cell_type": "code",
   "execution_count": null,
   "metadata": {},
   "outputs": [],
   "source": []
  },
  {
   "cell_type": "code",
   "execution_count": 10,
   "metadata": {},
   "outputs": [
    {
     "data": {
      "text/plain": [
       "[3, 15]"
      ]
     },
     "execution_count": 10,
     "metadata": {},
     "output_type": "execute_result"
    }
   ],
   "source": [
    "def verticalTraversal(root):\n",
    "    verticals = collections.defaultdict(list)\n",
    "    queue = collections.deque([[root, 0, 0]])\n",
    "    while queue:\n",
    "        node, x, y = queue.popleft()\n",
    "        verticals[x].append((y, node.val))\n",
    "        if node.left:\n",
    "            queue.append([node.left, x - 1, y + 1])\n",
    "        if node.right:\n",
    "            queue.append([node.right, x + 1, y + 1])\n",
    "    res = []\n",
    "    for x in sorted(verticals.keys()):\n",
    "        res.append([i[1] for i in sorted(verticals[x])])\n",
    "    return res\n",
    "        "
   ]
  },
  {
   "cell_type": "code",
   "execution_count": null,
   "metadata": {},
   "outputs": [],
   "source": []
  },
  {
   "cell_type": "code",
   "execution_count": null,
   "metadata": {},
   "outputs": [],
   "source": [
    "%%ipytest \n",
    "def test_lengthOfLongestSubstring():\n",
    "    assert lengthOfLongestSubstring(\"abcabcbb\") == 3\n",
    "    assert lengthOfLongestSubstring(\"bbbbb\") == 1\n",
    "    assert lengthOfLongestSubstring(\"pwwkew\") == 3"
   ]
  }
 ],
 "metadata": {
  "kernelspec": {
   "display_name": "Python 3",
   "language": "python",
   "name": "python3"
  },
  "language_info": {
   "codemirror_mode": {
    "name": "ipython",
    "version": 3
   },
   "file_extension": ".py",
   "mimetype": "text/x-python",
   "name": "python",
   "nbconvert_exporter": "python",
   "pygments_lexer": "ipython3",
   "version": "3.8.3"
  }
 },
 "nbformat": 4,
 "nbformat_minor": 4
}
