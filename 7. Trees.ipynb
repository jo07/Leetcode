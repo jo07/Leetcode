{
 "cells": [
  {
   "cell_type": "markdown",
   "metadata": {},
   "source": [
    "## Trees"
   ]
  },
  {
   "cell_type": "code",
   "execution_count": 1,
   "metadata": {},
   "outputs": [],
   "source": [
    "# Python testing module\n",
    "import ipytest\n",
    "ipytest.autoconfig()\n",
    "import pytest"
   ]
  },
  {
   "cell_type": "markdown",
   "metadata": {},
   "source": [
    "## [Maximum Depth of Binary Tree](https://leetcode.com/problems/maximum-depth-of-binary-tree/)"
   ]
  },
  {
   "cell_type": "raw",
   "metadata": {},
   "source": [
    "Given the root of a binary tree, return its maximum depth.\n",
    "\n",
    "A binary tree's maximum depth is the number of nodes along the longest path from the root node down to the farthest leaf node.\n",
    "\n",
    " \n",
    "Example 1:\n",
    "\n",
    "Input: root = [3,9,20,null,null,15,7]\n",
    "Output: 3\n",
    "\n",
    "Example 2:\n",
    "\n",
    "Input: root = [1,null,2]\n",
    "Output: 2\n",
    " \n",
    "Constraints:\n",
    "\n",
    "The number of nodes in the tree is in the range [0, 10^4].\n",
    "-100 <= Node.val <= 100\n"
   ]
  },
  {
   "cell_type": "code",
   "execution_count": 2,
   "metadata": {},
   "outputs": [],
   "source": [
    "# Solution\n",
    "# Simple recursive solution will have the base case where we have reached a leaf node then return 0. Else return\n",
    "# 1 (for the current level) and whatever the value of recursive call to its left and right child will be"
   ]
  },
  {
   "cell_type": "code",
   "execution_count": 3,
   "metadata": {},
   "outputs": [],
   "source": [
    "# Implementation - Recursive (DFS)\n",
    "def maxDepth(root):\n",
    "    if not root:\n",
    "        return 0\n",
    "    return 1 + max(self.maxDepth(root.left), self.maxDepth(root.right))"
   ]
  },
  {
   "cell_type": "code",
   "execution_count": 4,
   "metadata": {},
   "outputs": [],
   "source": [
    "# Implementation - Iterative (BFS)\n",
    "def maxDepth(root):\n",
    "    if not root:\n",
    "        return 0\n",
    "    levels = 0\n",
    "    curr_level_nodes = 1 # root has only one element\n",
    "    nodes = deque([root])\n",
    "    while nodes:\n",
    "        node = nodes.popleft()\n",
    "        if node.left:\n",
    "            nodes.append(node.left)\n",
    "        if node.right:\n",
    "            nodes.append(node.right)\n",
    "        curr_level_nodes -= 1\n",
    "        if curr_level_nodes == 0:  # Means current level nodes have been traversed through\n",
    "            levels += 1 # So we increase the level counter by 1\n",
    "            curr_level_nodes = len(nodes) # All the next level elements are populated in nodes.\n",
    "    return levels"
   ]
  },
  {
   "cell_type": "markdown",
   "metadata": {},
   "source": [
    "## [Vertical Order Traversal of a Binary Tree](https://leetcode.com/problems/vertical-order-traversal-of-a-binary-tree)"
   ]
  },
  {
   "cell_type": "code",
   "execution_count": 21,
   "metadata": {},
   "outputs": [],
   "source": [
    "# Solution\n",
    "# We know the relative cordinates of each node and we start from (0,0) which is the root. We can traverse through the\n",
    "# tree and keep on storing the coordinates and the value in a dictionary by using the x cordinates as the key since\n",
    "# we will need to sort each verticals first. Then we will sort the values in each vertical, put it in a list and \n",
    "# append it to the result list of lists. TADA"
   ]
  },
  {
   "cell_type": "code",
   "execution_count": 22,
   "metadata": {},
   "outputs": [],
   "source": [
    "# Implementation\n",
    "def verticalTraversal(root):\n",
    "    verticals = collections.defaultdict(list)\n",
    "    queue = collections.deque([[root, 0, 0]])\n",
    "    while queue:\n",
    "        node, x, y = queue.popleft()\n",
    "        verticals[x].append((y, node.val))\n",
    "        if node.left:\n",
    "            queue.append([node.left, x - 1, y + 1])\n",
    "        if node.right:\n",
    "            queue.append([node.right, x + 1, y + 1])\n",
    "    res = []\n",
    "    for x in sorted(verticals.keys()):\n",
    "        res.append([i[1] for i in sorted(verticals[x])])\n",
    "    return res\n",
    "        "
   ]
  },
  {
   "cell_type": "markdown",
   "metadata": {},
   "source": [
    "## [Invert Binary Tree](https://leetcode.com/problems/invert-binary-tree/)"
   ]
  },
  {
   "cell_type": "raw",
   "metadata": {},
   "source": [
    "Given the root of a binary tree, invert the tree, and return its root.\n",
    "\n",
    "Example 1:\n",
    "\n",
    "Input: root = [4,2,7,1,3,6,9]\n",
    "Output: [4,7,2,9,6,3,1]\n",
    "\n",
    "Example 2:\n",
    "\n",
    "Input: root = [2,1,3]\n",
    "Output: [2,3,1]\n",
    "\n",
    "Example 3:\n",
    "\n",
    "Input: root = []\n",
    "Output: []\n",
    " \n",
    "\n",
    "Constraints:\n",
    "\n",
    "The number of nodes in the tree is in the range [0, 100].\n",
    "-100 <= Node.val <= 100"
   ]
  },
  {
   "cell_type": "code",
   "execution_count": 23,
   "metadata": {},
   "outputs": [],
   "source": [
    "# Solution\n",
    "# This looks easy. We can traverse the tree in DFS and swap left and right nodes"
   ]
  },
  {
   "cell_type": "code",
   "execution_count": 24,
   "metadata": {},
   "outputs": [],
   "source": [
    "# Implementation\n",
    "def invertTree(root):\n",
    "    if root:\n",
    "        root.left, root.right = invertTree(root.right), invertTree(root.left)\n",
    "    return root"
   ]
  },
  {
   "cell_type": "markdown",
   "metadata": {},
   "source": [
    "## [Binary Tree Maximum Path Sum](https://leetcode.com/problems/binary-tree-maximum-path-sum/submissions/)"
   ]
  },
  {
   "cell_type": "raw",
   "metadata": {},
   "source": [
    "A path in a binary tree is a sequence of nodes where each pair of adjacent nodes in the sequence has an edge connecting them. A node can only appear in the sequence at most once. Note that the path does not need to pass through the root.\n",
    "\n",
    "The path sum of a path is the sum of the node's values in the path.\n",
    "\n",
    "Given the root of a binary tree, return the maximum path sum of any non-empty path.\n",
    "\n",
    " \n",
    "\n",
    "Example 1:\n",
    "\n",
    "Input: root = [1,2,3]\n",
    "Output: 6\n",
    "Explanation: The optimal path is 2 -> 1 -> 3 with a path sum of 2 + 1 + 3 = 6.\n",
    "\n",
    "\n",
    "Example 2:\n",
    "\n",
    "Input: root = [-10,9,20,null,null,15,7]\n",
    "Output: 42\n",
    "Explanation: The optimal path is 15 -> 20 -> 7 with a path sum of 15 + 20 + 7 = 42.\n",
    " \n",
    "\n",
    "Constraints:\n",
    "\n",
    "The number of nodes in the tree is in the range [1, 3 * 10^4].\n",
    "-1000 <= Node.val <= 1000"
   ]
  },
  {
   "cell_type": "code",
   "execution_count": 26,
   "metadata": {},
   "outputs": [],
   "source": [
    "# Solution\n",
    "# This is tricky till you understand it. The main thing to note is the maxPathSum may not necessarily pass through\n",
    "# the root. So we will go bottoom up. NULL nodes cam contribute a maximum of '0' so does the nodes with negative \n",
    "# values. So we will calculate the max sum involving a path going through current node as the root node and compare\n",
    "# it with the global (nonlocal in our case, since we can't define a global variable outside the class) maxpath and\n",
    "# update the global (nonlocal) maxpath. We will traverse the tree recursively and each call will be returning the \n",
    "# max gain that node can provide but not as a root node(since we already calculated that and that node could also be\n",
    "# part of the path but not as a root) so the max gain that node can give not as a root node is the max gain of its\n",
    "# left or right node plus the value of the node itself. Yumm!!\n"
   ]
  },
  {
   "cell_type": "code",
   "execution_count": null,
   "metadata": {},
   "outputs": [],
   "source": [
    "#Implementation\n",
    "def maxPathSum(root):\n",
    "    maxPath = -float(\"inf\")\n",
    "    def getMaxGain(node):\n",
    "        nonlocal maxPath\n",
    "        if not node:\n",
    "            return 0\n",
    "        gain_on_left = max(getMaxGain(node.left), 0)\n",
    "        gain_on_right = max(getMaxGain(node.right), 0)\n",
    "\n",
    "        maxPath = max(maxPath, gain_on_left + node.val + gain_on_right)\n",
    "        return node.val + max(gain_on_left, gain_on_right)\n",
    "    getMaxGain(root) # that value if greater, is already updated on maxPath\n",
    "    return maxPath"
   ]
  },
  {
   "cell_type": "code",
   "execution_count": null,
   "metadata": {},
   "outputs": [],
   "source": [
    "%%ipytest \n",
    "def test_lengthOfLongestSubstring():\n",
    "    assert lengthOfLongestSubstring(\"abcabcbb\") == 3\n",
    "    assert lengthOfLongestSubstring(\"bbbbb\") == 1\n",
    "    assert lengthOfLongestSubstring(\"pwwkew\") == 3"
   ]
  },
  {
   "cell_type": "markdown",
   "metadata": {},
   "source": [
    "## [Binary Tree Level Order Traversal](https://leetcode.com/problems/binary-tree-level-order-traversal/submissions/)"
   ]
  },
  {
   "cell_type": "raw",
   "metadata": {},
   "source": [
    "Given the root of a binary tree, return the level order traversal of its nodes' values. (i.e., from left to right, level by level).\n",
    "\n",
    " \n",
    "\n",
    "Example 1:\n",
    "\n",
    "\n",
    "Input: root = [3,9,20,null,null,15,7]\n",
    "Output: [[3],[9,20],[15,7]]\n",
    "\n",
    "\n",
    "Example 2:\n",
    "\n",
    "Input: root = [1]\n",
    "Output: [[1]]\n",
    "\n",
    "\n",
    "Example 3:\n",
    "\n",
    "Input: root = []\n",
    "Output: []\n",
    " \n",
    "\n",
    "Constraints:\n",
    "\n",
    "The number of nodes in the tree is in the range [0, 2000].\n",
    "-1000 <= Node.val <= 1000"
   ]
  },
  {
   "cell_type": "code",
   "execution_count": 27,
   "metadata": {},
   "outputs": [],
   "source": [
    "# Solution\n",
    "# It's simple. Since we need to put each levels in different lists inside the result list we will need to keep track\n",
    "# of these two results. The result will contain the final result but will start as an empty list. The level list will\n",
    "# contain the nodes in the current level. So initially it just contains root node. Now we keep popping values from \n",
    "# the level nodes to a list and append that list to the result set. We also need the left and right child of the \n",
    "# nodes in the current level list to populate the next level nodes. So we do another loop over the levels to get it's\n",
    "# left and right child and reassign it to the levels. End conditions are if a root is empty it will return the empty\n",
    "# list and ones we reach leaf node levels the level list slowly (or abrubtly if its a balanced tree) starts to shrink\n",
    "# to an emptly list and we get out of the while loop"
   ]
  },
  {
   "cell_type": "code",
   "execution_count": 28,
   "metadata": {},
   "outputs": [],
   "source": [
    "# Implementation\n",
    "def levelOrder(root):\n",
    "    res, level = [],  [root]\n",
    "    while root and level:\n",
    "        res.append([ node.val for node in level])\n",
    "        level = [child for parent in level for child in [parent.left, parent.right] if child]\n",
    "    return res"
   ]
  },
  {
   "cell_type": "markdown",
   "metadata": {},
   "source": [
    "## [Serialize and Deserialize Binary Tree](https://leetcode.com/problems/serialize-and-deserialize-binary-tree/)"
   ]
  },
  {
   "cell_type": "raw",
   "metadata": {},
   "source": [
    "Serialization is the process of converting a data structure or object into a sequence of bits so that it can be stored in a file or memory buffer, or transmitted across a network connection link to be reconstructed later in the same or another computer environment.\n",
    "\n",
    "Design an algorithm to serialize and deserialize a binary tree. There is no restriction on how your serialization/deserialization algorithm should work. You just need to ensure that a binary tree can be serialized to a string and this string can be deserialized to the original tree structure.\n",
    "\n",
    "Clarification: The input/output format is the same as how LeetCode serializes a binary tree. You do not necessarily need to follow this format, so please be creative and come up with different approaches yourself.\n",
    "\n",
    " \n",
    "\n",
    "Example 1:\n",
    "\n",
    "\n",
    "Input: root = [1,2,3,null,null,4,5]\n",
    "Output: [1,2,3,null,null,4,5]\n",
    "\n",
    "\n",
    "Example 2:\n",
    "\n",
    "Input: root = []\n",
    "Output: []\n",
    " \n",
    "\n",
    "Constraints:\n",
    "\n",
    "The number of nodes in the tree is in the range [0, 10^4].\n",
    "-1000 <= Node.val <= 1000"
   ]
  },
  {
   "cell_type": "code",
   "execution_count": 30,
   "metadata": {},
   "outputs": [],
   "source": [
    "# Solution\n",
    "# Very interesting problem. For serialisation we can use a '#' or any other non integer character to define a NULL\n",
    "# or a non existent node. We take each node append it as a string to a string and recursively check for left and right\n",
    "# nodes and keep doing the same thing till the end. For deserializing, we need to iterate over the input string and\n",
    "# and make it a tree node if it's not a '#' or whatever non integer character we chose and recursively call it left\n",
    "# and right child till we find the '#' and return"
   ]
  },
  {
   "cell_type": "code",
   "execution_count": 44,
   "metadata": {},
   "outputs": [],
   "source": [
    "class Codec:\n",
    "\n",
    "    def serialize(self, root):\n",
    "        \"\"\"Encodes a tree to a single string.\n",
    "        \n",
    "        :type root: TreeNode\n",
    "        :rtype: str\n",
    "        \"\"\"\n",
    "        def serializer(node):\n",
    "            if node:\n",
    "                val.append(str(node.val))\n",
    "                serializer(node.left)\n",
    "                serializer(node.right)\n",
    "            else:\n",
    "                val.append(\"#\")\n",
    "            \n",
    "        val = []\n",
    "        serializer(root)\n",
    "        return \" \".join(val)\n",
    "\n",
    "    def deserialize(self, data):\n",
    "        \"\"\"Decodes your encoded data to tree.\n",
    "        \n",
    "        :type data: str\n",
    "        :rtype: TreeNode\n",
    "        \"\"\"\n",
    "        def deserializer():\n",
    "            item = next(val)\n",
    "            if item != '#':\n",
    "                node = TreeNode(int(item))\n",
    "                node.left = deserializer()\n",
    "                node.right = deserializer()\n",
    "                return node\n",
    "            else:\n",
    "                return None\n",
    "        val = iter(data.split())\n",
    "        return deserializer()\n"
   ]
  },
  {
   "cell_type": "code",
   "execution_count": 45,
   "metadata": {},
   "outputs": [],
   "source": [
    "s = iter(\"h e l lo\".split())"
   ]
  },
  {
   "cell_type": "code",
   "execution_count": 46,
   "metadata": {},
   "outputs": [
    {
     "data": {
      "text/plain": [
       "'h'"
      ]
     },
     "execution_count": 46,
     "metadata": {},
     "output_type": "execute_result"
    }
   ],
   "source": [
    "next(s)"
   ]
  },
  {
   "cell_type": "code",
   "execution_count": null,
   "metadata": {},
   "outputs": [],
   "source": []
  }
 ],
 "metadata": {
  "kernelspec": {
   "display_name": "Python 3",
   "language": "python",
   "name": "python3"
  },
  "language_info": {
   "codemirror_mode": {
    "name": "ipython",
    "version": 3
   },
   "file_extension": ".py",
   "mimetype": "text/x-python",
   "name": "python",
   "nbconvert_exporter": "python",
   "pygments_lexer": "ipython3",
   "version": "3.8.3"
  }
 },
 "nbformat": 4,
 "nbformat_minor": 4
}
