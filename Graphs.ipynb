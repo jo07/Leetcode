{
 "cells": [
  {
   "cell_type": "code",
   "execution_count": 1,
   "metadata": {},
   "outputs": [],
   "source": [
    "# Python testing module\n",
    "import ipytest\n",
    "ipytest.autoconfig()\n",
    "import pytest"
   ]
  },
  {
   "cell_type": "markdown",
   "metadata": {},
   "source": [
    "## [Clone graph](https://leetcode.com/problems/clone-graph/)"
   ]
  },
  {
   "cell_type": "raw",
   "metadata": {},
   "source": [
    "Given a reference of a node in a connected undirected graph.\n",
    "\n",
    "Return a deep copy (clone) of the graph.\n",
    "\n",
    "Each node in the graph contains a value (int) and a list (List[Node]) of its neighbors.\n",
    "\n",
    "class Node {\n",
    "    public int val;\n",
    "    public List<Node> neighbors;\n",
    "}\n",
    " \n",
    "\n",
    "Test case format:\n",
    "\n",
    "For simplicity, each node's value is the same as the node's index (1-indexed). For example, the first node with val == 1, the second node with val == 2, and so on. The graph is represented in the test case using an adjacency list.\n",
    "\n",
    "An adjacency list is a collection of unordered lists used to represent a finite graph. Each list describes the set of neighbors of a node in the graph.\n",
    "\n",
    "The given node will always be the first node with val = 1. You must return the copy of the given node as a reference to the cloned graph.\n",
    "\n",
    " \n",
    "\n",
    "Example 1:\n",
    "\n",
    "\n",
    "Input: adjList = [[2,4],[1,3],[2,4],[1,3]]\n",
    "Output: [[2,4],[1,3],[2,4],[1,3]]\n",
    "Explanation: There are 4 nodes in the graph.\n",
    "1st node (val = 1)'s neighbors are 2nd node (val = 2) and 4th node (val = 4).\n",
    "2nd node (val = 2)'s neighbors are 1st node (val = 1) and 3rd node (val = 3).\n",
    "3rd node (val = 3)'s neighbors are 2nd node (val = 2) and 4th node (val = 4).\n",
    "4th node (val = 4)'s neighbors are 1st node (val = 1) and 3rd node (val = 3).\n",
    "Example 2:\n",
    "\n",
    "\n",
    "Input: adjList = [[]]\n",
    "Output: [[]]\n",
    "Explanation: Note that the input contains one empty list. The graph consists of only one node with val = 1 and it does not have any neighbors.\n",
    "Example 3:\n",
    "\n",
    "Input: adjList = []\n",
    "Output: []\n",
    "Explanation: This an empty graph, it does not have any nodes.\n",
    " \n",
    "\n",
    "Constraints:\n",
    "\n",
    "The number of nodes in the graph is in the range [0, 100].\n",
    "1 <= Node.val <= 100\n",
    "Node.val is unique for each node.\n",
    "There are no repeated edges and no self-loops in the graph.\n",
    "The Graph is connected and all nodes can be visited starting from the given node."
   ]
  },
  {
   "cell_type": "raw",
   "metadata": {},
   "source": [
    "Solution\n",
    "This is basically parsing the entire graph and creating a clone node by node. We need a dic to keep track of the \n",
    "nodes visited and cloned. And a BFT or DFT to traverse the graph and a stack or queue to keep track of the nodes\n",
    "to process next"
   ]
  },
  {
   "cell_type": "code",
   "execution_count": 2,
   "metadata": {},
   "outputs": [],
   "source": [
    "# Implementation\n",
    "def cloneGraph(node):\n",
    "    if not node:\n",
    "        return node\n",
    "    # dq is the original graph, clone is the clone :P\n",
    "    dq, clone = deque([node]), {node.val: Node(node.val, [])}\n",
    "    while dq:\n",
    "        cur = dq.popleft()\n",
    "        cur_clone = clone[cur.val]\n",
    "        \n",
    "        for neigh in cur.neigbhors:\n",
    "            if neigh.val not in clone:\n",
    "                clone[neigh.val] =  Node(neigh.val, [])\n",
    "                dq.append(neigh)\n",
    "                \n",
    "            cur_clone.neighbors.append(clone[neigh.val])\n",
    "    return clone[node.val]\n",
    "            "
   ]
  },
  {
   "cell_type": "markdown",
   "metadata": {},
   "source": [
    "## [Course Schedule](https://leetcode.com/problems/course-schedule/)"
   ]
  },
  {
   "cell_type": "raw",
   "metadata": {},
   "source": [
    "There are a total of numCourses courses you have to take, labeled from 0 to numCourses - 1. You are given an array prerequisites where prerequisites[i] = [ai, bi] indicates that you must take course bi first if you want to take course ai.\n",
    "\n",
    "For example, the pair [0, 1], indicates that to take course 0 you have to first take course 1.\n",
    "Return true if you can finish all courses. Otherwise, return false.\n",
    "\n",
    "Example 1:\n",
    "\n",
    "Input: numCourses = 2, prerequisites = [[1,0]]\n",
    "Output: true\n",
    "Explanation: There are a total of 2 courses to take. \n",
    "To take course 1 you should have finished course 0. So it is possible.\n",
    "Example 2:\n",
    "\n",
    "Input: numCourses = 2, prerequisites = [[1,0],[0,1]]\n",
    "Output: false\n",
    "Explanation: There are a total of 2 courses to take. \n",
    "To take course 1 you should have finished course 0, and to take course 0 you should also have finished course 1. So it is impossible.\n",
    " \n",
    "Constraints:\n",
    "\n",
    "1 <= numCourses <= 105\n",
    "0 <= prerequisites.length <= 5000\n",
    "prerequisites[i].length == 2\n",
    "0 <= ai, bi < numCourses\n",
    "All the pairs prerequisites[i] are unique."
   ]
  },
  {
   "cell_type": "raw",
   "metadata": {},
   "source": [
    "# Solution\n",
    "First we need to create an adjacency list since the edge list given is not optimal to solve graph problems.\n",
    "Then we would need a function to check cycles given a vertex. For each vertex we can do a dfs and mark it as processed, in process or not visited in a list. And if we visit an 'in processing' node that means there is a cycle.\n",
    "We can stop right there since we need to do all the courses. We need to check if there is cycle in any of the vertices. So we call the is_cycle function on each vertices(nodes) of the graph."
   ]
  },
  {
   "cell_type": "code",
   "execution_count": null,
   "metadata": {},
   "outputs": [],
   "source": [
    "def canFinish(numCourses, prerequisites ):\n",
    "    \n",
    "    #build adjacency list\n",
    "    adj_list = [[] for _ in range(numCourses)]\n",
    "    for x, y in prerequisites:\n",
    "        adj_list[y].append(x)\n",
    "    \n",
    "    visited = [0] * numCourses\n",
    "    def is_cycle(v):\n",
    "        \n",
    "        if visited[v] == 1: # completed processing\n",
    "            return False\n",
    "        if visited[v] == -1: # In processing and means there is a cycle\n",
    "            return True\n",
    "        \n",
    "        visited[v] = -1 # start processing the course\n",
    "        for course in adj_list[v]:\n",
    "            if is_cycle(course):\n",
    "                return True\n",
    "        \n",
    "        # done processing the course and no cycles found yet\n",
    "        visited[v] = 1 # set as processed\n",
    "        \n",
    "        return False # No cycles found\n",
    "        \n",
    "    \n",
    "    # find cycles for all vertices\n",
    "    for course in range(numCourses):\n",
    "        if is_cycle(course):\n",
    "            return False\n",
    "    # After traversing through all the courses, no cycles found \n",
    "    return True"
   ]
  },
  {
   "cell_type": "code",
   "execution_count": 3,
   "metadata": {},
   "outputs": [
    {
     "data": {
      "text/plain": [
       "[]"
      ]
     },
     "execution_count": 3,
     "metadata": {},
     "output_type": "execute_result"
    }
   ],
   "source": [
    "[]*10"
   ]
  },
  {
   "cell_type": "code",
   "execution_count": 4,
   "metadata": {},
   "outputs": [
    {
     "data": {
      "text/plain": [
       "[[], [], [], [], [], [], [], [], [], []]"
      ]
     },
     "execution_count": 4,
     "metadata": {},
     "output_type": "execute_result"
    }
   ],
   "source": [
    "[[] for _ in range(10)]"
   ]
  },
  {
   "cell_type": "markdown",
   "metadata": {},
   "source": [
    "## [Pacific Atlantic Water Flow](https://leetcode.com/problems/pacific-atlantic-water-flow/)"
   ]
  },
  {
   "cell_type": "raw",
   "metadata": {},
   "source": [
    "There is an m x n rectangular island that borders both the Pacific Ocean and Atlantic Ocean. The Pacific Ocean touches the island's left and top edges, and the Atlantic Ocean touches the island's right and bottom edges.\n",
    "\n",
    "The island is partitioned into a grid of square cells. You are given an m x n integer matrix heights where heights[r][c] represents the height above sea level of the cell at coordinate (r, c).\n",
    "\n",
    "The island receives a lot of rain, and the rain water can flow to neighboring cells directly north, south, east, and west if the neighboring cell's height is less than or equal to the current cell's height. Water can flow from any cell adjacent to an ocean into the ocean.\n",
    "\n",
    "Return a 2D list of grid coordinates result where result[i] = [ri, ci] denotes that rain water can flow from cell (ri, ci) to both the Pacific and Atlantic oceans.\n",
    "\n",
    " \n",
    "\n",
    "Example 1:\n",
    "\n",
    "\n",
    "Input: heights = [[1,2,2,3,5],[3,2,3,4,4],[2,4,5,3,1],[6,7,1,4,5],[5,1,1,2,4]]\n",
    "Output: [[0,4],[1,3],[1,4],[2,2],[3,0],[3,1],[4,0]]\n",
    "Example 2:\n",
    "\n",
    "Input: heights = [[2,1],[1,2]]\n",
    "Output: [[0,0],[0,1],[1,0],[1,1]]\n",
    " \n",
    "\n",
    "Constraints:\n",
    "\n",
    "m == heights.length\n",
    "n == heights[r].length\n",
    "1 <= m, n <= 200\n",
    "0 <= heights[r][c] <= 10^5"
   ]
  },
  {
   "cell_type": "raw",
   "metadata": {},
   "source": [
    "Solution\n",
    "We need two sets one to check if a coordinate can reach the pacific and one for atlantic. The top and left edges are sure shot reachable to pacific and right and bottom edges can reach atlantic. Using those as the starting point check if the positions at all the directions is greater or equal to the node. If yes, those node can reach the oceans too.\n",
    "Once we have the pacific and atlantic visit sets, the '&' of both will give us the result set."
   ]
  },
  {
   "cell_type": "code",
   "execution_count": null,
   "metadata": {},
   "outputs": [],
   "source": []
  },
  {
   "cell_type": "code",
   "execution_count": null,
   "metadata": {},
   "outputs": [],
   "source": []
  },
  {
   "cell_type": "code",
   "execution_count": null,
   "metadata": {},
   "outputs": [],
   "source": [
    "%%ipytest \n",
    "def test_climbStairs():\n",
    "    assert climbStairs(2) == 2\n",
    "    assert climbStairs(3) == 3"
   ]
  }
 ],
 "metadata": {
  "kernelspec": {
   "display_name": "Python 3",
   "language": "python",
   "name": "python3"
  },
  "language_info": {
   "codemirror_mode": {
    "name": "ipython",
    "version": 3
   },
   "file_extension": ".py",
   "mimetype": "text/x-python",
   "name": "python",
   "nbconvert_exporter": "python",
   "pygments_lexer": "ipython3",
   "version": "3.8.3"
  }
 },
 "nbformat": 4,
 "nbformat_minor": 4
}
