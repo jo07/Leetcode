{
 "cells": [
  {
   "cell_type": "code",
   "execution_count": 1,
   "metadata": {},
   "outputs": [],
   "source": [
    "# Python testing module\n",
    "import ipytest\n",
    "ipytest.autoconfig()\n",
    "import pytest"
   ]
  },
  {
   "cell_type": "markdown",
   "metadata": {},
   "source": [
    "## [Clone graph](https://leetcode.com/problems/clone-graph/)"
   ]
  },
  {
   "cell_type": "raw",
   "metadata": {},
   "source": [
    "Given a reference of a node in a connected undirected graph.\n",
    "\n",
    "Return a deep copy (clone) of the graph.\n",
    "\n",
    "Each node in the graph contains a value (int) and a list (List[Node]) of its neighbors.\n",
    "\n",
    "class Node {\n",
    "    public int val;\n",
    "    public List<Node> neighbors;\n",
    "}\n",
    " \n",
    "\n",
    "Test case format:\n",
    "\n",
    "For simplicity, each node's value is the same as the node's index (1-indexed). For example, the first node with val == 1, the second node with val == 2, and so on. The graph is represented in the test case using an adjacency list.\n",
    "\n",
    "An adjacency list is a collection of unordered lists used to represent a finite graph. Each list describes the set of neighbors of a node in the graph.\n",
    "\n",
    "The given node will always be the first node with val = 1. You must return the copy of the given node as a reference to the cloned graph.\n",
    "\n",
    " \n",
    "\n",
    "Example 1:\n",
    "\n",
    "\n",
    "Input: adjList = [[2,4],[1,3],[2,4],[1,3]]\n",
    "Output: [[2,4],[1,3],[2,4],[1,3]]\n",
    "Explanation: There are 4 nodes in the graph.\n",
    "1st node (val = 1)'s neighbors are 2nd node (val = 2) and 4th node (val = 4).\n",
    "2nd node (val = 2)'s neighbors are 1st node (val = 1) and 3rd node (val = 3).\n",
    "3rd node (val = 3)'s neighbors are 2nd node (val = 2) and 4th node (val = 4).\n",
    "4th node (val = 4)'s neighbors are 1st node (val = 1) and 3rd node (val = 3).\n",
    "Example 2:\n",
    "\n",
    "\n",
    "Input: adjList = [[]]\n",
    "Output: [[]]\n",
    "Explanation: Note that the input contains one empty list. The graph consists of only one node with val = 1 and it does not have any neighbors.\n",
    "Example 3:\n",
    "\n",
    "Input: adjList = []\n",
    "Output: []\n",
    "Explanation: This an empty graph, it does not have any nodes.\n",
    " \n",
    "\n",
    "Constraints:\n",
    "\n",
    "The number of nodes in the graph is in the range [0, 100].\n",
    "1 <= Node.val <= 100\n",
    "Node.val is unique for each node.\n",
    "There are no repeated edges and no self-loops in the graph.\n",
    "The Graph is connected and all nodes can be visited starting from the given node."
   ]
  },
  {
   "cell_type": "raw",
   "metadata": {},
   "source": [
    "Solution\n",
    "This is basically parsing the entire graph and creating a clone node by node. We need a dic to keep track of the \n",
    "nodes visited and cloned. And a BFT or DFT to traverse the graph and a stack or queue to keep track of the nodes\n",
    "to process next"
   ]
  },
  {
   "cell_type": "code",
   "execution_count": null,
   "metadata": {},
   "outputs": [],
   "source": [
    "# Implementation\n",
    "def cloneGraph(node):\n",
    "    if not node:\n",
    "        return node\n",
    "    # dq is the original graph, clone is the clone :P\n",
    "    dq, clone = deque([node]), {node.val: Node(node.val, [])}\n",
    "    while dq:\n",
    "        cur = dq.popleft()\n",
    "        cur_clone = clone[cur.val]\n",
    "        \n",
    "        for neigh in cur.neigbhors:\n",
    "            if neigh.val not in clone:\n",
    "                clone[neigh.val] =  Node(neigh.val, [])\n",
    "                dq.append(neigh)\n",
    "                \n",
    "            cur_clone.neighbors.append(clone[neigh.val])\n",
    "    return clone[node.val]\n",
    "            "
   ]
  },
  {
   "cell_type": "code",
   "execution_count": null,
   "metadata": {},
   "outputs": [],
   "source": [
    "%%ipytest \n",
    "def test_climbStairs():\n",
    "    assert climbStairs(2) == 2\n",
    "    assert climbStairs(3) == 3"
   ]
  }
 ],
 "metadata": {
  "kernelspec": {
   "display_name": "Python 3",
   "language": "python",
   "name": "python3"
  },
  "language_info": {
   "codemirror_mode": {
    "name": "ipython",
    "version": 3
   },
   "file_extension": ".py",
   "mimetype": "text/x-python",
   "name": "python",
   "nbconvert_exporter": "python",
   "pygments_lexer": "ipython3",
   "version": "3.8.3"
  }
 },
 "nbformat": 4,
 "nbformat_minor": 4
}
