{
 "cells": [
  {
   "cell_type": "code",
   "execution_count": 39,
   "metadata": {},
   "outputs": [],
   "source": [
    "import ipytest\n",
    "ipytest.autoconfig()\n",
    "import pytest"
   ]
  },
  {
   "cell_type": "code",
   "execution_count": 36,
   "metadata": {},
   "outputs": [],
   "source": [
    "# We will be solving python interview questions here and using the ipytest module for testing. This notebook is gonna\n",
    "# cover the problems related to python array. So let's begin."
   ]
  },
  {
   "cell_type": "markdown",
   "metadata": {},
   "source": [
    "## [Two Sum](https://leetcode.com/problems/two-sum/)"
   ]
  },
  {
   "cell_type": "raw",
   "metadata": {},
   "source": [
    "Given an array of integers nums and an integer target, return indices of the two numbers such that they add up to target.\n",
    "\n",
    "You may assume that each input would have exactly one solution, and you may not use the same element twice.\n",
    "\n",
    "You can return the answer in any order.\n",
    "\n",
    " \n",
    "\n",
    "Example 1:\n",
    "\n",
    "Input: nums = [2,7,11,15], target = 9\n",
    "Output: [0,1]\n",
    "Explanation: Because nums[0] + nums[1] == 9, we return [0, 1].\n",
    "\n",
    "Example 2:\n",
    "\n",
    "Input: nums = [3,2,4], target = 6\n",
    "Output: [1,2]\n",
    "\n",
    "Example 3:\n",
    "\n",
    "Input: nums = [3,3], target = 6\n",
    "Output: [0,1]\n",
    " \n",
    "\n",
    "Constraints:\n",
    "\n",
    "2 <= nums.length <= 10^4\n",
    "-10^9 <= nums[i] <= 10^9\n",
    "-10^9 <= target <= 10^9\n",
    "Only one valid answer exists.\n",
    " \n",
    "\n",
    "Follow-up: Can you come up with an algorithm that is less than O(n2) time complexity?"
   ]
  },
  {
   "cell_type": "code",
   "execution_count": 1,
   "metadata": {},
   "outputs": [],
   "source": [
    "# Solution\n",
    "# We can do this in O(n) time it seems. That's just one iteration of the entire list\n",
    "# so the equation we are dealing with here is target = xa + xb. where a and b are the index of elements in the list\n",
    "# and xa and xb are the element whos position we are looking for. So our output is [a,b]\n",
    "# In the for loop we are looking at xa and we know the target too. Now we need xb. What if we store value of\n",
    "# target - xa as the key in a hash table and the value as 'a', the position of xa?\n",
    "# Now when and if we reach xb, we can just look it up in the dict to see if the key is present or not. If present\n",
    "# then we can get the value of a and we currently have b. Bingo\n"
   ]
  },
  {
   "cell_type": "code",
   "execution_count": 9,
   "metadata": {},
   "outputs": [],
   "source": [
    "def twoSum( nums, target):\n",
    "    # we are gonna store \"(target - xa) : a \" in this dict\n",
    "    buffer_dict = {}\n",
    "    for i, x in enumerate(nums):\n",
    "        if x in buffer_dict:\n",
    "            # This is what we are looking for\n",
    "            return [buffer_dict[x], i]\n",
    "        else:\n",
    "            # And this is how we build the dict\n",
    "            buffer_dict[target-x] = i"
   ]
  },
  {
   "cell_type": "code",
   "execution_count": 10,
   "metadata": {},
   "outputs": [],
   "source": [
    "# Now let's try the test cases"
   ]
  },
  {
   "cell_type": "code",
   "execution_count": 11,
   "metadata": {},
   "outputs": [
    {
     "data": {
      "text/plain": [
       "[0, 1]"
      ]
     },
     "execution_count": 11,
     "metadata": {},
     "output_type": "execute_result"
    }
   ],
   "source": [
    "nums = [2,7,11,15]\n",
    "target = 9\n",
    "twoSum(nums, target)"
   ]
  },
  {
   "cell_type": "code",
   "execution_count": 12,
   "metadata": {},
   "outputs": [
    {
     "data": {
      "text/plain": [
       "[1, 2]"
      ]
     },
     "execution_count": 12,
     "metadata": {},
     "output_type": "execute_result"
    }
   ],
   "source": [
    "# Good\n",
    "nums = [3,2,4]\n",
    "target = 6\n",
    "twoSum(nums, target)"
   ]
  },
  {
   "cell_type": "code",
   "execution_count": 13,
   "metadata": {},
   "outputs": [
    {
     "data": {
      "text/plain": [
       "[0, 1]"
      ]
     },
     "execution_count": 13,
     "metadata": {},
     "output_type": "execute_result"
    }
   ],
   "source": [
    "# Very good\n",
    "nums = [3,3]\n",
    "target = 6\n",
    "twoSum(nums, target)"
   ]
  },
  {
   "cell_type": "code",
   "execution_count": 14,
   "metadata": {},
   "outputs": [],
   "source": [
    "# Awesome"
   ]
  },
  {
   "cell_type": "code",
   "execution_count": 15,
   "metadata": {},
   "outputs": [],
   "source": [
    "# It worked but the runtime in leetcode fluctuates if we resubmit the same code again and again. What's that about?"
   ]
  },
  {
   "cell_type": "markdown",
   "metadata": {},
   "source": [
    "## [Best Time to Buy and Sell Stock](https://leetcode.com/problems/best-time-to-buy-and-sell-stock/)"
   ]
  },
  {
   "cell_type": "raw",
   "metadata": {},
   "source": [
    "You are given an array prices where prices[i] is the price of a given stock on the ith day.\n",
    "\n",
    "You want to maximize your profit by choosing a single day to buy one stock and choosing a different day in the future to sell that stock.\n",
    "\n",
    "Return the maximum profit you can achieve from this transaction. If you cannot achieve any profit, return 0.\n",
    "\n",
    " \n",
    "\n",
    "Example 1:\n",
    "\n",
    "Input: prices = [7,1,5,3,6,4]\n",
    "Output: 5\n",
    "Explanation: Buy on day 2 (price = 1) and sell on day 5 (price = 6), profit = 6-1 = 5.\n",
    "Note that buying on day 2 and selling on day 1 is not allowed because you must buy before you sell.\n",
    "\n",
    "\n",
    "Example 2:\n",
    "\n",
    "Input: prices = [7,6,4,3,1]\n",
    "Output: 0\n",
    "Explanation: In this case, no transactions are done and the max profit = 0.\n",
    " \n",
    "\n",
    "Constraints:\n",
    "\n",
    "1 <= prices.length <= 10^5\n",
    "0 <= prices[i] <= 10^4"
   ]
  },
  {
   "cell_type": "code",
   "execution_count": 16,
   "metadata": {},
   "outputs": [],
   "source": [
    "# Solution\n",
    "# This can also be done in O(n) time. That is by traveling the list exactly once. \n",
    "# You keep track of the min price comparing after each element and then keep track of the max profit  \n",
    "# And with each element we calculate the min price and calculate the profit by comparing it with the current price"
   ]
  },
  {
   "cell_type": "code",
   "execution_count": 18,
   "metadata": {},
   "outputs": [],
   "source": [
    "# Let's implement the solution\n",
    "def maxProfit(prices):\n",
    "    maxProfit, minPrice = 0, float('inf')\n",
    "    for price in prices:\n",
    "        minPrice = min(minPrice, price)\n",
    "        maxProfit = max(maxProfit, price-minPrice)\n",
    "    return maxProfit"
   ]
  },
  {
   "cell_type": "code",
   "execution_count": 5,
   "metadata": {},
   "outputs": [],
   "source": [
    "# We are gonna update the testing procedure\n",
    "import ipytest\n",
    "ipytest.autoconfig()\n",
    "import pytest"
   ]
  },
  {
   "cell_type": "code",
   "execution_count": 21,
   "metadata": {},
   "outputs": [
    {
     "name": "stdout",
     "output_type": "stream",
     "text": [
      "\u001b[32m.\u001b[0m\u001b[32m                                                                                            [100%]\u001b[0m\n",
      "\u001b[32m\u001b[32m\u001b[1m1 passed\u001b[0m\u001b[32m in 0.01s\u001b[0m\u001b[0m\n"
     ]
    }
   ],
   "source": [
    "%%ipytest \n",
    "def test_maxProfit():\n",
    "    assert maxProfit([7,1,5,3,6,4]) == 5\n",
    "    assert maxProfit([7,6,4,3,1]) == 0"
   ]
  },
  {
   "cell_type": "code",
   "execution_count": 22,
   "metadata": {},
   "outputs": [],
   "source": [
    "# Sooper"
   ]
  },
  {
   "cell_type": "markdown",
   "metadata": {},
   "source": [
    "## [Contains Duplicate](https://leetcode.com/problems/contains-duplicate/)"
   ]
  },
  {
   "cell_type": "raw",
   "metadata": {},
   "source": [
    "Given an integer array nums, return true if any value appears at least twice in the array, and return false if every element is distinct.\n",
    "\n",
    " \n",
    "\n",
    "Example 1:\n",
    "\n",
    "Input: nums = [1,2,3,1]\n",
    "Output: true\n",
    "\n",
    "\n",
    "Example 2:\n",
    "\n",
    "Input: nums = [1,2,3,4]\n",
    "Output: false\n",
    "\n",
    "\n",
    "Example 3:\n",
    "\n",
    "Input: nums = [1,1,1,3,3,4,3,2,4,2]\n",
    "Output: true\n",
    " \n",
    "\n",
    "Constraints:\n",
    "\n",
    "1 <= nums.length <= 10^5\n",
    "-10^9 <= nums[i] <= 10^9"
   ]
  },
  {
   "cell_type": "code",
   "execution_count": 23,
   "metadata": {},
   "outputs": [],
   "source": [
    "# Solution\n",
    "# This couldn't get easier. You just need to know that set doesn't contain duplicates. Just compare the length of list\n",
    "# to length of the set. Duh!"
   ]
  },
  {
   "cell_type": "code",
   "execution_count": 28,
   "metadata": {},
   "outputs": [],
   "source": [
    "# Implementation\n",
    "def containsDuplicate( nums):\n",
    "    return len(nums) != len(set(nums))"
   ]
  },
  {
   "cell_type": "code",
   "execution_count": 29,
   "metadata": {},
   "outputs": [
    {
     "name": "stdout",
     "output_type": "stream",
     "text": [
      "\u001b[32m.\u001b[0m\u001b[32m                                                                                            [100%]\u001b[0m\n",
      "\u001b[32m\u001b[32m\u001b[1m1 passed\u001b[0m\u001b[32m in 0.01s\u001b[0m\u001b[0m\n"
     ]
    }
   ],
   "source": [
    "%%ipytest \n",
    "def test_containsDuplicate():\n",
    "    assert containsDuplicate([1,2,3,1] ) == True\n",
    "    assert containsDuplicate([1,2,3,4]) == False\n",
    "    assert containsDuplicate([1,1,1,3,3,4,3,2,4,2] ) == True"
   ]
  },
  {
   "cell_type": "code",
   "execution_count": 30,
   "metadata": {},
   "outputs": [],
   "source": [
    "# Duh!"
   ]
  },
  {
   "cell_type": "markdown",
   "metadata": {},
   "source": [
    "## [Product of Array Except Self](https://leetcode.com/problems/product-of-array-except-self/)"
   ]
  },
  {
   "cell_type": "raw",
   "metadata": {},
   "source": [
    "Given an integer array nums, return an array answer such that answer[i] is equal to the product of all the elements of nums except nums[i].\n",
    "\n",
    "The product of any prefix or suffix of nums is guaranteed to fit in a 32-bit integer.\n",
    "\n",
    "You must write an algorithm that runs in O(n) time and without using the division operation.\n",
    "\n",
    " \n",
    "\n",
    "Example 1:\n",
    "\n",
    "Input: nums = [1,2,3,4]\n",
    "Output: [24,12,8,6]\n",
    "\n",
    "\n",
    "Example 2:\n",
    "\n",
    "Input: nums = [-1,1,0,-3,3]\n",
    "Output: [0,0,9,0,0]\n",
    " \n",
    "\n",
    "Constraints:\n",
    "\n",
    "2 <= nums.length <= 10^5\n",
    "-30 <= nums[i] <= 30\n",
    "The product of any prefix or suffix of nums is guaranteed to fit in a 32-bit integer.\n",
    " \n",
    "\n",
    "Follow up: Can you solve the problem in O(1) extra space complexity? (The output array does not count as extra space for space complexity analysis.)"
   ]
  },
  {
   "cell_type": "code",
   "execution_count": 2,
   "metadata": {},
   "outputs": [],
   "source": [
    "# Solution\n",
    "# This might look crazy but it has a very simple solution using arrays.\n",
    "# For the 'i'th element in the array what you need is the product of every single element except the 'i'th element\n",
    "# What you can do is start taking product of every element from left to right and save the current product at the\n",
    "# next position as we go.\n",
    "# Suppose we have [1, 2, 3, 4, 5] as the input array. After the above operation the result array becomes [1,1,2,6,24]\n",
    "# Then we repeat this operation from the other end and we get [ 120 ,60 ,40 ,30, 24]\n",
    "# And that is a TADA!!!"
   ]
  },
  {
   "cell_type": "code",
   "execution_count": 11,
   "metadata": {},
   "outputs": [],
   "source": [
    "# Implementation\n",
    "def productExceptSelf(nums):\n",
    "    l = len(nums)\n",
    "    prod = 1\n",
    "    output = []\n",
    "    for i in range(0,l):\n",
    "        # We append it to output before taking the product\n",
    "        output.append(prod)\n",
    "        prod *= nums[i]\n",
    "        \n",
    "    prod = 1\n",
    "    \n",
    "    # step is -1 and and the end clause -1 is not exclusive so it will go till 0 only\n",
    "    for i in range(l-1, -1, -1):\n",
    "        output[i] *= prod\n",
    "        prod *= nums[i]\n",
    "    \n",
    "    return output"
   ]
  },
  {
   "cell_type": "code",
   "execution_count": 13,
   "metadata": {},
   "outputs": [
    {
     "name": "stdout",
     "output_type": "stream",
     "text": [
      "\u001b[32m.\u001b[0m\u001b[32m                                                                                            [100%]\u001b[0m\n",
      "\u001b[32m\u001b[32m\u001b[1m1 passed\u001b[0m\u001b[32m in 0.02s\u001b[0m\u001b[0m\n"
     ]
    }
   ],
   "source": [
    "%%ipytest \n",
    "def test_productExceptSelf():\n",
    "    assert productExceptSelf([1,2,3,4] ) == [24,12,8,6]\n",
    "    assert productExceptSelf([-1,1,0,-3,3]) == [0,0,9,0,0]\n"
   ]
  },
  {
   "cell_type": "code",
   "execution_count": 14,
   "metadata": {},
   "outputs": [],
   "source": [
    "# TADA!! has been tested and verified"
   ]
  },
  {
   "cell_type": "markdown",
   "metadata": {},
   "source": [
    "## [Maximum Subarray](https://leetcode.com/problems/maximum-subarray/)"
   ]
  },
  {
   "cell_type": "raw",
   "metadata": {},
   "source": [
    "Given an integer array nums, find the contiguous subarray (containing at least one number) which has the largest sum and return its sum.\n",
    "\n",
    "A subarray is a contiguous part of an array.\n",
    "\n",
    " \n",
    "\n",
    "Example 1:\n",
    "\n",
    "Input: nums = [-2,1,-3,4,-1,2,1,-5,4]\n",
    "Output: 6\n",
    "Explanation: [4,-1,2,1] has the largest sum = 6.\n",
    "\n",
    "\n",
    "\n",
    "Example 2:\n",
    "\n",
    "Input: nums = [1]\n",
    "Output: 1\n",
    "\n",
    "\n",
    "Example 3:\n",
    "\n",
    "Input: nums = [5,4,-1,7,8]\n",
    "Output: 23\n",
    " \n",
    "\n",
    "Constraints:\n",
    "\n",
    "1 <= nums.length <= 10^5\n",
    "-10^4 <= nums[i] <= 10^4\n",
    " \n",
    "\n",
    "Follow up: If you have figured out the O(n) solution, try coding another solution using the divide and conquer approach, which is more subtle."
   ]
  },
  {
   "cell_type": "code",
   "execution_count": 16,
   "metadata": {},
   "outputs": [],
   "source": [
    "# Solution\n",
    "# Okay this is also a cool solution. We just need to keep track of two variables while we traverse the list\n",
    "# 1. the max_sum value till now which is basically the max sum value till the current element in the list\n",
    "# 2. a cur_sum variable which just compares the sum of current sum until now plus the next element against the next\n",
    "# element. I was confused at first too.\n",
    "# We are gonna keep comparing max_sum and cur_sum in each iteration. max_sum holds the global maxima and\n",
    "# cur_sum keeps the local maxima value uptill the current iteration. That simple."
   ]
  },
  {
   "cell_type": "code",
   "execution_count": 17,
   "metadata": {},
   "outputs": [],
   "source": [
    "# Implementation\n",
    "def maxSubArray(nums):\n",
    "    # Since it's given in the problem that the list will atleast have one element\n",
    "    max_sum = cur_sum = nums[0]\n",
    "    l = len(nums)\n",
    "    for i in range(1, l):\n",
    "        cur_sum = max(cur_sum + nums[i], nums[i])\n",
    "        max_sum = max(max_sum, cur_sum)\n",
    "    return max_sum"
   ]
  },
  {
   "cell_type": "code",
   "execution_count": 18,
   "metadata": {},
   "outputs": [
    {
     "name": "stdout",
     "output_type": "stream",
     "text": [
      "\u001b[32m.\u001b[0m\u001b[32m                                                                                            [100%]\u001b[0m\n",
      "\u001b[32m\u001b[32m\u001b[1m1 passed\u001b[0m\u001b[32m in 0.01s\u001b[0m\u001b[0m\n"
     ]
    }
   ],
   "source": [
    "%%ipytest \n",
    "def test_maxSubArray():\n",
    "    assert maxSubArray([-2,1,-3,4,-1,2,1,-5,4] ) == 6\n",
    "    assert maxSubArray([5,4,-1,7,8]) == 23\n",
    "    assert maxSubArray([1]) == 1\n"
   ]
  },
  {
   "cell_type": "code",
   "execution_count": 19,
   "metadata": {},
   "outputs": [],
   "source": [
    "# Wicked cool!!!"
   ]
  },
  {
   "cell_type": "markdown",
   "metadata": {},
   "source": [
    "## [Maximum Product Subarray](https://leetcode.com/problems/maximum-product-subarray/)\n"
   ]
  },
  {
   "cell_type": "raw",
   "metadata": {},
   "source": [
    "Given an integer array nums, find a contiguous non-empty subarray within the array that has the largest product, and return the product.\n",
    "\n",
    "The test cases are generated so that the answer will fit in a 32-bit integer.\n",
    "\n",
    "A subarray is a contiguous subsequence of the array.\n",
    "\n",
    " \n",
    "\n",
    "Example 1:\n",
    "\n",
    "Input: nums = [2,3,-2,4]\n",
    "Output: 6\n",
    "Explanation: [2,3] has the largest product 6.\n",
    "    \n",
    "    \n",
    "Example 2:\n",
    "\n",
    "Input: nums = [-2,0,-1]\n",
    "Output: 0\n",
    "Explanation: The result cannot be 2, because [-2,-1] is not a subarray.\n",
    " \n",
    "\n",
    "Constraints:\n",
    "\n",
    "1 <= nums.length <= 2 * 10^4\n",
    "-10 <= nums[i] <= 10\n",
    "The product of any prefix or suffix of nums is guaranteed to fit in a 32-bit integer."
   ]
  },
  {
   "cell_type": "code",
   "execution_count": 21,
   "metadata": {},
   "outputs": [],
   "source": [
    "# Solution\n",
    "# This gets a bit trickier than the max sum problem above since we have negative numbers and product of two negatives  \n",
    "# is positive. So we need to keep track of the min product also since if the next item in the array is negative then\n",
    "# the min prod will become max prod if min prod was already negative. It's just one more comparison"
   ]
  },
  {
   "cell_type": "code",
   "execution_count": 28,
   "metadata": {},
   "outputs": [],
   "source": [
    "# Implementation\n",
    "def maxProduct(nums):\n",
    "    # Since array will contain atleast one element\n",
    "    max_prod = min_prod = global_max = nums[0]\n",
    "    n = len(nums)\n",
    "    \n",
    "    for i in range(1, n):\n",
    "        # three contenders for max and min each\n",
    "        max_prod = max(max_prod * nums[i], min_prod * nums[i], nums[i])\n",
    "        min_prod = min(max_prod * nums[i], min_prod * nums[i], nums[i])\n",
    "        global_max = max(max_prod, global_max)\n",
    "    return global_max"
   ]
  },
  {
   "cell_type": "code",
   "execution_count": 31,
   "metadata": {},
   "outputs": [
    {
     "name": "stdout",
     "output_type": "stream",
     "text": [
      "\u001b[31mF\u001b[0m\u001b[31m                                                                                            [100%]\u001b[0m\n",
      "============================================= FAILURES =============================================\n",
      "\u001b[31m\u001b[1m______________________________________ test_containsDuplicate ______________________________________\u001b[0m\n",
      "\n",
      "    \u001b[94mdef\u001b[39;49;00m \u001b[92mtest_containsDuplicate\u001b[39;49;00m():\n",
      "        \u001b[94massert\u001b[39;49;00m maxProduct([\u001b[94m2\u001b[39;49;00m,\u001b[94m3\u001b[39;49;00m,-\u001b[94m2\u001b[39;49;00m,\u001b[94m4\u001b[39;49;00m] ) == \u001b[94m6\u001b[39;49;00m\n",
      "        \u001b[94massert\u001b[39;49;00m maxProduct([-\u001b[94m2\u001b[39;49;00m,\u001b[94m0\u001b[39;49;00m,-\u001b[94m1\u001b[39;49;00m]) == \u001b[94m0\u001b[39;49;00m\n",
      ">       \u001b[94massert\u001b[39;49;00m maxProduct([-\u001b[94m4\u001b[39;49;00m,-\u001b[94m3\u001b[39;49;00m,-\u001b[94m2\u001b[39;49;00m]) == \u001b[94m12\u001b[39;49;00m\n",
      "\u001b[1m\u001b[31mE       assert 72 == 12\u001b[0m\n",
      "\u001b[1m\u001b[31mE        +  where 72 = maxProduct([-4, -3, -2])\u001b[0m\n",
      "\n",
      "\u001b[1m\u001b[31m<ipython-input-31-27f86c324b99>\u001b[0m:4: AssertionError\n",
      "===================================== short test summary info ======================================\n",
      "FAILED tmpplxq21m0.py::test_containsDuplicate - assert 72 == 12\n",
      "\u001b[31m\u001b[31m\u001b[1m1 failed\u001b[0m\u001b[31m in 0.14s\u001b[0m\u001b[0m\n"
     ]
    }
   ],
   "source": [
    "%%ipytest \n",
    "def test_maxProduct():\n",
    "    assert maxProduct([2,3,-2,4] ) == 6\n",
    "    assert maxProduct([-2,0,-1]) == 0\n",
    "    assert maxProduct([-4,-3,-2]) == 12\n"
   ]
  },
  {
   "cell_type": "code",
   "execution_count": 30,
   "metadata": {},
   "outputs": [],
   "source": [
    "# That's a bingo."
   ]
  },
  {
   "cell_type": "code",
   "execution_count": 34,
   "metadata": {},
   "outputs": [],
   "source": [
    "# Implementation\n",
    "def maxProduct(nums):\n",
    "    # Since array will contain atleast one element\n",
    "    max_prod = min_prod = global_max = nums[0]\n",
    "    n = len(nums)\n",
    "    \n",
    "    for i in range(1, n):\n",
    "        # three contenders for max and min each\n",
    "        max_prod = max(max_prod * nums[i], min_prod * nums[i], nums[i])\n",
    "        min_prod = min(max_prod * nums[i], min_prod * nums[i], nums[i])\n",
    "        global_max = max(max_prod, global_max)\n",
    "        print(\"G : {}, max : {}, min {}, n : {}\".format(global_max, max_prod, min_prod, n))\n",
    "    return global_max"
   ]
  },
  {
   "cell_type": "code",
   "execution_count": 35,
   "metadata": {},
   "outputs": [
    {
     "name": "stdout",
     "output_type": "stream",
     "text": [
      "G : 12, max : 12, min -36, n : 3\n",
      "G : 72, max : 72, min -144, n : 3\n"
     ]
    },
    {
     "data": {
      "text/plain": [
       "72"
      ]
     },
     "execution_count": 35,
     "metadata": {},
     "output_type": "execute_result"
    }
   ],
   "source": [
    "maxProduct([-4,-3,-2])"
   ]
  },
  {
   "cell_type": "code",
   "execution_count": 36,
   "metadata": {},
   "outputs": [],
   "source": [
    "# That was a false bingo. We are updating the max_prod in the first line of for loop and using that updated max_prod\n",
    "# to find the min_ prod, which screws up our logic"
   ]
  },
  {
   "cell_type": "code",
   "execution_count": 38,
   "metadata": {},
   "outputs": [],
   "source": [
    "# Implementation\n",
    "def maxProduct(nums):\n",
    "    # Since array will contain atleast one element\n",
    "    max_prod = min_prod = global_max = nums[0]\n",
    "    n = len(nums)\n",
    "    \n",
    "    for i in range(1, n):\n",
    "        # three contenders for max and min each\n",
    "        max_prod_latest = max(max_prod * nums[i], min_prod * nums[i], nums[i])\n",
    "        min_prod = min(max_prod * nums[i], min_prod * nums[i], nums[i])\n",
    "        max_prod = max_prod_latest\n",
    "        global_max = max(max_prod, global_max)\n",
    "    return global_max"
   ]
  },
  {
   "cell_type": "code",
   "execution_count": 39,
   "metadata": {},
   "outputs": [
    {
     "name": "stdout",
     "output_type": "stream",
     "text": [
      "\u001b[32m.\u001b[0m\u001b[32m                                                                                            [100%]\u001b[0m\n",
      "\u001b[32m\u001b[32m\u001b[1m1 passed\u001b[0m\u001b[32m in 0.02s\u001b[0m\u001b[0m\n"
     ]
    }
   ],
   "source": [
    "%%ipytest \n",
    "def test_maxProduct():\n",
    "    assert maxProduct([2,3,-2,4] ) == 6\n",
    "    assert maxProduct([-2,0,-1]) == 0\n",
    "    assert maxProduct([-4,-3,-2]) == 12\n"
   ]
  },
  {
   "cell_type": "code",
   "execution_count": 40,
   "metadata": {},
   "outputs": [],
   "source": [
    "# This is a sure shot bingo"
   ]
  },
  {
   "cell_type": "markdown",
   "metadata": {},
   "source": [
    "## [Find Minimum in Rotated Sorted Array](https://leetcode.com/problems/find-minimum-in-rotated-sorted-array/)\n"
   ]
  },
  {
   "cell_type": "raw",
   "metadata": {},
   "source": [
    "Suppose an array of length n sorted in ascending order is rotated between 1 and n times. For example, the array nums = [0,1,2,4,5,6,7] might become:\n",
    "\n",
    "[4,5,6,7,0,1,2] if it was rotated 4 times.\n",
    "[0,1,2,4,5,6,7] if it was rotated 7 times.\n",
    "Notice that rotating an array [a[0], a[1], a[2], ..., a[n-1]] 1 time results in the array [a[n-1], a[0], a[1], a[2], ..., a[n-2]].\n",
    "\n",
    "Given the sorted rotated array nums of unique elements, return the minimum element of this array.\n",
    "\n",
    "You must write an algorithm that runs in O(log n) time.\n",
    "\n",
    " \n",
    "\n",
    "Example 1:\n",
    "\n",
    "Input: nums = [3,4,5,1,2]\n",
    "Output: 1\n",
    "Explanation: The original array was [1,2,3,4,5] rotated 3 times.\n",
    "\n",
    "\n",
    "Example 2:\n",
    "\n",
    "Input: nums = [4,5,6,7,0,1,2]\n",
    "Output: 0\n",
    "Explanation: The original array was [0,1,2,4,5,6,7] and it was rotated 4 times.\n",
    "\n",
    "\n",
    "Example 3:\n",
    "\n",
    "Input: nums = [11,13,15,17]\n",
    "Output: 11\n",
    "Explanation: The original array was [11,13,15,17] and it was rotated 4 times. \n",
    " \n",
    "\n",
    "Constraints:\n",
    "\n",
    "n == nums.length\n",
    "1 <= n <= 5000\n",
    "-5000 <= nums[i] <= 5000\n",
    "All the integers of nums are unique.\n",
    "nums is sorted and rotated between 1 and n times."
   ]
  },
  {
   "cell_type": "code",
   "execution_count": 41,
   "metadata": {},
   "outputs": [],
   "source": [
    "# Solution\n",
    "# The important thing to note is you need a solution in O(log n) time. Same as a binary search in a sorted array. And\n",
    "# we know this is a sorted array rotated a few times. We look at the mid value and if it is less than right most value\n",
    "# that means the pivot is at the mid or to left of it. We know this because from mid to right it's increasing only.\n",
    "# If the mid value is greater than the right most value then the lowest point is somewhere between mid and right becoz\n",
    "# the value is increasing from mid and then the pivot came and value started increasing again but it's still lower \n",
    "# than mid so we can ignore everything that's on the left side. And once the left and right value converges we will\n",
    "# have our solution"
   ]
  },
  {
   "cell_type": "code",
   "execution_count": 46,
   "metadata": {},
   "outputs": [],
   "source": [
    "#Implementation\n",
    "def findMin(nums):\n",
    "    left, right = 0, len(nums)-1\n",
    "    while left < right:\n",
    "        mid = (left+right)//2\n",
    "        if nums[mid] > nums[right]:\n",
    "            left = mid +1\n",
    "        else:\n",
    "            right = mid\n",
    "    return nums[left]"
   ]
  },
  {
   "cell_type": "code",
   "execution_count": 47,
   "metadata": {},
   "outputs": [
    {
     "name": "stdout",
     "output_type": "stream",
     "text": [
      "\u001b[32m.\u001b[0m\u001b[32m                                                                                            [100%]\u001b[0m\n",
      "\u001b[32m\u001b[32m\u001b[1m1 passed\u001b[0m\u001b[32m in 0.01s\u001b[0m\u001b[0m\n"
     ]
    }
   ],
   "source": [
    "%%ipytest \n",
    "def test_findMin():\n",
    "    assert findMin([3,4,5,1,2] ) == 1\n",
    "    assert findMin([4,5,6,7,0,1,2]) == 0\n",
    "    assert findMin([11,13,15,17]) == 11"
   ]
  },
  {
   "cell_type": "code",
   "execution_count": 48,
   "metadata": {},
   "outputs": [],
   "source": [
    "# TADA !!!"
   ]
  },
  {
   "cell_type": "markdown",
   "metadata": {},
   "source": [
    "## [Search in Rotated Sorted Array](https://leetcode.com/problems/search-in-rotated-sorted-array/)\n"
   ]
  },
  {
   "cell_type": "raw",
   "metadata": {},
   "source": [
    "There is an integer array nums sorted in ascending order (with distinct values).\n",
    "\n",
    "Prior to being passed to your function, nums is possibly rotated at an unknown pivot index k (1 <= k < nums.length) such that the resulting array is [nums[k], nums[k+1], ..., nums[n-1], nums[0], nums[1], ..., nums[k-1]] (0-indexed). For example, [0,1,2,4,5,6,7] might be rotated at pivot index 3 and become [4,5,6,7,0,1,2].\n",
    "\n",
    "Given the array nums after the possible rotation and an integer target, return the index of target if it is in nums, or -1 if it is not in nums.\n",
    "\n",
    "You must write an algorithm with O(log n) runtime complexity.\n",
    "\n",
    " \n",
    "\n",
    "Example 1:\n",
    "\n",
    "Input: nums = [4,5,6,7,0,1,2], target = 0\n",
    "Output: 4\n",
    "\n",
    "\n",
    "Example 2:\n",
    "\n",
    "Input: nums = [4,5,6,7,0,1,2], target = 3\n",
    "Output: -1\n",
    "\n",
    "\n",
    "\n",
    "Example 3:\n",
    "\n",
    "Input: nums = [1], target = 0\n",
    "Output: -1\n",
    " \n",
    "\n",
    "Constraints:\n",
    "\n",
    "1 <= nums.length <= 5000\n",
    "-10^4 <= nums[i] <= 10^4\n",
    "All values of nums are unique.\n",
    "nums is an ascending array that is possibly rotated.\n",
    "-10^4 <= target <= 10^4"
   ]
  },
  {
   "cell_type": "code",
   "execution_count": 49,
   "metadata": {},
   "outputs": [],
   "source": [
    "# Solution\n",
    "# This should be kind of similar to above problem, I think\n"
   ]
  },
  {
   "cell_type": "code",
   "execution_count": 85,
   "metadata": {},
   "outputs": [],
   "source": [
    "def search(nums, target):\n",
    "    left, right = 0, len(nums) - 1\n",
    "    \n",
    "    while left <= right:\n",
    "        mid = (left+right)//2\n",
    "        \n",
    "        if nums[mid] == target:\n",
    "            return mid\n",
    "        \n",
    "        # pivot is not between left and mid\n",
    "        if nums[left] <= nums[mid]:\n",
    "            # target is between left and mid\n",
    "            if nums[left] <= target < nums[mid]:\n",
    "                right = mid - 1\n",
    "            # target is on the right side\n",
    "            else:\n",
    "                left = mid + 1\n",
    "        # pivot is between left and mid but value is not\n",
    "        else:\n",
    "            if nums[right] >= target > nums[mid]:\n",
    "                left = mid + 1\n",
    "            else:\n",
    "                right = mid - 1\n",
    "    return -1\n",
    "                \n",
    "            "
   ]
  },
  {
   "cell_type": "code",
   "execution_count": null,
   "metadata": {},
   "outputs": [],
   "source": []
  },
  {
   "cell_type": "code",
   "execution_count": 90,
   "metadata": {},
   "outputs": [
    {
     "name": "stdout",
     "output_type": "stream",
     "text": [
      "\u001b[32m.\u001b[0m\u001b[32m                                                                                            [100%]\u001b[0m\n",
      "\u001b[32m\u001b[32m\u001b[1m1 passed\u001b[0m\u001b[32m in 0.02s\u001b[0m\u001b[0m\n"
     ]
    }
   ],
   "source": [
    "%%ipytest \n",
    "def test_search():\n",
    "    assert search([4,5,6,7,0,1,2], 0 ) == 4\n",
    "    assert search([4,5,6,7,0,1,2], 3) == -1\n",
    "    assert search([1], 0) == -1\n",
    "    assert search([1, 3], 3) == 1\n",
    "    assert search([5,1,3], 3) == 2"
   ]
  },
  {
   "cell_type": "code",
   "execution_count": 82,
   "metadata": {},
   "outputs": [],
   "source": [
    "def search(nums, target):\n",
    "    left, right = 0, len(nums) - 1\n",
    "    \n",
    "    while left <= right:\n",
    "        mid = (left+right)//2\n",
    "        \n",
    "        if nums[mid] == target:\n",
    "            return mid\n",
    "        \n",
    "        # pivot is not between left and mid\n",
    "        if nums[left] <= nums[mid]:\n",
    "            # target is between left and mid\n",
    "            if nums[left] <= target < nums[mid]:\n",
    "                print(\"1. {} <= {} < {}\".format(nums[left], target, nums[mid]))\n",
    "                right = mid - 1\n",
    "            # target is on the right side\n",
    "            else:\n",
    "                print(\"2. {} <= {} < {}\".format(nums[left], target, nums[mid]))\n",
    "                left = mid + 1\n",
    "        # pivot is between left and mid\n",
    "        else:\n",
    "            if nums[right] >= target > nums[mid]:\n",
    "                print(\"3. {} <= {} < {}\".format(nums[right], target, nums[mid]))\n",
    "                left = mid \n",
    "            else:\n",
    "                print(\"4. {} <= {} < {}\".format(nums[left], target, nums[mid]))\n",
    "                right = mid \n",
    "    return -1\n",
    "                "
   ]
  },
  {
   "cell_type": "code",
   "execution_count": 83,
   "metadata": {},
   "outputs": [
    {
     "name": "stdout",
     "output_type": "stream",
     "text": [
      "3. 3 <= 3 < 1\n",
      "2. 1 <= 3 < 1\n"
     ]
    },
    {
     "data": {
      "text/plain": [
       "2"
      ]
     },
     "execution_count": 83,
     "metadata": {},
     "output_type": "execute_result"
    }
   ],
   "source": [
    "search([5,1,3], 3)"
   ]
  },
  {
   "cell_type": "code",
   "execution_count": 87,
   "metadata": {},
   "outputs": [],
   "source": [
    "# Print statements can be used for debugging "
   ]
  },
  {
   "cell_type": "markdown",
   "metadata": {},
   "source": [
    "## [3Sum](https://leetcode.com/problems/3sum/)\n"
   ]
  },
  {
   "cell_type": "raw",
   "metadata": {},
   "source": [
    "Given an integer array nums, return all the triplets [nums[i], nums[j], nums[k]] such that i != j, i != k, and j != k, and nums[i] + nums[j] + nums[k] == 0.\n",
    "\n",
    "Notice that the solution set must not contain duplicate triplets.\n",
    "\n",
    " \n",
    "\n",
    "Example 1:\n",
    "\n",
    "Input: nums = [-1,0,1,2,-1,-4]\n",
    "Output: [[-1,-1,2],[-1,0,1]]\n",
    "\n",
    "\n",
    "Example 2:\n",
    "\n",
    "Input: nums = []\n",
    "Output: []\n",
    "\n",
    "\n",
    "Example 3:\n",
    "\n",
    "Input: nums = [0]\n",
    "Output: []\n",
    " \n",
    "\n",
    "Constraints:\n",
    "\n",
    "0 <= nums.length <= 3000\n",
    "-10^5 <= nums[i] <= 10^5"
   ]
  },
  {
   "cell_type": "code",
   "execution_count": 88,
   "metadata": {},
   "outputs": [],
   "source": [
    "# Solution\n",
    "# This is a bit complicated then I want it to be. We can solve this in O(n^2).  \n",
    "# First we are gonna sort the array. It's gonna save us lot of time and effort later.\n",
    "# We are gonna do a for loop, looping through the array with the first element of the 3 sum. \n",
    "# Inside the for loop we are gonna have two pointers, one starting from the left end just after the first element\n",
    "# traversing through the first loop. Second one will start at the other end and we are gonna check if it's sum is  \n",
    "# gonna negate the element from the for loop. If the sum of all these 3 elements is less than zero then we need the \n",
    "# sum to be more. We can do that by increasing the left pointer. If sum is more than zero then we can bring it down to \n",
    "# zero if the right most element was one point towards left. And we keep try this and save the results of these three \n",
    "# combination whenever the sum is zero and we are gonna return that result. Let's roll."
   ]
  },
  {
   "cell_type": "code",
   "execution_count": 8,
   "metadata": {},
   "outputs": [],
   "source": [
    "# Implementation\n",
    "def threeSum(nums):\n",
    "    \n",
    "    # storing the results\n",
    "    res = []\n",
    "    \n",
    "    # sorting nums\n",
    "    nums.sort()\n",
    "    \n",
    "    # We need 3 element combo, hence first elements loop goes till len-2 elements only\n",
    "    for i in range(len(nums) - 2):\n",
    "        # we don't need to check duplicate for the first round, also there is no previous value to compare it with\n",
    "        if i > 0 and nums[i] == nums[i - 1]:\n",
    "            continue\n",
    "        # left one starts from the item next to the first for loop element\n",
    "        l = i + 1\n",
    "        # right one goes till the end\n",
    "        r = len(nums) - 1\n",
    "        \n",
    "        while l < r:\n",
    "            sum3 = nums[i] + nums[l] + nums[r]\n",
    "            if sum3 < 0:\n",
    "                # means the elements needs to be greater than what it is, we can move l pointer to right \n",
    "                l = l + 1\n",
    "            elif sum3 > 0:\n",
    "                # means elements sum is too high and we should decrease one of them. We can move the r pointer to left\n",
    "                r = r - 1\n",
    "            else:\n",
    "                print(\" i : {}, l : {}, r : {}\".format(nums[i], nums[l], nums[r]))\n",
    "                res.append([nums[i], nums[l], nums[r]])\n",
    "                # we don't want duplicates in the results. so if the numbers are repeating we are gonna ignore it.\n",
    "                # that's also why we sorted the array first\n",
    "                while l < r and nums[l] == nums[l+1]:\n",
    "                    l += 1\n",
    "                while l < r and nums[r] == nums[r - 1]:\n",
    "                    r -= 1\n",
    "                # And since we had a sum zero triplet we need to increment both left and right\n",
    "                l = l + 1\n",
    "                r = r - 1\n",
    "    return res"
   ]
  },
  {
   "cell_type": "code",
   "execution_count": 11,
   "metadata": {},
   "outputs": [
    {
     "name": "stdout",
     "output_type": "stream",
     "text": [
      "\u001b[32m.\u001b[0m\u001b[32m                                                                                            [100%]\u001b[0m\n",
      "\u001b[32m\u001b[32m\u001b[1m1 passed\u001b[0m\u001b[32m in 0.01s\u001b[0m\u001b[0m\n"
     ]
    }
   ],
   "source": [
    "%%ipytest \n",
    "def test_threeSum():\n",
    "    assert threeSum([-1,0,1,2,-1,-4]) == [[-1,-1,2],[-1,0,1]]\n",
    "    assert threeSum([]) == []\n",
    "    assert threeSum([0]) == []\n"
   ]
  },
  {
   "cell_type": "code",
   "execution_count": 12,
   "metadata": {},
   "outputs": [],
   "source": [
    "# Finally after a long time. TADA"
   ]
  },
  {
   "cell_type": "code",
   "execution_count": 8,
   "metadata": {},
   "outputs": [],
   "source": [
    "# Implementation\n",
    "def threeSum(nums):\n",
    "    \n",
    "    # storing the results\n",
    "    res = []\n",
    "    \n",
    "    # sorting nums\n",
    "    nums.sort()\n",
    "    \n",
    "    # We need 3 element combo, hence first elements loop goes till len-2 elements only\n",
    "    for i in range(len(nums) - 2):\n",
    "        # we don't need to check duplicate for the first round, also there is no previous value to compare it with\n",
    "        if i > 0 and nums[i] == nums[i - 1]:\n",
    "            continue\n",
    "        # left one starts from the item next to the first for loop element\n",
    "        l = i + 1\n",
    "        # right one goes till the end\n",
    "        r = len(nums) - 1\n",
    "        \n",
    "        # Edge conditions\n",
    "        if nums[i] > 0:\n",
    "            # if the first element is greater than zero in a sorted list you won't find any 3sum which is zero\n",
    "            break\n",
    "        if nums[r] < 0:\n",
    "            # likewise if rightmost element in a sorted list is less than zero sum is always gonna be less than zero\n",
    "            break\n",
    "        \n",
    "        while l < r:\n",
    "            sum3 = nums[i] + nums[l] + nums[r]\n",
    "            if sum3 < 0:\n",
    "                # means the elements needs to be greater than what it is, we can move l pointer to right \n",
    "                l = l + 1\n",
    "            elif sum3 > 0:\n",
    "                # means elements sum is too high and we should decrease one of them. We can move the r pointer to left\n",
    "                r = r - 1\n",
    "            else:\n",
    "                print(\" i : {}, l : {}, r : {}\".format(nums[i], nums[l], nums[r]))\n",
    "                res.append([nums[i], nums[l], nums[r]])\n",
    "                # we don't want duplicates in the results. so if the numbers are repeating we are gonna ignore it.\n",
    "                # that's also why we sorted the array first\n",
    "                while l < r and nums[l] == nums[l+1]:\n",
    "                    l += 1\n",
    "                while l < r and nums[r] == nums[r - 1]:\n",
    "                    r -= 1\n",
    "                # And since we had a sum zero triplet we need to increment both left and right\n",
    "                l = l + 1\n",
    "                r = r - 1\n",
    "    return res"
   ]
  },
  {
   "cell_type": "code",
   "execution_count": 13,
   "metadata": {},
   "outputs": [
    {
     "name": "stdout",
     "output_type": "stream",
     "text": [
      "\u001b[32m.\u001b[0m\u001b[32m                                                                                            [100%]\u001b[0m\n",
      "\u001b[32m\u001b[32m\u001b[1m1 passed\u001b[0m\u001b[32m in 0.01s\u001b[0m\u001b[0m\n"
     ]
    }
   ],
   "source": [
    "%%ipytest \n",
    "def test_threeSum():\n",
    "    assert threeSum([-1,0,1,2,-1,-4]) == [[-1,-1,2],[-1,0,1]]\n",
    "    assert threeSum([]) == []\n",
    "    assert threeSum([0]) == []\n"
   ]
  },
  {
   "cell_type": "code",
   "execution_count": 14,
   "metadata": {},
   "outputs": [],
   "source": [
    "# Minor but still significant TADA!!!"
   ]
  },
  {
   "cell_type": "markdown",
   "metadata": {},
   "source": [
    "## [Container With Most Water](https://leetcode.com/problems/container-with-most-water/)"
   ]
  },
  {
   "cell_type": "raw",
   "metadata": {},
   "source": [
    "You are given an integer array height of length n. There are n vertical lines drawn such that the two endpoints of the ith line are (i, 0) and (i, height[i]).\n",
    "\n",
    "Find two lines that together with the x-axis form a container, such that the container contains the most water.\n",
    "\n",
    "Return the maximum amount of water a container can store.\n",
    "\n",
    "Notice that you may not slant the container.\n",
    "\n",
    " << Image is missing, refer the link above >>\n",
    "\n",
    "Example 1:\n",
    "\n",
    "\n",
    "Input: height = [1,8,6,2,5,4,8,3,7]\n",
    "Output: 49\n",
    "Explanation: The above vertical lines are represented by array [1,8,6,2,5,4,8,3,7]. In this case, the max area of water (blue section) the container can contain is 49.\n",
    "\n",
    "\n",
    "Example 2:\n",
    "\n",
    "Input: height = [1,1]\n",
    "Output: 1\n",
    " \n",
    "\n",
    "Constraints:\n",
    "\n",
    "n == height.length\n",
    "2 <= n <= 10^5\n",
    "0 <= height[i] <= 10^4"
   ]
  },
  {
   "cell_type": "code",
   "execution_count": 37,
   "metadata": {},
   "outputs": [],
   "source": [
    "# Solution\n",
    "# This is a very complicated looking problem with a very simple solution. Few things to consider\n",
    "# 1. We are trying to find the maximum area of a rectangle. The sides are the width, i.e., the distance between the \n",
    "#     chosen elements from the list. The wider the rectangle greater the area. So We should start from both ends.\n",
    "# 2. The two elements chosen can hold upto the hieght of the smaller element. We need both elements big and far apart\n",
    "# 3. That's about it but if we had 3 points to point out it would have more aesthetic appeal"
   ]
  },
  {
   "cell_type": "code",
   "execution_count": 30,
   "metadata": {},
   "outputs": [],
   "source": [
    "# Implementation\n",
    "def maxArea(height):\n",
    "    i, j = 0, len(height) - 1\n",
    "    capacity = 0\n",
    "    \n",
    "    while i < j:\n",
    "        h = min(height[i], height[j])\n",
    "        w = j - i\n",
    "        capacity = max(capacity, w * h )\n",
    "        if height[i] < height[j]:\n",
    "            # move the left bar to the right in the hopes of finding a taller bar\n",
    "            i += 1\n",
    "        else:\n",
    "            # move the right bar to the left\n",
    "            j -= 1\n",
    "    return capacity"
   ]
  },
  {
   "cell_type": "code",
   "execution_count": 34,
   "metadata": {},
   "outputs": [
    {
     "name": "stdout",
     "output_type": "stream",
     "text": [
      "\u001b[32m.\u001b[0m\u001b[32m                                                                                            [100%]\u001b[0m\n",
      "\u001b[32m\u001b[32m\u001b[1m1 passed\u001b[0m\u001b[32m in 0.01s\u001b[0m\u001b[0m\n"
     ]
    }
   ],
   "source": [
    "%%ipytest \n",
    "def test_maxArea():\n",
    "    assert maxArea([1,8,6,2,5,4,8,3,7]) == 49\n",
    "    assert maxArea([1,1]) == 1\n"
   ]
  },
  {
   "cell_type": "code",
   "execution_count": 35,
   "metadata": {},
   "outputs": [],
   "source": [
    "# That's a bingo TADA!!!"
   ]
  },
  {
   "cell_type": "markdown",
   "metadata": {},
   "source": [
    "## [Reverse Polish Notation](https://leetcode.com/problems/evaluate-reverse-polish-notation/)"
   ]
  },
  {
   "cell_type": "raw",
   "metadata": {},
   "source": [
    "Evaluate the value of an arithmetic expression in Reverse Polish Notation.\n",
    "\n",
    "Valid operators are +, -, *, and /. Each operand may be an integer or another expression.\n",
    "\n",
    "Note that division between two integers should truncate toward zero.\n",
    "\n",
    "It is guaranteed that the given RPN expression is always valid. That means the expression would always evaluate to a result, and there will not be any division by zero operation.\n",
    "\n",
    " \n",
    "\n",
    "Example 1:\n",
    "\n",
    "Input: tokens = [\"2\",\"1\",\"+\",\"3\",\"*\"]\n",
    "Output: 9\n",
    "Explanation: ((2 + 1) * 3) = 9\n",
    "\n",
    "Example 2:\n",
    "\n",
    "Input: tokens = [\"4\",\"13\",\"5\",\"/\",\"+\"]\n",
    "Output: 6\n",
    "Explanation: (4 + (13 / 5)) = 6\n",
    "\n",
    "Example 3:\n",
    "\n",
    "Input: tokens = [\"10\",\"6\",\"9\",\"3\",\"+\",\"-11\",\"*\",\"/\",\"*\",\"17\",\"+\",\"5\",\"+\"]\n",
    "Output: 22\n",
    "Explanation: ((10 * (6 / ((9 + 3) * -11))) + 17) + 5\n",
    "= ((10 * (6 / (12 * -11))) + 17) + 5\n",
    "= ((10 * (6 / -132)) + 17) + 5\n",
    "= ((10 * 0) + 17) + 5\n",
    "= (0 + 17) + 5\n",
    "= 17 + 5\n",
    "= 22\n",
    " \n",
    "\n",
    "Constraints:\n",
    "\n",
    "1 <= tokens.length <= 10^4\n",
    "tokens[i] is either an operator: \"+\", \"-\", \"*\", or \"/\", or an integer in the range [-200, 200].\n"
   ]
  },
  {
   "cell_type": "code",
   "execution_count": 43,
   "metadata": {},
   "outputs": [],
   "source": [
    "# Implementation\n",
    "def evalRPN(tokens):\n",
    "    stack = []\n",
    "    for item in tokens:\n",
    "        if item == \"+\":\n",
    "            stack.append(stack.pop() + stack.pop())\n",
    "        elif item == \"-\":\n",
    "            a, b = stack.pop(), stack.pop()\n",
    "            stack.append(b - a)\n",
    "        elif item == \"*\":\n",
    "            stack.append(stack.pop() * stack.pop())\n",
    "        elif item == \"/\":\n",
    "            a, b = stack.pop(), stack.pop()\n",
    "            stack.append(int(b / a))\n",
    "        else:\n",
    "            stack.append(int(item))\n",
    "    return stack[0]"
   ]
  },
  {
   "cell_type": "code",
   "execution_count": 44,
   "metadata": {},
   "outputs": [
    {
     "name": "stdout",
     "output_type": "stream",
     "text": [
      "\u001b[32m.\u001b[0m\u001b[32m                                                                                            [100%]\u001b[0m\n",
      "\u001b[32m\u001b[32m\u001b[1m1 passed\u001b[0m\u001b[32m in 0.03s\u001b[0m\u001b[0m\n"
     ]
    }
   ],
   "source": [
    "%%ipytest \n",
    "def test_evalRPN():\n",
    "    assert evalRPN([\"2\",\"1\",\"+\",\"3\",\"*\"]) == 9\n",
    "    assert evalRPN([\"4\",\"13\",\"5\",\"/\",\"+\"]) == 6    \n",
    "    assert evalRPN([\"10\",\"6\",\"9\",\"3\",\"+\",\"-11\",\"*\",\"/\",\"*\",\"17\",\"+\",\"5\",\"+\"]) == 22"
   ]
  },
  {
   "cell_type": "code",
   "execution_count": 42,
   "metadata": {},
   "outputs": [
    {
     "data": {
      "text/plain": [
       "0"
      ]
     },
     "execution_count": 42,
     "metadata": {},
     "output_type": "execute_result"
    }
   ],
   "source": []
  },
  {
   "cell_type": "code",
   "execution_count": null,
   "metadata": {},
   "outputs": [],
   "source": []
  }
 ],
 "metadata": {
  "kernelspec": {
   "display_name": "Python 3",
   "language": "python",
   "name": "python3"
  },
  "language_info": {
   "codemirror_mode": {
    "name": "ipython",
    "version": 3
   },
   "file_extension": ".py",
   "mimetype": "text/x-python",
   "name": "python",
   "nbconvert_exporter": "python",
   "pygments_lexer": "ipython3",
   "version": "3.8.3"
  }
 },
 "nbformat": 4,
 "nbformat_minor": 4
}
