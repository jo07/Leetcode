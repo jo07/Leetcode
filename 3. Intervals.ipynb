{
 "cells": [
  {
   "cell_type": "code",
   "execution_count": 1,
   "metadata": {},
   "outputs": [],
   "source": [
    "import ipytest\n",
    "ipytest.autoconfig()\n",
    "import pytest"
   ]
  },
  {
   "cell_type": "markdown",
   "metadata": {},
   "source": [
    "## [Insert Interval](https://leetcode.com/problems/insert-interval/)"
   ]
  },
  {
   "cell_type": "raw",
   "metadata": {},
   "source": [
    "You are given an array of non-overlapping intervals intervals where intervals[i] = [start_i, end_i] represent the start and the end of the ith interval and intervals is sorted in ascending order by start_i. You are also given an interval newInterval = [start, end] that represents the start and end of another interval.\n",
    "\n",
    "Insert newInterval into intervals such that intervals is still sorted in ascending order by start_i and intervals still does not have any overlapping intervals (merge overlapping intervals if necessary).\n",
    "\n",
    "Return intervals after the insertion.\n",
    "\n",
    "Example 1:\n",
    "\n",
    "Input: intervals = [[1,3],[6,9]], newInterval = [2,5]\n",
    "Output: [[1,5],[6,9]]\n",
    "\n",
    "\n",
    "Example 2:\n",
    "\n",
    "Input: intervals = [[1,2],[3,5],[6,7],[8,10],[12,16]], newInterval = [4,8]\n",
    "Output: [[1,2],[3,10],[12,16]]\n",
    "Explanation: Because the new interval [4,8] overlaps with [3,5],[6,7],[8,10].\n",
    " \n",
    "\n",
    "Constraints:\n",
    "\n",
    "0 <= intervals.length <= 10^4\n",
    "intervals[i].length == 2\n",
    "0 <= start_i <= end_i <= 10^5\n",
    "intervals is sorted by start_i in ascending order.\n",
    "newInterval.length == 2\n",
    "0 <= start <= end <= 10^5"
   ]
  },
  {
   "cell_type": "code",
   "execution_count": 11,
   "metadata": {},
   "outputs": [],
   "source": [
    "# Solution\n",
    "# We are gonna divide the intervals to left and right based on following conditions while iterating over the list of lists\n",
    "# 1. If end of the current interval is less than start of the newInterval it belongs to the left list\n",
    "# 2. Else if the start of the current interval is greater than end of newInterval it belongs to the right list\n",
    "# 3. If we reach here it means our new interval is colliding with one or more intervals. So we are gonna few checks and\n",
    "#    update the start and end of the merged interval. Conditions are following\n",
    "#    a) new start is the min of current start, initialy newIntervals start, and start of the current interval\n",
    "#   b) new end is the max of current end, initially newIntervals end, and end of the current interval\n",
    "# Atlast we are gonna merge the left, the list made of start and end, the right to get the results"
   ]
  },
  {
   "cell_type": "code",
   "execution_count": 8,
   "metadata": {},
   "outputs": [],
   "source": [
    "# Implementaation\n",
    "def insert(intervals, newInterval):\n",
    "    left, right = [], []\n",
    "    s, e = newInterval[0], newInterval[1]\n",
    "    for i in intervals:\n",
    "        if i[1] < s:\n",
    "            left.append(i)\n",
    "        elif i[0] > e:\n",
    "            right.append(i)\n",
    "        else:\n",
    "            s = min(s, i[0])\n",
    "            e = max(e, i[1])\n",
    "    return left + [[s, e]] + right\n",
    "            "
   ]
  },
  {
   "cell_type": "code",
   "execution_count": 9,
   "metadata": {},
   "outputs": [
    {
     "name": "stdout",
     "output_type": "stream",
     "text": [
      "\u001b[32m.\u001b[0m\u001b[32m                                                                                            [100%]\u001b[0m\n",
      "\u001b[32m\u001b[32m\u001b[1m1 passed\u001b[0m\u001b[32m in 0.02s\u001b[0m\u001b[0m\n"
     ]
    }
   ],
   "source": [
    "%%ipytest \n",
    "def test_insert():\n",
    "    assert insert([[1,3],[6,9]], [2,5]) == [[1,5],[6,9]]\n",
    "    assert insert([[1,2],[3,5],[6,7],[8,10],[12,16]], [4,8]) == [[1,2],[3,10],[12,16]]"
   ]
  },
  {
   "cell_type": "markdown",
   "metadata": {},
   "source": [
    "## [Merge Interval](https://leetcode.com/problems/merge-intervals/)"
   ]
  },
  {
   "cell_type": "raw",
   "metadata": {},
   "source": [
    "Given an array of intervals where intervals[i] = [start_i, end_i], merge all overlapping intervals, and return an array of the non-overlapping intervals that cover all the intervals in the input.\n",
    "\n",
    "Example 1:\n",
    "\n",
    "Input: intervals = [[1,3],[2,6],[8,10],[15,18]]\n",
    "Output: [[1,6],[8,10],[15,18]]\n",
    "Explanation: Since intervals [1,3] and [2,6] overlaps, merge them into [1,6].\n",
    "\n",
    "Example 2:\n",
    "\n",
    "Input: intervals = [[1,4],[4,5]]\n",
    "Output: [[1,5]]\n",
    "Explanation: Intervals [1,4] and [4,5] are considered overlapping.\n",
    " \n",
    "\n",
    "Constraints:\n",
    "\n",
    "1 <= intervals.length <= 10^4\n",
    "intervals[i].length == 2\n",
    "0 <= starti <= endi <= 10^4"
   ]
  },
  {
   "cell_type": "code",
   "execution_count": 28,
   "metadata": {},
   "outputs": [],
   "source": [
    "# Solution\n",
    "# Similar to the last problem but still different\n",
    "# First we need to sort the lists inside the input list based on it's first element\n",
    "# We can start inserting in the array after checking if the last element of the last element in the result array is \n",
    "# greater or equal to the next item in the iteration. If so there is a collision and we need to merge from the last \n",
    "# item in the result till an item whose first element is greater than the max of all the item's end value before it\n",
    "# And we will have a TADA or a bingo"
   ]
  },
  {
   "cell_type": "code",
   "execution_count": 26,
   "metadata": {},
   "outputs": [],
   "source": [
    "# Implementation\n",
    "def merge(intervals):\n",
    "    res = []\n",
    "    for i in sorted(intervals, key= lambda x : x[0]):\n",
    "        if res and i[0] <= res[-1][1]:\n",
    "            res[-1][1] = max(i[1], res[-1][1])\n",
    "            res[-1][0] = min(i[0], res[-1][0])\n",
    "        else :\n",
    "            res.append(i)\n",
    "    return res\n",
    "        "
   ]
  },
  {
   "cell_type": "code",
   "execution_count": 27,
   "metadata": {},
   "outputs": [
    {
     "name": "stdout",
     "output_type": "stream",
     "text": [
      "\u001b[32m.\u001b[0m\u001b[32m                                                                                            [100%]\u001b[0m\n",
      "\u001b[32m\u001b[32m\u001b[1m1 passed\u001b[0m\u001b[32m in 0.01s\u001b[0m\u001b[0m\n"
     ]
    }
   ],
   "source": [
    "%%ipytest \n",
    "def test_merge():\n",
    "    assert merge([[1,3],[2,6],[8,10],[15,18]]) == [[1,6],[8,10],[15,18]]\n",
    "    assert merge([[1,4],[4,5]] ) == [[1,5]]\n",
    "    assert merge([[1,4],[0,0]]) == [[0,0], [1, 4]]"
   ]
  },
  {
   "cell_type": "code",
   "execution_count": 29,
   "metadata": {},
   "outputs": [],
   "source": [
    "# It's a tada"
   ]
  },
  {
   "cell_type": "markdown",
   "metadata": {},
   "source": [
    "## [Non-overlapping Intervals](https://leetcode.com/problems/non-overlapping-intervals/)"
   ]
  },
  {
   "cell_type": "raw",
   "metadata": {},
   "source": [
    "Given an array of intervals intervals where intervals[i] = [start_i, end_i], return the minimum number of intervals you need to remove to make the rest of the intervals non-overlapping.\n",
    "\n",
    " \n",
    "\n",
    "Example 1:\n",
    "\n",
    "Input: intervals = [[1,2],[2,3],[3,4],[1,3]]\n",
    "Output: 1\n",
    "Explanation: [1,3] can be removed and the rest of the intervals are non-overlapping.\n",
    "\n",
    "Example 2:\n",
    "\n",
    "Input: intervals = [[1,2],[1,2],[1,2]]\n",
    "Output: 2\n",
    "Explanation: You need to remove two [1,2] to make the rest of the intervals non-overlapping.\n",
    "\n",
    "Example 3:\n",
    "\n",
    "Input: intervals = [[1,2],[2,3]]\n",
    "Output: 0\n",
    "Explanation: You don't need to remove any of the intervals since they're already non-overlapping.\n",
    " \n",
    "\n",
    "Constraints:\n",
    "\n",
    "1 <= intervals.length <= 10^5\n",
    "intervals[i].length == 2\n",
    "-5 * 10^4 <= starti < endi <= 5 * 10^4"
   ]
  },
  {
   "cell_type": "code",
   "execution_count": 30,
   "metadata": {},
   "outputs": [],
   "source": [
    "# Solution\n",
    "# So we don't need the list itself but the count of lists that need to be removed to make it non-overlapping. \n",
    "# First we are gonna sort the list of lists based on the first element of the inner list, else nothing would work\n",
    "# Then we need to iterate over the list and check if any of the interval is overlapping with the next item. if so\n",
    "# increase count by one and keep on updating the end values\n"
   ]
  },
  {
   "cell_type": "code",
   "execution_count": 35,
   "metadata": {},
   "outputs": [],
   "source": [
    "# Implementation\n",
    "def eraseOverlapIntervals(intervals):\n",
    "    intervals = sorted(intervals, key = lambda x: x[0])\n",
    "    intervals = iter(intervals)\n",
    "    curr_item = next(intervals)\n",
    "    curr_end, cnt = curr_item[1], 0\n",
    "    for interval in intervals:\n",
    "        if interval[0] < curr_end:\n",
    "            cnt += 1\n",
    "            curr_end = min(curr_end, interval[1])\n",
    "        else:\n",
    "            curr_end = interval[1]\n",
    "    return cnt"
   ]
  },
  {
   "cell_type": "code",
   "execution_count": 36,
   "metadata": {},
   "outputs": [
    {
     "name": "stdout",
     "output_type": "stream",
     "text": [
      "\u001b[32m.\u001b[0m\u001b[32m                                                                                            [100%]\u001b[0m\n",
      "\u001b[32m\u001b[32m\u001b[1m1 passed\u001b[0m\u001b[32m in 0.02s\u001b[0m\u001b[0m\n"
     ]
    }
   ],
   "source": [
    "%%ipytest \n",
    "def test_eraseOverlapIntervals():\n",
    "    assert eraseOverlapIntervals([[1,2],[2,3],[3,4],[1,3]]) == 1\n",
    "    assert eraseOverlapIntervals([[1,2],[1,2],[1,2]]) == 2\n",
    "    assert eraseOverlapIntervals([[1,2],[2,3]]) == 0\n",
    "    assert eraseOverlapIntervals([[0,2],[1,3],[2,4],[3,5],[4,6]]) == 2"
   ]
  },
  {
   "cell_type": "code",
   "execution_count": 37,
   "metadata": {},
   "outputs": [],
   "source": [
    "# Nice TADA "
   ]
  },
  {
   "cell_type": "markdown",
   "metadata": {},
   "source": [
    "## [Meeting rooms](https://leetcode.com/problems/meeting-rooms/)"
   ]
  },
  {
   "cell_type": "markdown",
   "metadata": {},
   "source": [
    "Given an array of meeting time intervals consisting of start and end times [[s1,e1],[s2,e2],…] (si < ei), determine if a person could attend all meetings.\n",
    "\n",
    "Example 1\n",
    "Input: [[0,30],[5,10],[15,20]]\n",
    "Output: false\n",
    "\n",
    "Example 2\n",
    "Input: [[7,10],[2,4]]\n",
    "Output: true"
   ]
  },
  {
   "cell_type": "code",
   "execution_count": 38,
   "metadata": {},
   "outputs": [],
   "source": [
    "# Solution\n",
    "# This is easy, you need to just loop over the sorted array based on the first value of the inner list and then see\n",
    "# if the end of a meeting is less than the start of next. If it's ever false then it's overlapping"
   ]
  },
  {
   "cell_type": "code",
   "execution_count": 40,
   "metadata": {},
   "outputs": [],
   "source": [
    "# Implementation\n",
    "def canAttendMeetings(intervals):\n",
    "    intervals = sorted(intervals, key = lambda x : x[0])\n",
    "    for i in range(1, len(intervals)):\n",
    "        if intervals[i][0] < intervals[i-1][1]:\n",
    "            return False\n",
    "    return True"
   ]
  },
  {
   "cell_type": "code",
   "execution_count": 41,
   "metadata": {},
   "outputs": [
    {
     "name": "stdout",
     "output_type": "stream",
     "text": [
      "\u001b[32m.\u001b[0m\u001b[32m                                                                                            [100%]\u001b[0m\n",
      "\u001b[32m\u001b[32m\u001b[1m1 passed\u001b[0m\u001b[32m in 0.03s\u001b[0m\u001b[0m\n"
     ]
    }
   ],
   "source": [
    "%%ipytest \n",
    "def test_canAttendMeetings():\n",
    "    assert canAttendMeetings([[0,30],[5,10],[15,20]]) == False\n",
    "    assert canAttendMeetings([[7,10],[2,4]]) == True\n"
   ]
  },
  {
   "cell_type": "code",
   "execution_count": 42,
   "metadata": {},
   "outputs": [],
   "source": [
    "# Bingo"
   ]
  },
  {
   "cell_type": "code",
   "execution_count": null,
   "metadata": {},
   "outputs": [],
   "source": []
  },
  {
   "cell_type": "markdown",
   "metadata": {},
   "source": [
    "## [Meeting Rooms II](https://leetcode.com/problems/meeting-rooms-ii/)"
   ]
  },
  {
   "cell_type": "raw",
   "metadata": {},
   "source": [
    "Description\n",
    "Given an array of meeting time intervals consisting of start and end times [[s1,e1],[s2,e2],...] (si < ei), find the minimum number of conference rooms required.\n",
    "\n",
    "(0,8),(8,10) is not conflict at 8\n",
    "\n",
    "Example1\n",
    "\n",
    "Input: intervals = [(0,30),(5,10),(15,20)]\n",
    "Output: 2\n",
    "Explanation:\n",
    "We need two meeting rooms\n",
    "room1: (0,30)\n",
    "room2: (5,10),(15,20)\n",
    "\n",
    "\n",
    "Example2\n",
    "\n",
    "Input: intervals = [(2,7)]\n",
    "Output: 1\n",
    "Explanation: \n",
    "Only need one meeting room"
   ]
  },
  {
   "cell_type": "code",
   "execution_count": 43,
   "metadata": {},
   "outputs": [],
   "source": [
    "# Solution\n",
    "# We need to find the number of maximum overlaps throughout the interval. So we need a counter to count the number of\n",
    "# overlaps at a given point in time when we iterate over the list and another result variable to keep track of the \n",
    "# maximum overlap since overlap count would decrease after a meeting ends.\n",
    "# Now to count the number of overlaps we need to see how many end points we reach before the next start point\n",
    "# We will have to split the interals into two separate list for this one"
   ]
  },
  {
   "cell_type": "code",
   "execution_count": null,
   "metadata": {},
   "outputs": [],
   "source": []
  }
 ],
 "metadata": {
  "kernelspec": {
   "display_name": "Python 3",
   "language": "python",
   "name": "python3"
  },
  "language_info": {
   "codemirror_mode": {
    "name": "ipython",
    "version": 3
   },
   "file_extension": ".py",
   "mimetype": "text/x-python",
   "name": "python",
   "nbconvert_exporter": "python",
   "pygments_lexer": "ipython3",
   "version": "3.8.3"
  }
 },
 "nbformat": 4,
 "nbformat_minor": 4
}
