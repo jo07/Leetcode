{
 "cells": [
  {
   "cell_type": "markdown",
   "metadata": {},
   "source": [
    "## [Two Sum](https://leetcode.com/problems/two-sum/)"
   ]
  },
  {
   "cell_type": "raw",
   "metadata": {},
   "source": [
    "Given an array of integers nums and an integer target, return indices of the two numbers such that they add up to target.\n",
    "\n",
    "You may assume that each input would have exactly one solution, and you may not use the same element twice.\n",
    "\n",
    "You can return the answer in any order.\n",
    "\n",
    " \n",
    "\n",
    "Example 1:\n",
    "\n",
    "Input: nums = [2,7,11,15], target = 9\n",
    "Output: [0,1]\n",
    "Explanation: Because nums[0] + nums[1] == 9, we return [0, 1].\n",
    "\n",
    "Example 2:\n",
    "\n",
    "Input: nums = [3,2,4], target = 6\n",
    "Output: [1,2]\n",
    "\n",
    "Example 3:\n",
    "\n",
    "Input: nums = [3,3], target = 6\n",
    "Output: [0,1]\n",
    " \n",
    "\n",
    "Constraints:\n",
    "\n",
    "2 <= nums.length <= 10^4\n",
    "-10^9 <= nums[i] <= 10^9\n",
    "-10^9 <= target <= 10^9\n",
    "Only one valid answer exists.\n",
    " \n",
    "\n",
    "Follow-up: Can you come up with an algorithm that is less than O(n2) time complexity?"
   ]
  },
  {
   "cell_type": "code",
   "execution_count": 1,
   "metadata": {},
   "outputs": [],
   "source": [
    "# Solution\n",
    "# We can do this in O(n) time it seems. That's just one iteration of the entire list\n",
    "# so the equation we are dealing with here is target = xa + xb. where a and b are the index of elements in the list\n",
    "# and xa and xb are the element whos position we are looking for. So our output is [a,b]\n",
    "# In the for loop we are looking at xa and we know the target too. Now we need xb. What if we store value of\n",
    "# target - xa as the key in a hash table and the value as 'a', the position of xa?\n",
    "# Now when and if we reach xb, we can just look it up in the dict to see if the key is present or not. If present\n",
    "# then we can get the value of a and we currently have b. Bingo\n"
   ]
  },
  {
   "cell_type": "code",
   "execution_count": 9,
   "metadata": {},
   "outputs": [],
   "source": [
    "def twoSum( nums, target):\n",
    "    # we are gonna store \"(target - xa) : a \" in this dict\n",
    "    buffer_dict = {}\n",
    "    for i, x in enumerate(nums):\n",
    "        if x in buffer_dict:\n",
    "            # This is what we are looking for\n",
    "            return [buffer_dict[x], i]\n",
    "        else:\n",
    "            # And this is how we build the dict\n",
    "            buffer_dict[target-x] = i"
   ]
  },
  {
   "cell_type": "code",
   "execution_count": 10,
   "metadata": {},
   "outputs": [],
   "source": [
    "# Now let's try the test cases"
   ]
  },
  {
   "cell_type": "code",
   "execution_count": 11,
   "metadata": {},
   "outputs": [
    {
     "data": {
      "text/plain": [
       "[0, 1]"
      ]
     },
     "execution_count": 11,
     "metadata": {},
     "output_type": "execute_result"
    }
   ],
   "source": [
    "nums = [2,7,11,15]\n",
    "target = 9\n",
    "twoSum(nums, target)"
   ]
  },
  {
   "cell_type": "code",
   "execution_count": 12,
   "metadata": {},
   "outputs": [
    {
     "data": {
      "text/plain": [
       "[1, 2]"
      ]
     },
     "execution_count": 12,
     "metadata": {},
     "output_type": "execute_result"
    }
   ],
   "source": [
    "# Good\n",
    "nums = [3,2,4]\n",
    "target = 6\n",
    "twoSum(nums, target)"
   ]
  },
  {
   "cell_type": "code",
   "execution_count": 13,
   "metadata": {},
   "outputs": [
    {
     "data": {
      "text/plain": [
       "[0, 1]"
      ]
     },
     "execution_count": 13,
     "metadata": {},
     "output_type": "execute_result"
    }
   ],
   "source": [
    "# Very good\n",
    "nums = [3,3]\n",
    "target = 6\n",
    "twoSum(nums, target)"
   ]
  },
  {
   "cell_type": "code",
   "execution_count": 14,
   "metadata": {},
   "outputs": [],
   "source": [
    "# Awesome"
   ]
  },
  {
   "cell_type": "code",
   "execution_count": 15,
   "metadata": {},
   "outputs": [],
   "source": [
    "# It worked but the runtime in leetcode fluctuates if we resubmit the same code again and again. What's that about?"
   ]
  },
  {
   "cell_type": "markdown",
   "metadata": {},
   "source": [
    "## [Best Time to Buy and Sell Stock](https://leetcode.com/problems/best-time-to-buy-and-sell-stock/)"
   ]
  },
  {
   "cell_type": "raw",
   "metadata": {},
   "source": [
    "You are given an array prices where prices[i] is the price of a given stock on the ith day.\n",
    "\n",
    "You want to maximize your profit by choosing a single day to buy one stock and choosing a different day in the future to sell that stock.\n",
    "\n",
    "Return the maximum profit you can achieve from this transaction. If you cannot achieve any profit, return 0.\n",
    "\n",
    " \n",
    "\n",
    "Example 1:\n",
    "\n",
    "Input: prices = [7,1,5,3,6,4]\n",
    "Output: 5\n",
    "Explanation: Buy on day 2 (price = 1) and sell on day 5 (price = 6), profit = 6-1 = 5.\n",
    "Note that buying on day 2 and selling on day 1 is not allowed because you must buy before you sell.\n",
    "\n",
    "\n",
    "Example 2:\n",
    "\n",
    "Input: prices = [7,6,4,3,1]\n",
    "Output: 0\n",
    "Explanation: In this case, no transactions are done and the max profit = 0.\n",
    " \n",
    "\n",
    "Constraints:\n",
    "\n",
    "1 <= prices.length <= 10^5\n",
    "0 <= prices[i] <= 10^4"
   ]
  },
  {
   "cell_type": "code",
   "execution_count": 16,
   "metadata": {},
   "outputs": [],
   "source": [
    "# Solution\n",
    "# This can also be done in O(n) time. That is by traveling the list exactly once. \n",
    "# You keep track of the min price comparing after each element and then keep track of the max profit  \n",
    "# And with each element we calculate the min price and calculate the profit by comparing it with the current price"
   ]
  },
  {
   "cell_type": "code",
   "execution_count": 18,
   "metadata": {},
   "outputs": [],
   "source": [
    "# Let's implement the solution\n",
    "def maxProfit(prices):\n",
    "    maxProfit, minPrice = 0, float('inf')\n",
    "    for price in prices:\n",
    "        minPrice = min(minPrice, price)\n",
    "        maxProfit = max(maxProfit, price-minPrice)\n",
    "    return maxProfit"
   ]
  },
  {
   "cell_type": "code",
   "execution_count": 5,
   "metadata": {},
   "outputs": [],
   "source": [
    "# We are gonna update the testing procedure\n",
    "import ipytest\n",
    "ipytest.autoconfig()\n",
    "import pytest"
   ]
  },
  {
   "cell_type": "code",
   "execution_count": 21,
   "metadata": {},
   "outputs": [
    {
     "name": "stdout",
     "output_type": "stream",
     "text": [
      "\u001b[32m.\u001b[0m\u001b[32m                                                                                            [100%]\u001b[0m\n",
      "\u001b[32m\u001b[32m\u001b[1m1 passed\u001b[0m\u001b[32m in 0.01s\u001b[0m\u001b[0m\n"
     ]
    }
   ],
   "source": [
    "%%ipytest \n",
    "def test_maxProfit():\n",
    "    assert maxProfit([7,1,5,3,6,4]) == 5\n",
    "    assert maxProfit([7,6,4,3,1]) == 0"
   ]
  },
  {
   "cell_type": "code",
   "execution_count": 22,
   "metadata": {},
   "outputs": [],
   "source": [
    "# Sooper"
   ]
  },
  {
   "cell_type": "markdown",
   "metadata": {},
   "source": [
    "## [Contains Duplicate](https://leetcode.com/problems/contains-duplicate/)"
   ]
  },
  {
   "cell_type": "raw",
   "metadata": {},
   "source": [
    "Given an integer array nums, return true if any value appears at least twice in the array, and return false if every element is distinct.\n",
    "\n",
    " \n",
    "\n",
    "Example 1:\n",
    "\n",
    "Input: nums = [1,2,3,1]\n",
    "Output: true\n",
    "\n",
    "\n",
    "Example 2:\n",
    "\n",
    "Input: nums = [1,2,3,4]\n",
    "Output: false\n",
    "\n",
    "\n",
    "Example 3:\n",
    "\n",
    "Input: nums = [1,1,1,3,3,4,3,2,4,2]\n",
    "Output: true\n",
    " \n",
    "\n",
    "Constraints:\n",
    "\n",
    "1 <= nums.length <= 10^5\n",
    "-10^9 <= nums[i] <= 10^9"
   ]
  },
  {
   "cell_type": "code",
   "execution_count": 23,
   "metadata": {},
   "outputs": [],
   "source": [
    "# Solution\n",
    "# This couldn't get easier. You just need to know that set doesn't contain duplicates. Just compare the length of list\n",
    "# to length of the set. Duh!"
   ]
  },
  {
   "cell_type": "code",
   "execution_count": 28,
   "metadata": {},
   "outputs": [],
   "source": [
    "# Implementation\n",
    "def containsDuplicate( nums):\n",
    "    return len(nums) != len(set(nums))"
   ]
  },
  {
   "cell_type": "code",
   "execution_count": 29,
   "metadata": {},
   "outputs": [
    {
     "name": "stdout",
     "output_type": "stream",
     "text": [
      "\u001b[32m.\u001b[0m\u001b[32m                                                                                            [100%]\u001b[0m\n",
      "\u001b[32m\u001b[32m\u001b[1m1 passed\u001b[0m\u001b[32m in 0.01s\u001b[0m\u001b[0m\n"
     ]
    }
   ],
   "source": [
    "%%ipytest \n",
    "def test_containsDuplicate():\n",
    "    assert containsDuplicate([1,2,3,1] ) == True\n",
    "    assert containsDuplicate([1,2,3,4]) == False\n",
    "    assert containsDuplicate([1,1,1,3,3,4,3,2,4,2] ) == True"
   ]
  },
  {
   "cell_type": "code",
   "execution_count": 30,
   "metadata": {},
   "outputs": [],
   "source": [
    "# Duh!"
   ]
  },
  {
   "cell_type": "markdown",
   "metadata": {},
   "source": [
    "## [Product of Array Except Self](https://leetcode.com/problems/product-of-array-except-self/)"
   ]
  },
  {
   "cell_type": "raw",
   "metadata": {},
   "source": [
    "Given an integer array nums, return an array answer such that answer[i] is equal to the product of all the elements of nums except nums[i].\n",
    "\n",
    "The product of any prefix or suffix of nums is guaranteed to fit in a 32-bit integer.\n",
    "\n",
    "You must write an algorithm that runs in O(n) time and without using the division operation.\n",
    "\n",
    " \n",
    "\n",
    "Example 1:\n",
    "\n",
    "Input: nums = [1,2,3,4]\n",
    "Output: [24,12,8,6]\n",
    "\n",
    "\n",
    "Example 2:\n",
    "\n",
    "Input: nums = [-1,1,0,-3,3]\n",
    "Output: [0,0,9,0,0]\n",
    " \n",
    "\n",
    "Constraints:\n",
    "\n",
    "2 <= nums.length <= 10^5\n",
    "-30 <= nums[i] <= 30\n",
    "The product of any prefix or suffix of nums is guaranteed to fit in a 32-bit integer.\n",
    " \n",
    "\n",
    "Follow up: Can you solve the problem in O(1) extra space complexity? (The output array does not count as extra space for space complexity analysis.)"
   ]
  },
  {
   "cell_type": "code",
   "execution_count": 2,
   "metadata": {},
   "outputs": [],
   "source": [
    "# Solution\n",
    "# This might look crazy but it has a very simple solution using arrays.\n",
    "# For the 'i'th element in the array what you need is the product of every single element except the 'i'th element\n",
    "# What you can do is start taking product of every element from left to right and save the current product at the\n",
    "# next position as we go.\n",
    "# Suppose we have [1, 2, 3, 4, 5] as the input array. After the above operation the result array becomes [1,1,2,6,24]\n",
    "# Then we repeat this operation from the other end and we get [ 120 ,60 ,40 ,30, 24]\n",
    "# And that is a TADA!!!"
   ]
  },
  {
   "cell_type": "code",
   "execution_count": 11,
   "metadata": {},
   "outputs": [],
   "source": [
    "# Implementation\n",
    "def productExceptSelf(nums):\n",
    "    l = len(nums)\n",
    "    prod = 1\n",
    "    output = []\n",
    "    for i in range(0,l):\n",
    "        # We append it to output before taking the product\n",
    "        output.append(prod)\n",
    "        prod *= nums[i]\n",
    "        \n",
    "    prod = 1\n",
    "    \n",
    "    # step is -1 and and the end clause -1 is not exclusive so it will go till 0 only\n",
    "    for i in range(l-1, -1, -1):\n",
    "        output[i] *= prod\n",
    "        prod *= nums[i]\n",
    "    \n",
    "    return output"
   ]
  },
  {
   "cell_type": "code",
   "execution_count": 13,
   "metadata": {},
   "outputs": [
    {
     "name": "stdout",
     "output_type": "stream",
     "text": [
      "\u001b[32m.\u001b[0m\u001b[32m                                                                                            [100%]\u001b[0m\n",
      "\u001b[32m\u001b[32m\u001b[1m1 passed\u001b[0m\u001b[32m in 0.02s\u001b[0m\u001b[0m\n"
     ]
    }
   ],
   "source": [
    "%%ipytest \n",
    "def test_containsDuplicate():\n",
    "    assert productExceptSelf([1,2,3,4] ) == [24,12,8,6]\n",
    "    assert productExceptSelf([-1,1,0,-3,3]) == [0,0,9,0,0]\n"
   ]
  },
  {
   "cell_type": "code",
   "execution_count": 14,
   "metadata": {},
   "outputs": [],
   "source": [
    "# TADA!! has been tested and verified"
   ]
  },
  {
   "cell_type": "markdown",
   "metadata": {},
   "source": [
    "## [Maximum Subarray](https://leetcode.com/problems/maximum-subarray/)"
   ]
  },
  {
   "cell_type": "raw",
   "metadata": {},
   "source": [
    "Given an integer array nums, find the contiguous subarray (containing at least one number) which has the largest sum and return its sum.\n",
    "\n",
    "A subarray is a contiguous part of an array.\n",
    "\n",
    " \n",
    "\n",
    "Example 1:\n",
    "\n",
    "Input: nums = [-2,1,-3,4,-1,2,1,-5,4]\n",
    "Output: 6\n",
    "Explanation: [4,-1,2,1] has the largest sum = 6.\n",
    "\n",
    "\n",
    "\n",
    "Example 2:\n",
    "\n",
    "Input: nums = [1]\n",
    "Output: 1\n",
    "\n",
    "\n",
    "Example 3:\n",
    "\n",
    "Input: nums = [5,4,-1,7,8]\n",
    "Output: 23\n",
    " \n",
    "\n",
    "Constraints:\n",
    "\n",
    "1 <= nums.length <= 10^5\n",
    "-10^4 <= nums[i] <= 10^4\n",
    " \n",
    "\n",
    "Follow up: If you have figured out the O(n) solution, try coding another solution using the divide and conquer approach, which is more subtle."
   ]
  },
  {
   "cell_type": "code",
   "execution_count": 16,
   "metadata": {},
   "outputs": [],
   "source": [
    "# Solution\n",
    "# Okay this is also a cool solution. We just need to keep track of two variables while we traverse the list\n",
    "# 1. the max_sum value till now which is basically the max sum value till the current element in the list\n",
    "# 2. a cur_sum variable which just compares the sum of current sum until now plus the next element against the next\n",
    "# element. I was confused at first too.\n",
    "# We are gonna keep comparing max_sum and cur_sum in each iteration. max_sum holds the global maxima and\n",
    "# cur_sum keeps the local maxima value uptill the current iteration. That simple."
   ]
  },
  {
   "cell_type": "code",
   "execution_count": 17,
   "metadata": {},
   "outputs": [],
   "source": [
    "# Implementation\n",
    "def maxSubArray(nums):\n",
    "    # Since it's given in the problem that the list will atleast have one element\n",
    "    max_sum = cur_sum = nums[0]\n",
    "    l = len(nums)\n",
    "    for i in range(1, l):\n",
    "        cur_sum = max(cur_sum + nums[i], nums[i])\n",
    "        max_sum = max(max_sum, cur_sum)\n",
    "    return max_sum"
   ]
  },
  {
   "cell_type": "code",
   "execution_count": 18,
   "metadata": {},
   "outputs": [
    {
     "name": "stdout",
     "output_type": "stream",
     "text": [
      "\u001b[32m.\u001b[0m\u001b[32m                                                                                            [100%]\u001b[0m\n",
      "\u001b[32m\u001b[32m\u001b[1m1 passed\u001b[0m\u001b[32m in 0.01s\u001b[0m\u001b[0m\n"
     ]
    }
   ],
   "source": [
    "%%ipytest \n",
    "def test_containsDuplicate():\n",
    "    assert maxSubArray([-2,1,-3,4,-1,2,1,-5,4] ) == 6\n",
    "    assert maxSubArray([5,4,-1,7,8]) == 23\n",
    "    assert maxSubArray([1]) == 1\n"
   ]
  },
  {
   "cell_type": "code",
   "execution_count": 19,
   "metadata": {},
   "outputs": [],
   "source": [
    "# Wicked cool!!!"
   ]
  },
  {
   "cell_type": "markdown",
   "metadata": {},
   "source": [
    "## [Maximum Product Subarray](https://leetcode.com/problems/maximum-product-subarray/)\n"
   ]
  },
  {
   "cell_type": "raw",
   "metadata": {},
   "source": [
    "Given an integer array nums, find a contiguous non-empty subarray within the array that has the largest product, and return the product.\n",
    "\n",
    "The test cases are generated so that the answer will fit in a 32-bit integer.\n",
    "\n",
    "A subarray is a contiguous subsequence of the array.\n",
    "\n",
    " \n",
    "\n",
    "Example 1:\n",
    "\n",
    "Input: nums = [2,3,-2,4]\n",
    "Output: 6\n",
    "Explanation: [2,3] has the largest product 6.\n",
    "    \n",
    "    \n",
    "Example 2:\n",
    "\n",
    "Input: nums = [-2,0,-1]\n",
    "Output: 0\n",
    "Explanation: The result cannot be 2, because [-2,-1] is not a subarray.\n",
    " \n",
    "\n",
    "Constraints:\n",
    "\n",
    "1 <= nums.length <= 2 * 10^4\n",
    "-10 <= nums[i] <= 10\n",
    "The product of any prefix or suffix of nums is guaranteed to fit in a 32-bit integer."
   ]
  },
  {
   "cell_type": "code",
   "execution_count": 21,
   "metadata": {},
   "outputs": [],
   "source": [
    "# Solution\n",
    "# This gets a bit trickier than the max sum problem above since we have negative numbers and product of two negatives  \n",
    "# is positive. So we need to keep track of the min product also since if the next item in the array is negative then\n",
    "# the min prod will become max prod if min prod was already negative. It's just one more comparison"
   ]
  },
  {
   "cell_type": "code",
   "execution_count": 28,
   "metadata": {},
   "outputs": [],
   "source": [
    "# Implementation\n",
    "def maxProduct(nums):\n",
    "    # Since array will contain atleast one element\n",
    "    max_prod = min_prod = global_max = nums[0]\n",
    "    n = len(nums)\n",
    "    \n",
    "    for i in range(1, n):\n",
    "        # three contenders for max and min each\n",
    "        max_prod = max(max_prod * nums[i], min_prod * nums[i], nums[i])\n",
    "        min_prod = min(max_prod * nums[i], min_prod * nums[i], nums[i])\n",
    "        global_max = max(max_prod, global_max)\n",
    "    return global_max"
   ]
  },
  {
   "cell_type": "code",
   "execution_count": 31,
   "metadata": {},
   "outputs": [
    {
     "name": "stdout",
     "output_type": "stream",
     "text": [
      "\u001b[31mF\u001b[0m\u001b[31m                                                                                            [100%]\u001b[0m\n",
      "============================================= FAILURES =============================================\n",
      "\u001b[31m\u001b[1m______________________________________ test_containsDuplicate ______________________________________\u001b[0m\n",
      "\n",
      "    \u001b[94mdef\u001b[39;49;00m \u001b[92mtest_containsDuplicate\u001b[39;49;00m():\n",
      "        \u001b[94massert\u001b[39;49;00m maxProduct([\u001b[94m2\u001b[39;49;00m,\u001b[94m3\u001b[39;49;00m,-\u001b[94m2\u001b[39;49;00m,\u001b[94m4\u001b[39;49;00m] ) == \u001b[94m6\u001b[39;49;00m\n",
      "        \u001b[94massert\u001b[39;49;00m maxProduct([-\u001b[94m2\u001b[39;49;00m,\u001b[94m0\u001b[39;49;00m,-\u001b[94m1\u001b[39;49;00m]) == \u001b[94m0\u001b[39;49;00m\n",
      ">       \u001b[94massert\u001b[39;49;00m maxProduct([-\u001b[94m4\u001b[39;49;00m,-\u001b[94m3\u001b[39;49;00m,-\u001b[94m2\u001b[39;49;00m]) == \u001b[94m12\u001b[39;49;00m\n",
      "\u001b[1m\u001b[31mE       assert 72 == 12\u001b[0m\n",
      "\u001b[1m\u001b[31mE        +  where 72 = maxProduct([-4, -3, -2])\u001b[0m\n",
      "\n",
      "\u001b[1m\u001b[31m<ipython-input-31-27f86c324b99>\u001b[0m:4: AssertionError\n",
      "===================================== short test summary info ======================================\n",
      "FAILED tmpplxq21m0.py::test_containsDuplicate - assert 72 == 12\n",
      "\u001b[31m\u001b[31m\u001b[1m1 failed\u001b[0m\u001b[31m in 0.14s\u001b[0m\u001b[0m\n"
     ]
    }
   ],
   "source": [
    "%%ipytest \n",
    "def test_containsDuplicate():\n",
    "    assert maxProduct([2,3,-2,4] ) == 6\n",
    "    assert maxProduct([-2,0,-1]) == 0\n",
    "    assert maxProduct([-4,-3,-2]) == 12\n"
   ]
  },
  {
   "cell_type": "code",
   "execution_count": 30,
   "metadata": {},
   "outputs": [],
   "source": [
    "# That's a bingo."
   ]
  },
  {
   "cell_type": "code",
   "execution_count": 34,
   "metadata": {},
   "outputs": [],
   "source": [
    "# Implementation\n",
    "def maxProduct(nums):\n",
    "    # Since array will contain atleast one element\n",
    "    max_prod = min_prod = global_max = nums[0]\n",
    "    n = len(nums)\n",
    "    \n",
    "    for i in range(1, n):\n",
    "        # three contenders for max and min each\n",
    "        max_prod = max(max_prod * nums[i], min_prod * nums[i], nums[i])\n",
    "        min_prod = min(max_prod * nums[i], min_prod * nums[i], nums[i])\n",
    "        global_max = max(max_prod, global_max)\n",
    "        print(\"G : {}, max : {}, min {}, n : {}\".format(global_max, max_prod, min_prod, n))\n",
    "    return global_max"
   ]
  },
  {
   "cell_type": "code",
   "execution_count": 35,
   "metadata": {},
   "outputs": [
    {
     "name": "stdout",
     "output_type": "stream",
     "text": [
      "G : 12, max : 12, min -36, n : 3\n",
      "G : 72, max : 72, min -144, n : 3\n"
     ]
    },
    {
     "data": {
      "text/plain": [
       "72"
      ]
     },
     "execution_count": 35,
     "metadata": {},
     "output_type": "execute_result"
    }
   ],
   "source": [
    "maxProduct([-4,-3,-2])"
   ]
  },
  {
   "cell_type": "code",
   "execution_count": 36,
   "metadata": {},
   "outputs": [],
   "source": [
    "# That was a false bingo. We are updating the max_prod in the first line of for loop and using that updated max_prod\n",
    "# to find the min_ prod, which screws up our logic"
   ]
  },
  {
   "cell_type": "code",
   "execution_count": 38,
   "metadata": {},
   "outputs": [],
   "source": [
    "# Implementation\n",
    "def maxProduct(nums):\n",
    "    # Since array will contain atleast one element\n",
    "    max_prod = min_prod = global_max = nums[0]\n",
    "    n = len(nums)\n",
    "    \n",
    "    for i in range(1, n):\n",
    "        # three contenders for max and min each\n",
    "        max_prod_latest = max(max_prod * nums[i], min_prod * nums[i], nums[i])\n",
    "        min_prod = min(max_prod * nums[i], min_prod * nums[i], nums[i])\n",
    "        max_prod = max_prod_latest\n",
    "        global_max = max(max_prod, global_max)\n",
    "    return global_max"
   ]
  },
  {
   "cell_type": "code",
   "execution_count": 39,
   "metadata": {},
   "outputs": [
    {
     "name": "stdout",
     "output_type": "stream",
     "text": [
      "\u001b[32m.\u001b[0m\u001b[32m                                                                                            [100%]\u001b[0m\n",
      "\u001b[32m\u001b[32m\u001b[1m1 passed\u001b[0m\u001b[32m in 0.02s\u001b[0m\u001b[0m\n"
     ]
    }
   ],
   "source": [
    "%%ipytest \n",
    "def test_containsDuplicate():\n",
    "    assert maxProduct([2,3,-2,4] ) == 6\n",
    "    assert maxProduct([-2,0,-1]) == 0\n",
    "    assert maxProduct([-4,-3,-2]) == 12\n"
   ]
  },
  {
   "cell_type": "code",
   "execution_count": null,
   "metadata": {},
   "outputs": [],
   "source": [
    "# This is a sure shot bingo"
   ]
  }
 ],
 "metadata": {
  "kernelspec": {
   "display_name": "Python 3",
   "language": "python",
   "name": "python3"
  },
  "language_info": {
   "codemirror_mode": {
    "name": "ipython",
    "version": 3
   },
   "file_extension": ".py",
   "mimetype": "text/x-python",
   "name": "python",
   "nbconvert_exporter": "python",
   "pygments_lexer": "ipython3",
   "version": "3.8.3"
  }
 },
 "nbformat": 4,
 "nbformat_minor": 4
}
