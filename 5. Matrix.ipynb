{
 "cells": [
  {
   "cell_type": "markdown",
   "metadata": {},
   "source": [
    "### Matrix"
   ]
  },
  {
   "cell_type": "code",
   "execution_count": 1,
   "metadata": {},
   "outputs": [],
   "source": [
    "# Python testing module\n",
    "import ipytest\n",
    "ipytest.autoconfig()\n",
    "import pytest"
   ]
  },
  {
   "cell_type": "markdown",
   "metadata": {},
   "source": [
    "## [Set Matrix Zeroes](https://leetcode.com/problems/set-matrix-zeroes/)"
   ]
  },
  {
   "cell_type": "raw",
   "metadata": {},
   "source": [
    "Given an m x n integer matrix 'matrix', if an element is 0, set its entire row and column to 0's.\n",
    "\n",
    "You must do it in place.\n",
    "\n",
    " \n",
    "\n",
    "Example 1:\n",
    "\n",
    "\n",
    "Input: matrix = [[1,1,1],[1,0,1],[1,1,1]]\n",
    "Output: [[1,0,1],[0,0,0],[1,0,1]]\n",
    "\n",
    "Example 2:\n",
    "\n",
    "\n",
    "Input: matrix = [[0,1,2,0],[3,4,5,2],[1,3,1,5]]\n",
    "Output: [[0,0,0,0],[0,4,5,0],[0,3,1,0]]\n",
    " \n",
    "\n",
    "Constraints:\n",
    "\n",
    "m == matrix.length\n",
    "n == matrix[0].length\n",
    "1 <= m, n <= 200\n",
    "-231 <= matrix[i][j] <= 231 - 1\n",
    " \n",
    "\n",
    "Follow up:\n",
    "\n",
    "A straightforward solution using O(mn) space is probably a bad idea.\n",
    "A simple improvement uses O(m + n) space, but still not the best solution.\n",
    "Could you devise a constant space solution?"
   ]
  },
  {
   "cell_type": "code",
   "execution_count": 6,
   "metadata": {},
   "outputs": [],
   "source": [
    "# Solution\n",
    "# First we need two variables to track if there are zeroes in first row or column and keep it handy\n",
    "# We are gonna store a zero if the product of all the elements in a row is zero in the first column and store zero\n",
    "# in the first row if any of the corresponding columns product is zero\n",
    "# In our next iteration we are going to put zeroes in every row if the corresponding element in the first column is\n",
    "# zero and vice versa for the columns\n",
    "# Then we are gonna check the tracker for first row and column is true or not. If true then we need to set the first\n",
    "# row and/or column to zero and we will have a TADA !!!"
   ]
  },
  {
   "cell_type": "code",
   "execution_count": 45,
   "metadata": {},
   "outputs": [],
   "source": [
    "# Implementation\n",
    "def setZeroes(matrix) :\n",
    "\n",
    "    m = len(matrix) #  no. of rows\n",
    "    if m == 0:\n",
    "        return matrix\n",
    "    \n",
    "    n = len(matrix[0]) # no. of cols\n",
    "    \n",
    "    # find if first row has zeroes\n",
    "    p = 1\n",
    "    for i in range(m):\n",
    "        p *= matrix[i][0]\n",
    "    first_row_has_zeroes = [False, True][p == 0]\n",
    "    \n",
    "    # find if first column had zeroes\n",
    "    p = 1\n",
    "    for j in range(n):\n",
    "        p *= matrix[0][j]\n",
    "    first_col_has_zeroes = [False, True][p == 0]\n",
    "    for i in range(m):\n",
    "        for j in range(n):\n",
    "            if matrix[i][j] == 0:\n",
    "                # set column of ith row as zero\n",
    "                matrix[i][0] = 0\n",
    "                # set first row of jth col as zero\n",
    "                matrix[0][j] = 0\n",
    "                \n",
    "    for i in range(1, m):\n",
    "        if matrix[i][0] == 0:\n",
    "            for j in range(1, n):\n",
    "                matrix[i][j] = 0\n",
    "    \n",
    "    for j in range(1, n):\n",
    "        if matrix[0][j] == 0:\n",
    "            for i in range(1, m):\n",
    "                matrix[i][j] = 0\n",
    "                \n",
    "    if first_row_has_zeroes:\n",
    "        for i in range(m):\n",
    "            matrix[i][0] = 0\n",
    "    \n",
    "    if first_col_has_zeroes:\n",
    "        for j in range(n):\n",
    "            matrix[0][j] = 0\n",
    "    return matrix"
   ]
  },
  {
   "cell_type": "code",
   "execution_count": 46,
   "metadata": {},
   "outputs": [
    {
     "name": "stdout",
     "output_type": "stream",
     "text": [
      "\u001b[32m.\u001b[0m\u001b[32m                                                                                            [100%]\u001b[0m\n",
      "\u001b[32m\u001b[32m\u001b[1m1 passed\u001b[0m\u001b[32m in 0.02s\u001b[0m\u001b[0m\n"
     ]
    }
   ],
   "source": [
    "%%ipytest \n",
    "def test_setZeroes():\n",
    "    assert setZeroes([[1,1,1],[1,0,1],[1,1,1]]) == [[1,0,1],[0,0,0],[1,0,1]]\n",
    "    assert setZeroes([[0,1,2,0],[3,4,5,2],[1,3,1,5]]) == [[0,0,0,0],[0,4,5,0],[0,3,1,0]]"
   ]
  },
  {
   "cell_type": "code",
   "execution_count": 47,
   "metadata": {},
   "outputs": [
    {
     "name": "stdout",
     "output_type": "stream",
     "text": [
      "row : True, col : True\n"
     ]
    },
    {
     "data": {
      "text/plain": [
       "[[0, 0, 0, 0], [0, 4, 5, 0], [0, 3, 1, 0]]"
      ]
     },
     "execution_count": 47,
     "metadata": {},
     "output_type": "execute_result"
    }
   ],
   "source": [
    "matrix = [[0,1,2,0],[3,4,5,2],[1,3,1,5]]\n",
    "setZeroes(matrix)"
   ]
  },
  {
   "cell_type": "code",
   "execution_count": 48,
   "metadata": {},
   "outputs": [
    {
     "name": "stdout",
     "output_type": "stream",
     "text": [
      "row : False, col : False\n"
     ]
    },
    {
     "data": {
      "text/plain": [
       "[[1, 0, 1], [0, 0, 0], [1, 0, 1]]"
      ]
     },
     "execution_count": 48,
     "metadata": {},
     "output_type": "execute_result"
    }
   ],
   "source": [
    "setZeroes([[1,1,1],[1,0,1],[1,1,1]])"
   ]
  },
  {
   "cell_type": "code",
   "execution_count": 49,
   "metadata": {},
   "outputs": [],
   "source": [
    "# After lot of debugging we have a bingo"
   ]
  },
  {
   "cell_type": "markdown",
   "metadata": {},
   "source": [
    "## [Spiral Matrix](https://leetcode.com/problems/spiral-matrix/)"
   ]
  },
  {
   "cell_type": "raw",
   "metadata": {},
   "source": [
    "Given an m x n matrix, return all elements of the matrix in spiral order.\n",
    "\n",
    "Example 1:\n",
    "\n",
    "Input: matrix = [[1,2,3],[4,5,6],[7,8,9]]\n",
    "Output: [1,2,3,6,9,8,7,4,5]\n",
    "\n",
    "Example 2:\n",
    "\n",
    "\n",
    "Input: matrix = [[1,2,3,4],[5,6,7,8],[9,10,11,12]]\n",
    "Output: [1,2,3,4,8,12,11,10,9,5,6,7]\n",
    " \n",
    "\n",
    "Constraints:\n",
    "\n",
    "m == matrix.length\n",
    "n == matrix[i].length\n",
    "1 <= m, n <= 10\n",
    "-100 <= matrix[i][j] <= 100"
   ]
  },
  {
   "cell_type": "code",
   "execution_count": 50,
   "metadata": {},
   "outputs": [
    {
     "name": "stdout",
     "output_type": "stream",
     "text": [
      "(1, 2, 3)\n",
      "(4, 5, 6)\n",
      "(7, 8, 9)\n",
      "(10, 11, 12)\n",
      "\n",
      "\n",
      "(1, 4, 7, 10)\n",
      "(2, 5, 8, 11)\n",
      "(3, 6, 9, 12)\n"
     ]
    }
   ],
   "source": [
    "\n",
    "matrix=[(1,2,3),(4,5,6),(7,8,9),(10,11,12)]\n",
    "for row in matrix:\n",
    "    print(row)\n",
    "print(\"\\n\")\n",
    "t_matrix = zip(*matrix)\n",
    "for row in t_matrix:\n",
    "    print(row)"
   ]
  },
  {
   "cell_type": "code",
   "execution_count": 53,
   "metadata": {},
   "outputs": [
    {
     "data": {
      "text/plain": [
       "array([[0, 1],\n",
       "       [2, 3]])"
      ]
     },
     "execution_count": 53,
     "metadata": {},
     "output_type": "execute_result"
    }
   ],
   "source": [
    "import numpy as np\n",
    "np.arange(4).reshape((2,2))"
   ]
  },
  {
   "cell_type": "code",
   "execution_count": 77,
   "metadata": {},
   "outputs": [
    {
     "data": {
      "text/plain": [
       "array([[ 0,  1,  2,  3,  4,  5,  6,  7,  8,  9],\n",
       "       [10, 11, 12, 13, 14, 15, 16, 17, 18, 19],\n",
       "       [20, 21, 22, 23, 24, 25, 26, 27, 28, 29],\n",
       "       [30, 31, 32, 33, 34, 35, 36, 37, 38, 39],\n",
       "       [40, 41, 42, 43, 44, 45, 46, 47, 48, 49],\n",
       "       [50, 51, 52, 53, 54, 55, 56, 57, 58, 59],\n",
       "       [60, 61, 62, 63, 64, 65, 66, 67, 68, 69],\n",
       "       [70, 71, 72, 73, 74, 75, 76, 77, 78, 79],\n",
       "       [80, 81, 82, 83, 84, 85, 86, 87, 88, 89],\n",
       "       [90, 91, 92, 93, 94, 95, 96, 97, 98, 99]])"
      ]
     },
     "execution_count": 77,
     "metadata": {},
     "output_type": "execute_result"
    }
   ],
   "source": [
    "mat = np.arange(100).reshape((10,10))\n",
    "mat"
   ]
  },
  {
   "cell_type": "code",
   "execution_count": 85,
   "metadata": {},
   "outputs": [
    {
     "data": {
      "text/plain": [
       "[(0, 10, 20, 30, 40, 50, 60, 70, 80, 90),\n",
       " (1, 11, 21, 31, 41, 51, 61, 71, 81, 91),\n",
       " (2, 12, 22, 32, 42, 52, 62, 72, 82, 92),\n",
       " (3, 13, 23, 33, 43, 53, 63, 73, 83, 93),\n",
       " (4, 14, 24, 34, 44, 54, 64, 74, 84, 94),\n",
       " (5, 15, 25, 35, 45, 55, 65, 75, 85, 95),\n",
       " (6, 16, 26, 36, 46, 56, 66, 76, 86, 96),\n",
       " (7, 17, 27, 37, 47, 57, 67, 77, 87, 97),\n",
       " (8, 18, 28, 38, 48, 58, 68, 78, 88, 98),\n",
       " (9, 19, 29, 39, 49, 59, 69, 79, 89, 99)]"
      ]
     },
     "execution_count": 85,
     "metadata": {},
     "output_type": "execute_result"
    }
   ],
   "source": [
    "list(zip(*mat))"
   ]
  },
  {
   "cell_type": "code",
   "execution_count": 115,
   "metadata": {},
   "outputs": [],
   "source": [
    "# So list(zip(*mat)) gives you the transpose of the matrix. But we need to transpose it the other way. So we use the \n",
    "# step function"
   ]
  },
  {
   "cell_type": "code",
   "execution_count": 116,
   "metadata": {},
   "outputs": [
    {
     "data": {
      "text/plain": [
       "[(9, 19, 29, 39, 49, 59, 69, 79, 89, 99),\n",
       " (8, 18, 28, 38, 48, 58, 68, 78, 88, 98),\n",
       " (7, 17, 27, 37, 47, 57, 67, 77, 87, 97),\n",
       " (6, 16, 26, 36, 46, 56, 66, 76, 86, 96),\n",
       " (5, 15, 25, 35, 45, 55, 65, 75, 85, 95),\n",
       " (4, 14, 24, 34, 44, 54, 64, 74, 84, 94),\n",
       " (3, 13, 23, 33, 43, 53, 63, 73, 83, 93),\n",
       " (2, 12, 22, 32, 42, 52, 62, 72, 82, 92),\n",
       " (1, 11, 21, 31, 41, 51, 61, 71, 81, 91),\n",
       " (0, 10, 20, 30, 40, 50, 60, 70, 80, 90)]"
      ]
     },
     "execution_count": 116,
     "metadata": {},
     "output_type": "execute_result"
    }
   ],
   "source": [
    "list(zip(*mat))[::-1]"
   ]
  },
  {
   "cell_type": "code",
   "execution_count": 81,
   "metadata": {},
   "outputs": [],
   "source": [
    "# Solution \n",
    "# We pop of the first row, then we keep transposing the matrix and keep on popping of the first row till the matrix\n",
    "# is empty. And if we join all these popped of first rows we will get our results. This is genius."
   ]
  },
  {
   "cell_type": "code",
   "execution_count": 99,
   "metadata": {},
   "outputs": [],
   "source": [
    "# Implementation\n",
    "def spiralOrder(matrix):\n",
    "    n = len(matrix)\n",
    "    res = []\n",
    "    while n:\n",
    "        res.extend(matrix.pop(0))\n",
    "        matrix = list(zip(*matrix))[::-1]\n",
    "        n = len(matrix)\n",
    "    return res"
   ]
  },
  {
   "cell_type": "code",
   "execution_count": 100,
   "metadata": {},
   "outputs": [
    {
     "name": "stdout",
     "output_type": "stream",
     "text": [
      "\u001b[32m.\u001b[0m\u001b[32m                                                                                            [100%]\u001b[0m\n",
      "\u001b[32m\u001b[32m\u001b[1m1 passed\u001b[0m\u001b[32m in 0.01s\u001b[0m\u001b[0m\n"
     ]
    }
   ],
   "source": [
    "%%ipytest \n",
    "def test_spiralOrder():\n",
    "    assert spiralOrder([[1,2,3],[4,5,6],[7,8,9]]) == [1,2,3,6,9,8,7,4,5]\n",
    "    assert spiralOrder([[1,2,3,4],[5,6,7,8],[9,10,11,12]]) == [1,2,3,4,8,12,11,10,9,5,6,7]"
   ]
  },
  {
   "cell_type": "code",
   "execution_count": null,
   "metadata": {},
   "outputs": [],
   "source": [
    "# TADA!!!"
   ]
  },
  {
   "cell_type": "markdown",
   "metadata": {},
   "source": [
    "## [Rotate Image](https://leetcode.com/problems/rotate-image/)"
   ]
  },
  {
   "cell_type": "raw",
   "metadata": {},
   "source": [
    "You are given an n x n 2D matrix representing an image, rotate the image by 90 degrees (clockwise).\n",
    "\n",
    "You have to rotate the image in-place, which means you have to modify the input 2D matrix directly. DO NOT allocate another 2D matrix and do the rotation.\n",
    "\n",
    " \n",
    "\n",
    "Example 1:\n",
    "\n",
    "\n",
    "Input: matrix = [[1,2,3],[4,5,6],[7,8,9]]\n",
    "Output: [[7,4,1],[8,5,2],[9,6,3]]\n",
    "\n",
    "\n",
    "Example 2:\n",
    "\n",
    "\n",
    "Input: matrix = [[5,1,9,11],[2,4,8,10],[13,3,6,7],[15,14,12,16]]\n",
    "Output: [[15,13,2,5],[14,3,4,1],[12,6,8,9],[16,7,10,11]]\n",
    " \n",
    "\n",
    "Constraints:\n",
    "\n",
    "n == matrix.length == matrix[i].length\n",
    "1 <= n <= 20\n",
    "-1000 <= matrix[i][j] <= 1000"
   ]
  },
  {
   "cell_type": "code",
   "execution_count": 162,
   "metadata": {},
   "outputs": [],
   "source": [
    "# Solution\n",
    "# First we need to take the reverse of the matrix, then we transpose it"
   ]
  },
  {
   "cell_type": "code",
   "execution_count": 159,
   "metadata": {},
   "outputs": [],
   "source": [
    "# Implementation\n",
    "def rotate(matrix):\n",
    "    matrix[:] = map(list, zip(*matrix[::-1]))\n",
    "    return matrix"
   ]
  },
  {
   "cell_type": "code",
   "execution_count": 160,
   "metadata": {},
   "outputs": [
    {
     "name": "stdout",
     "output_type": "stream",
     "text": [
      "\u001b[32m.\u001b[0m\u001b[32m                                                                                            [100%]\u001b[0m\n",
      "\u001b[32m\u001b[32m\u001b[1m1 passed\u001b[0m\u001b[32m in 0.01s\u001b[0m\u001b[0m\n"
     ]
    }
   ],
   "source": [
    "%%ipytest \n",
    "def test_rotate():\n",
    "    assert rotate([[1,2,3],[4,5,6],[7,8,9]]) == [[7,4,1],[8,5,2],[9,6,3]]\n",
    "    assert rotate([[5,1,9,11],[2,4,8,10],[13,3,6,7],[15,14,12,16]]) == [[15,13,2,5],[14,3,4,1],[12,6,8,9],[16,7,10,11]]"
   ]
  },
  {
   "cell_type": "code",
   "execution_count": 130,
   "metadata": {},
   "outputs": [],
   "source": [
    "matrix = [[1,2,3],[4,5,6],[7,8,9]]"
   ]
  },
  {
   "cell_type": "code",
   "execution_count": 142,
   "metadata": {},
   "outputs": [
    {
     "data": {
      "text/plain": [
       "[(7, 4, 1), (8, 5, 2), (9, 6, 3)]"
      ]
     },
     "execution_count": 142,
     "metadata": {},
     "output_type": "execute_result"
    }
   ],
   "source": [
    "list(zip(*matrix[::-1]))"
   ]
  },
  {
   "cell_type": "code",
   "execution_count": 161,
   "metadata": {},
   "outputs": [
    {
     "data": {
      "text/plain": [
       "[[7, 8, 9], [4, 5, 6], [1, 2, 3]]"
      ]
     },
     "execution_count": 161,
     "metadata": {},
     "output_type": "execute_result"
    }
   ],
   "source": [
    "matrix[:: -1]"
   ]
  },
  {
   "cell_type": "code",
   "execution_count": 156,
   "metadata": {},
   "outputs": [
    {
     "data": {
      "text/plain": [
       "[(7, 4, 1), (8, 5, 2), (9, 6, 3)]"
      ]
     },
     "execution_count": 156,
     "metadata": {},
     "output_type": "execute_result"
    }
   ],
   "source": [
    "list(zip(*matrix[::-1]))"
   ]
  },
  {
   "cell_type": "code",
   "execution_count": 163,
   "metadata": {},
   "outputs": [],
   "source": [
    "# TADDA"
   ]
  },
  {
   "cell_type": "markdown",
   "metadata": {},
   "source": [
    "## [Word Search](https://leetcode.com/problems/word-search/)"
   ]
  },
  {
   "cell_type": "raw",
   "metadata": {},
   "source": [
    "Given an m x n grid of characters board and a string word, return true if word exists in the grid.\n",
    "\n",
    "The word can be constructed from letters of sequentially adjacent cells, where adjacent cells are horizontally or vertically neighboring. The same letter cell may not be used more than once.\n",
    "\n",
    " \n",
    "\n",
    "Example 1:\n",
    "\n",
    "Input: board = [[\"A\",\"B\",\"C\",\"E\"],[\"S\",\"F\",\"C\",\"S\"],[\"A\",\"D\",\"E\",\"E\"]], word = \"ABCCED\"\n",
    "Output: true\n",
    "\n",
    "Example 2:\n",
    "\n",
    "Input: board = [[\"A\",\"B\",\"C\",\"E\"],[\"S\",\"F\",\"C\",\"S\"],[\"A\",\"D\",\"E\",\"E\"]], word = \"SEE\"\n",
    "Output: true\n",
    "\n",
    "Example 3:\n",
    "\n",
    "Input: board = [[\"A\",\"B\",\"C\",\"E\"],[\"S\",\"F\",\"C\",\"S\"],[\"A\",\"D\",\"E\",\"E\"]], word = \"ABCB\"\n",
    "Output: false\n",
    " \n",
    "\n",
    "Constraints:\n",
    "\n",
    "m == board.length\n",
    "n = board[i].length\n",
    "1 <= m, n <= 6\n",
    "1 <= word.length <= 15\n",
    "board and word consists of only lowercase and uppercase English letters.\n",
    " \n",
    "\n",
    "Follow up: Could you use search pruning to make your solution faster with a larger board?"
   ]
  },
  {
   "cell_type": "code",
   "execution_count": 165,
   "metadata": {},
   "outputs": [],
   "source": [
    "# Solution\n",
    "# This is going to be a bit long brute force approach\n",
    "# We will use dfs to search through all the nearby possible neighbours of a starting point to see if we can find the \n",
    "# next element of the word there. If yes keep on looking that path. If no, backtrack and keep on looking till you\n",
    "# find the word or have searched the entire matrix"
   ]
  },
  {
   "cell_type": "code",
   "execution_count": 200,
   "metadata": {},
   "outputs": [],
   "source": [
    "# Implementation\n",
    "def exists(board, word):\n",
    "    m = len(board) # no of rows\n",
    "    n = len(board[0]) # no of cols\n",
    "    w = len(word)\n",
    "    if not word:\n",
    "        return True\n",
    "    if not board:\n",
    "        return False\n",
    "    \n",
    "    def dfs(i, j, k):\n",
    "        # If we have hit the wall of the board, return false\n",
    "        if i>=m or i< 0 or j>=n or j < 0 or k >= w:\n",
    "            return False\n",
    "        if board[i][j] == word[k]: # if we found the next letter of the word\n",
    "            \n",
    "            if k == w-1:  # we found the entire word\n",
    "                return True\n",
    "            \n",
    "            # marking the current element as visited using a '#'\n",
    "            tmp = board[i][j]\n",
    "            board[i][j] = '#'\n",
    "            \n",
    "            # If we haven't reached till end of the word\n",
    "            for [x, y] in [[0, 1], [0, -1], [1, 0], [-1, 0]]:\n",
    "                if dfs(i + x, j + y, k + 1):\n",
    "                    return True\n",
    "\n",
    "            # Re assign the value to the current variable\n",
    "            board[i][j] = tmp\n",
    "        # if we have reached till here, means we couldn't find the word in this route\n",
    "        return False \n",
    "    \n",
    "    # We need to consider all the starting points for the word in the board\n",
    "    for i in range(m):\n",
    "        for j in range(n):\n",
    "            if dfs(i, j, 0):\n",
    "                return True\n",
    "    return False"
   ]
  },
  {
   "cell_type": "code",
   "execution_count": 201,
   "metadata": {},
   "outputs": [
    {
     "name": "stdout",
     "output_type": "stream",
     "text": [
      "\u001b[32m.\u001b[0m\u001b[32m                                                                                            [100%]\u001b[0m\n",
      "\u001b[32m\u001b[32m\u001b[1m1 passed\u001b[0m\u001b[32m in 0.02s\u001b[0m\u001b[0m\n"
     ]
    }
   ],
   "source": [
    "%%ipytest \n",
    "def test_exists():\n",
    "    assert exists(board = [[\"A\",\"B\",\"C\",\"E\"],[\"S\",\"F\",\"C\",\"S\"],[\"A\",\"D\",\"E\",\"E\"]], word = \"ABCCED\") == True\n",
    "    assert exists([[\"A\",\"B\",\"C\",\"E\"],[\"S\",\"F\",\"C\",\"S\"],[\"A\",\"D\",\"E\",\"E\"]], word = \"SEE\") == True\n",
    "    assert exists([[\"A\",\"B\",\"C\",\"E\"],[\"S\",\"F\",\"C\",\"S\"],[\"A\",\"D\",\"E\",\"E\"]], word = \"ABCB\") == False"
   ]
  },
  {
   "cell_type": "code",
   "execution_count": 199,
   "metadata": {},
   "outputs": [
    {
     "name": "stdout",
     "output_type": "stream",
     "text": [
      "i : 0, j : 0, k: 0, e : A, w : A\n",
      "i : 0, j : 1, k: 1, e : B, w : B\n",
      "i : 0, j : 2, k: 2, e : C, w : C\n",
      "i : 0, j : 3, k: 3, e : E, w : C\n",
      "i : 0, j : 1, k: 3, e : #, w : C\n",
      "i : 1, j : 2, k: 3, e : C, w : C\n",
      "i : 1, j : 3, k: 4, e : S, w : E\n",
      "i : 1, j : 1, k: 4, e : F, w : E\n",
      "i : 2, j : 2, k: 4, e : E, w : E\n",
      "i : 2, j : 3, k: 5, e : E, w : D\n",
      "i : 2, j : 1, k: 5, e : D, w : D\n",
      "Found\n"
     ]
    },
    {
     "data": {
      "text/plain": [
       "True"
      ]
     },
     "execution_count": 199,
     "metadata": {},
     "output_type": "execute_result"
    }
   ],
   "source": [
    "exists(board = [[\"A\",\"B\",\"C\",\"E\"],[\"S\",\"F\",\"C\",\"S\"],[\"A\",\"D\",\"E\",\"E\"]], word = \"ABCCED\")"
   ]
  },
  {
   "cell_type": "code",
   "execution_count": null,
   "metadata": {},
   "outputs": [],
   "source": []
  }
 ],
 "metadata": {
  "kernelspec": {
   "display_name": "Python 3",
   "language": "python",
   "name": "python3"
  },
  "language_info": {
   "codemirror_mode": {
    "name": "ipython",
    "version": 3
   },
   "file_extension": ".py",
   "mimetype": "text/x-python",
   "name": "python",
   "nbconvert_exporter": "python",
   "pygments_lexer": "ipython3",
   "version": "3.8.3"
  }
 },
 "nbformat": 4,
 "nbformat_minor": 4
}
