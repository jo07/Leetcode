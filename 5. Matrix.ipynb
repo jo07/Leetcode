{
 "cells": [
  {
   "cell_type": "markdown",
   "metadata": {},
   "source": [
    "### Matrix"
   ]
  },
  {
   "cell_type": "code",
   "execution_count": 1,
   "metadata": {},
   "outputs": [],
   "source": [
    "# Python testing module\n",
    "import ipytest\n",
    "ipytest.autoconfig()\n",
    "import pytest"
   ]
  },
  {
   "cell_type": "markdown",
   "metadata": {},
   "source": [
    "## [Set Matrix Zeroes](https://leetcode.com/problems/set-matrix-zeroes/)"
   ]
  },
  {
   "cell_type": "raw",
   "metadata": {},
   "source": [
    "Given an m x n integer matrix 'matrix', if an element is 0, set its entire row and column to 0's.\n",
    "\n",
    "You must do it in place.\n",
    "\n",
    " \n",
    "\n",
    "Example 1:\n",
    "\n",
    "\n",
    "Input: matrix = [[1,1,1],[1,0,1],[1,1,1]]\n",
    "Output: [[1,0,1],[0,0,0],[1,0,1]]\n",
    "\n",
    "Example 2:\n",
    "\n",
    "\n",
    "Input: matrix = [[0,1,2,0],[3,4,5,2],[1,3,1,5]]\n",
    "Output: [[0,0,0,0],[0,4,5,0],[0,3,1,0]]\n",
    " \n",
    "\n",
    "Constraints:\n",
    "\n",
    "m == matrix.length\n",
    "n == matrix[0].length\n",
    "1 <= m, n <= 200\n",
    "-231 <= matrix[i][j] <= 231 - 1\n",
    " \n",
    "\n",
    "Follow up:\n",
    "\n",
    "A straightforward solution using O(mn) space is probably a bad idea.\n",
    "A simple improvement uses O(m + n) space, but still not the best solution.\n",
    "Could you devise a constant space solution?"
   ]
  },
  {
   "cell_type": "code",
   "execution_count": 6,
   "metadata": {},
   "outputs": [],
   "source": [
    "# Solution\n",
    "# First we need two variables to track if there are zeroes in first row or column and keep it handy\n",
    "# We are gonna store a zero if the product of all the elements in a row is zero in the first column and store zero\n",
    "# in the first row if any of the corresponding columns product is zero\n",
    "# In our next iteration we are going to put zeroes in every row if the corresponding element in the first column is\n",
    "# zero and vice versa for the columns\n",
    "# Then we are gonna check the tracker for first row and column is true or not. If true then we need to set the first\n",
    "# row and/or column to zero and we will have a TADA !!!"
   ]
  },
  {
   "cell_type": "code",
   "execution_count": 45,
   "metadata": {},
   "outputs": [],
   "source": [
    "# Implementation\n",
    "def setZeroes(matrix) :\n",
    "\n",
    "    m = len(matrix) #  no. of rows\n",
    "    if m == 0:\n",
    "        return matrix\n",
    "    \n",
    "    n = len(matrix[0]) # no. of cols\n",
    "    \n",
    "    # find if first row has zeroes\n",
    "    p = 1\n",
    "    for i in range(m):\n",
    "        p *= matrix[i][0]\n",
    "    first_row_has_zeroes = [False, True][p == 0]\n",
    "    \n",
    "    # find if first column had zeroes\n",
    "    p = 1\n",
    "    for j in range(n):\n",
    "        p *= matrix[0][j]\n",
    "    first_col_has_zeroes = [False, True][p == 0]\n",
    "    for i in range(m):\n",
    "        for j in range(n):\n",
    "            if matrix[i][j] == 0:\n",
    "                # set column of ith row as zero\n",
    "                matrix[i][0] = 0\n",
    "                # set first row of jth col as zero\n",
    "                matrix[0][j] = 0\n",
    "                \n",
    "    for i in range(1, m):\n",
    "        if matrix[i][0] == 0:\n",
    "            for j in range(1, n):\n",
    "                matrix[i][j] = 0\n",
    "    \n",
    "    for j in range(1, n):\n",
    "        if matrix[0][j] == 0:\n",
    "            for i in range(1, m):\n",
    "                matrix[i][j] = 0\n",
    "                \n",
    "    if first_row_has_zeroes:\n",
    "        for i in range(m):\n",
    "            matrix[i][0] = 0\n",
    "    \n",
    "    if first_col_has_zeroes:\n",
    "        for j in range(n):\n",
    "            matrix[0][j] = 0\n",
    "    return matrix"
   ]
  },
  {
   "cell_type": "code",
   "execution_count": 46,
   "metadata": {},
   "outputs": [
    {
     "name": "stdout",
     "output_type": "stream",
     "text": [
      "\u001b[32m.\u001b[0m\u001b[32m                                                                                            [100%]\u001b[0m\n",
      "\u001b[32m\u001b[32m\u001b[1m1 passed\u001b[0m\u001b[32m in 0.02s\u001b[0m\u001b[0m\n"
     ]
    }
   ],
   "source": [
    "%%ipytest \n",
    "def test_setZeroes():\n",
    "    assert setZeroes([[1,1,1],[1,0,1],[1,1,1]]) == [[1,0,1],[0,0,0],[1,0,1]]\n",
    "    assert setZeroes([[0,1,2,0],[3,4,5,2],[1,3,1,5]]) == [[0,0,0,0],[0,4,5,0],[0,3,1,0]]"
   ]
  },
  {
   "cell_type": "code",
   "execution_count": 47,
   "metadata": {},
   "outputs": [
    {
     "name": "stdout",
     "output_type": "stream",
     "text": [
      "row : True, col : True\n"
     ]
    },
    {
     "data": {
      "text/plain": [
       "[[0, 0, 0, 0], [0, 4, 5, 0], [0, 3, 1, 0]]"
      ]
     },
     "execution_count": 47,
     "metadata": {},
     "output_type": "execute_result"
    }
   ],
   "source": [
    "matrix = [[0,1,2,0],[3,4,5,2],[1,3,1,5]]\n",
    "setZeroes(matrix)"
   ]
  },
  {
   "cell_type": "code",
   "execution_count": 48,
   "metadata": {},
   "outputs": [
    {
     "name": "stdout",
     "output_type": "stream",
     "text": [
      "row : False, col : False\n"
     ]
    },
    {
     "data": {
      "text/plain": [
       "[[1, 0, 1], [0, 0, 0], [1, 0, 1]]"
      ]
     },
     "execution_count": 48,
     "metadata": {},
     "output_type": "execute_result"
    }
   ],
   "source": [
    "setZeroes([[1,1,1],[1,0,1],[1,1,1]])"
   ]
  },
  {
   "cell_type": "code",
   "execution_count": 49,
   "metadata": {},
   "outputs": [],
   "source": [
    "# After lot of debugging we have a bingo"
   ]
  },
  {
   "cell_type": "code",
   "execution_count": null,
   "metadata": {},
   "outputs": [],
   "source": []
  }
 ],
 "metadata": {
  "kernelspec": {
   "display_name": "Python 3",
   "language": "python",
   "name": "python3"
  },
  "language_info": {
   "codemirror_mode": {
    "name": "ipython",
    "version": 3
   },
   "file_extension": ".py",
   "mimetype": "text/x-python",
   "name": "python",
   "nbconvert_exporter": "python",
   "pygments_lexer": "ipython3",
   "version": "3.8.3"
  }
 },
 "nbformat": 4,
 "nbformat_minor": 4
}
