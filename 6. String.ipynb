{
 "cells": [
  {
   "cell_type": "markdown",
   "metadata": {},
   "source": [
    "# Strings"
   ]
  },
  {
   "cell_type": "code",
   "execution_count": 2,
   "metadata": {},
   "outputs": [],
   "source": [
    "# Python testing module\n",
    "import ipytest\n",
    "ipytest.autoconfig()\n",
    "import pytest"
   ]
  },
  {
   "cell_type": "markdown",
   "metadata": {},
   "source": [
    "## [Longest Substring Without Repeating Characters](https://leetcode.com/problems/longest-substring-without-repeating-characters/)"
   ]
  },
  {
   "cell_type": "raw",
   "metadata": {},
   "source": [
    "Given a string s, find the length of the longest substring without repeating characters.\n",
    "\n",
    "Example 1:\n",
    "\n",
    "Input: s = \"abcabcbb\"\n",
    "Output: 3\n",
    "Explanation: The answer is \"abc\", with the length of 3.\n",
    "\n",
    "Example 2:\n",
    "\n",
    "Input: s = \"bbbbb\"\n",
    "Output: 1\n",
    "Explanation: The answer is \"b\", with the length of 1.\n",
    "\n",
    "Example 3:\n",
    "\n",
    "Input: s = \"pwwkew\"\n",
    "\n",
    "Output: 3\n",
    "Explanation: The answer is \"wke\", with the length of 3.\n",
    "Notice that the answer must be a substring, \"pwke\" is a subsequence and not a substring.\n",
    " \n",
    "Constraints:\n",
    "\n",
    "0 <= s.length <= 5 * 10^4\n",
    "s consists of English letters, digits, symbols and spaces."
   ]
  },
  {
   "cell_type": "code",
   "execution_count": 3,
   "metadata": {},
   "outputs": [],
   "source": [
    "# Solution\n",
    "# We are gonna need a dict to store what all elements we have seen till now and at what position\n",
    "# We are also gonna need a start position to get the start position of the current string and max_len to keep\n",
    "# record of the length of the longest substring yet. \n",
    "# If we find an element again we are gonna calculate the length of current substring and compare with max_ len and set\n",
    "# the max of both as max_len. If not we update the dict with the current element found and value as its position and\n",
    "# keep going till the end"
   ]
  },
  {
   "cell_type": "code",
   "execution_count": 21,
   "metadata": {},
   "outputs": [],
   "source": [
    "# Implementation\n",
    "def lengthOfLongestSubstring(s):\n",
    "    max_len = start = 0\n",
    "    used = {}\n",
    "    for i, c in enumerate(s):\n",
    "        if c in used and start <= used[c]:\n",
    "            start = used[c] + 1\n",
    "        else:\n",
    "            max_len = max(max_len, i - start + 1)\n",
    "        used[c] = i\n",
    "    return max_len"
   ]
  },
  {
   "cell_type": "code",
   "execution_count": 22,
   "metadata": {},
   "outputs": [
    {
     "name": "stdout",
     "output_type": "stream",
     "text": [
      "\u001b[32m.\u001b[0m\u001b[32m                                                                                            [100%]\u001b[0m\n",
      "\u001b[32m\u001b[32m\u001b[1m1 passed\u001b[0m\u001b[32m in 0.01s\u001b[0m\u001b[0m\n"
     ]
    }
   ],
   "source": [
    "%%ipytest \n",
    "def test_lengthOfLongestSubstring():\n",
    "    assert lengthOfLongestSubstring(\"abcabcbb\") == 3\n",
    "    assert lengthOfLongestSubstring(\"bbbbb\") == 1\n",
    "    assert lengthOfLongestSubstring(\"pwwkew\") == 3"
   ]
  },
  {
   "cell_type": "markdown",
   "metadata": {},
   "source": [
    "## [Longest Repeating Character Replacement](https://leetcode.com/problems/longest-repeating-character-replacement/)"
   ]
  },
  {
   "cell_type": "raw",
   "metadata": {},
   "source": [
    "You are given a string s and an integer k. You can choose any character of the string and change it to any other uppercase English character. You can perform this operation at most k times.\n",
    "\n",
    "Return the length of the longest substring containing the same letter you can get after performing the above operations.\n",
    "\n",
    " \n",
    "\n",
    "Example 1:\n",
    "\n",
    "Input: s = \"ABAB\", k = 2\n",
    "Output: 4\n",
    "Explanation: Replace the two 'A's with two 'B's or vice versa.\n",
    "\n",
    "\n",
    "Example 2:\n",
    "\n",
    "Input: s = \"AABABBA\", k = 1\n",
    "Output: 4\n",
    "Explanation: Replace the one 'A' in the middle with 'B' and form \"AABBBBA\".\n",
    "The substring \"BBBB\" has the longest repeating letters, which is 4.\n",
    " \n",
    "\n",
    "Constraints:\n",
    "\n",
    "1 <= s.length <= 105\n",
    "s consists of only uppercase English letters.\n",
    "0 <= k <= s.length"
   ]
  },
  {
   "cell_type": "code",
   "execution_count": 25,
   "metadata": {},
   "outputs": [],
   "source": [
    "# Solution\n",
    "# Another tricky question which can be done in O(n) time. First we need two pointers left and right. We start from the\n",
    "# start of the array and keep track of the count of each chars in the interval. If the count of most occuring element\n",
    "# in a particular interval is at max 'k' less than the length of that interval then that interval can be updated k \n",
    "# times to get longest repeating character with k replacements. We keep track of the max length of such interval\n",
    "# while iterating over the string and we will have another TADA at the end."
   ]
  },
  {
   "cell_type": "code",
   "execution_count": 30,
   "metadata": {},
   "outputs": [],
   "source": [
    "# Implementation\n",
    "def characterReplacement(s, k):\n",
    "    # counter will contain the counts of character in the interval in consideration\n",
    "    c_dict = {}\n",
    "    max_len = left = 0\n",
    "    \n",
    "    # moving the right pointer\n",
    "    for right, c in enumerate(s):\n",
    "        \n",
    "        # add to dict if not present\n",
    "        if c not in c_dict:\n",
    "            c_dict[c] = 0\n",
    "        # update the counter by 1\n",
    "        c_dict[c] += 1\n",
    "        # No of items in the current interval\n",
    "        cell_count = right - left + 1\n",
    "        if cell_count - max(c_dict.values()) <= k:\n",
    "            max_len = max(max_len, cell_count)\n",
    "        else:\n",
    "            # We need to reduce the interval from left\n",
    "            c_dict[s[left]] -= 1\n",
    "            # reduce the count from the char counter\n",
    "            if c_dict[s[left]] == 0:\n",
    "                c_dict.pop(s[left])\n",
    "            left +=  1\n",
    "    return max_len\n",
    "            "
   ]
  },
  {
   "cell_type": "code",
   "execution_count": 31,
   "metadata": {},
   "outputs": [
    {
     "name": "stdout",
     "output_type": "stream",
     "text": [
      "\u001b[32m.\u001b[0m\u001b[32m                                                                                            [100%]\u001b[0m\n",
      "\u001b[32m\u001b[32m\u001b[1m1 passed\u001b[0m\u001b[32m in 0.01s\u001b[0m\u001b[0m\n"
     ]
    }
   ],
   "source": [
    "%%ipytest \n",
    "def test_characterReplacement():\n",
    "    assert characterReplacement(s = \"ABAB\", k = 2) == 4\n",
    "    assert characterReplacement(s = \"AABABBA\", k = 1) == 4\n"
   ]
  },
  {
   "cell_type": "markdown",
   "metadata": {},
   "source": [
    "## [Minimum Window Substring](https://leetcode.com/problems/minimum-window-substring/)"
   ]
  },
  {
   "cell_type": "raw",
   "metadata": {},
   "source": [
    "Given two strings s and t of lengths m and n respectively, return the minimum window substring of s such that every character in t (including duplicates) is included in the window. If there is no such substring, return the empty string \"\".\n",
    "\n",
    "The testcases will be generated such that the answer is unique.\n",
    "\n",
    "A substring is a contiguous sequence of characters within the string.\n",
    "\n",
    " \n",
    "\n",
    "Example 1:\n",
    "\n",
    "Input: s = \"ADOBECODEBANC\", t = \"ABC\"\n",
    "Output: \"BANC\"\n",
    "Explanation: The minimum window substring \"BANC\" includes 'A', 'B', and 'C' from string t.\n",
    "\n",
    "Example 2:\n",
    "\n",
    "Input: s = \"a\", t = \"a\"\n",
    "Output: \"a\"\n",
    "Explanation: The entire string s is the minimum window.\n",
    "\n",
    "Example 3:\n",
    "\n",
    "Input: s = \"a\", t = \"aa\"\n",
    "Output: \"\"\n",
    "Explanation: Both 'a's from t must be included in the window.\n",
    "Since the largest window of s only has one 'a', return empty string.\n",
    " \n",
    "\n",
    "Constraints:\n",
    "\n",
    "m == s.length\n",
    "n == t.length\n",
    "1 <= m, n <= 105\n",
    "s and t consist of uppercase and lowercase English letters.\n",
    " \n",
    "\n",
    "Follow up: Could you find an algorithm that runs in O(m + n) time?"
   ]
  },
  {
   "cell_type": "code",
   "execution_count": 55,
   "metadata": {},
   "outputs": [],
   "source": [
    "# Solution\n",
    "# This is hard. We need to return the substring itself so we need to keep track of the start and end pointer to the\n",
    "# result substring. Initially it will be both zeroes. We also need a counter to count each character in the t variable\n",
    "# We will store the length of t in the 'missing' variable. We will loop through the string using a window which will \n",
    "# use another start and end string, lets say i, j. When we see an element, check if it's in the counter and decrement\n",
    "# the count by one and also update the number of missing elements by subtracting one from it. Once we have the missing\n",
    "# variable as zero, that means we have all the variables we need and more. So we can start trimming from the start to \n",
    "# arrive at the actual start my eliminating unnecessary elements. You might thing that's all. Nope. We will update the\n",
    "# start and end pointer and then remove the first element from the counter and decrease the missing count by one.\n",
    "# Why you ask, so that we can find even smaller substring further in the array if it's there"
   ]
  },
  {
   "cell_type": "code",
   "execution_count": 76,
   "metadata": {},
   "outputs": [],
   "source": [
    "from collections import Counter\n",
    "def minWindow(s, t):\n",
    "    need = Counter(t)\n",
    "    missing = len(t)\n",
    "    start, end = 0 , 0\n",
    "    i = 0\n",
    "    for j, c in enumerate(s, 1):\n",
    "        if need[c] > 0:\n",
    "            missing -= 1\n",
    "        need[c] -= 1\n",
    "        if missing == 0:\n",
    "            while i < j and need[s[i]] < 0:\n",
    "                need[s[i]] += 1\n",
    "                i += 1\n",
    "            if end == 0 or j - i < end - start:\n",
    "                start, end = i, j\n",
    "            need[s[i]] += 1\n",
    "            missing += 1\n",
    "            i += 1\n",
    "    return s[start:end]"
   ]
  },
  {
   "cell_type": "code",
   "execution_count": 75,
   "metadata": {},
   "outputs": [
    {
     "name": "stdout",
     "output_type": "stream",
     "text": [
      "\u001b[32m.\u001b[0m\u001b[32m                                                                                            [100%]\u001b[0m\n",
      "\u001b[32m\u001b[32m\u001b[1m1 passed\u001b[0m\u001b[32m in 0.01s\u001b[0m\u001b[0m\n"
     ]
    }
   ],
   "source": [
    "%%ipytest \n",
    "def test_minWindow():\n",
    "    assert minWindow(s = \"ADOBECODEBANC\", t = \"ABC\") == \"BANC\"\n",
    "    assert minWindow(s = \"a\", t = \"a\") == \"a\"\n",
    "    assert minWindow(s = \"a\", t = \"aa\") == \"\"\n"
   ]
  },
  {
   "cell_type": "code",
   "execution_count": 77,
   "metadata": {},
   "outputs": [
    {
     "name": "stdout",
     "output_type": "stream",
     "text": [
      "need : Counter({'A': 1, 'B': 1, 'C': 1}), c : A\n",
      "need : Counter({'B': 1, 'C': 1, 'A': 0}), c : D\n",
      "need : Counter({'B': 1, 'C': 1, 'A': 0, 'D': -1}), c : O\n",
      "need : Counter({'B': 1, 'C': 1, 'A': 0, 'D': -1, 'O': -1}), c : B\n",
      "need : Counter({'C': 1, 'A': 0, 'B': 0, 'D': -1, 'O': -1}), c : E\n",
      "need : Counter({'C': 1, 'A': 0, 'B': 0, 'D': -1, 'O': -1, 'E': -1}), c : C\n",
      "need : Counter({'A': 1, 'B': 0, 'C': 0, 'D': -1, 'O': -1, 'E': -1}), c : O\n",
      "need : Counter({'A': 1, 'B': 0, 'C': 0, 'D': -1, 'E': -1, 'O': -2}), c : D\n",
      "need : Counter({'A': 1, 'B': 0, 'C': 0, 'E': -1, 'D': -2, 'O': -2}), c : E\n",
      "need : Counter({'A': 1, 'B': 0, 'C': 0, 'D': -2, 'O': -2, 'E': -2}), c : B\n",
      "need : Counter({'A': 1, 'C': 0, 'B': -1, 'D': -2, 'O': -2, 'E': -2}), c : A\n",
      "need : Counter({'C': 1, 'A': 0, 'B': 0, 'D': -1, 'O': -1, 'E': -1}), c : N\n",
      "need : Counter({'C': 1, 'A': 0, 'B': 0, 'D': -1, 'O': -1, 'E': -1, 'N': -1}), c : C\n"
     ]
    },
    {
     "data": {
      "text/plain": [
       "'BANC'"
      ]
     },
     "execution_count": 77,
     "metadata": {},
     "output_type": "execute_result"
    }
   ],
   "source": [
    "minWindow(s = \"ADOBECODEBANC\", t = \"ABC\")"
   ]
  },
  {
   "cell_type": "code",
   "execution_count": 80,
   "metadata": {},
   "outputs": [
    {
     "data": {
      "text/plain": [
       "('a', 'b', 'd')"
      ]
     },
     "execution_count": 80,
     "metadata": {},
     "output_type": "execute_result"
    }
   ],
   "source": [
    "tuple(sorted(\"bad\"))"
   ]
  },
  {
   "cell_type": "markdown",
   "metadata": {},
   "source": [
    "## [Group Anagrams](https://leetcode.com/problems/group-anagrams/)"
   ]
  },
  {
   "cell_type": "raw",
   "metadata": {},
   "source": [
    "Given an array of strings strs, group the anagrams together. You can return the answer in any order.\n",
    "\n",
    "An Anagram is a word or phrase formed by rearranging the letters of a different word or phrase, typically using all the original letters exactly once.\n",
    "\n",
    " \n",
    "Example 1:\n",
    "\n",
    "Input: strs = [\"eat\",\"tea\",\"tan\",\"ate\",\"nat\",\"bat\"]\n",
    "Output: [[\"bat\"],[\"nat\",\"tan\"],[\"ate\",\"eat\",\"tea\"]]\n",
    "\n",
    "Example 2:\n",
    "\n",
    "Input: strs = [\"\"]\n",
    "Output: [[\"\"]]\n",
    "\n",
    "Example 3:\n",
    "\n",
    "Input: strs = [\"a\"]\n",
    "Output: [[\"a\"]]\n",
    " \n",
    "\n",
    "Constraints:\n",
    "\n",
    "1 <= strs.length <= 10^4\n",
    "0 <= strs[i].length <= 100\n",
    "strs[i] consists of lowercase English letters."
   ]
  },
  {
   "cell_type": "code",
   "execution_count": 81,
   "metadata": {},
   "outputs": [],
   "source": [
    "# Solution\n",
    "# We can use a dictionary with sorted string as the key and append the string to its value which is a list.\n",
    "# We will have our solution after a for loop in dict.values()"
   ]
  },
  {
   "cell_type": "code",
   "execution_count": 85,
   "metadata": {},
   "outputs": [],
   "source": [
    "# Implementation\n",
    "def groupAnagrams(strs):\n",
    "    groups = {}\n",
    "    for item in strs:\n",
    "        s_item = tuple(sorted(item))\n",
    "        groups[s_item] = groups.get(s_item, []) + [item]\n",
    "    return groups.values()"
   ]
  },
  {
   "cell_type": "code",
   "execution_count": 86,
   "metadata": {},
   "outputs": [
    {
     "name": "stdout",
     "output_type": "stream",
     "text": [
      "\u001b[31mF\u001b[0m\u001b[31m                                                                                            [100%]\u001b[0m\n",
      "============================================= FAILURES =============================================\n",
      "\u001b[31m\u001b[1m________________________________________ test_groupAnagrams ________________________________________\u001b[0m\n",
      "\n",
      "    \u001b[94mdef\u001b[39;49;00m \u001b[92mtest_groupAnagrams\u001b[39;49;00m():\n",
      ">       \u001b[94massert\u001b[39;49;00m groupAnagrams([\u001b[33m\"\u001b[39;49;00m\u001b[33meat\u001b[39;49;00m\u001b[33m\"\u001b[39;49;00m,\u001b[33m\"\u001b[39;49;00m\u001b[33mtea\u001b[39;49;00m\u001b[33m\"\u001b[39;49;00m,\u001b[33m\"\u001b[39;49;00m\u001b[33mtan\u001b[39;49;00m\u001b[33m\"\u001b[39;49;00m,\u001b[33m\"\u001b[39;49;00m\u001b[33mate\u001b[39;49;00m\u001b[33m\"\u001b[39;49;00m,\u001b[33m\"\u001b[39;49;00m\u001b[33mnat\u001b[39;49;00m\u001b[33m\"\u001b[39;49;00m,\u001b[33m\"\u001b[39;49;00m\u001b[33mbat\u001b[39;49;00m\u001b[33m\"\u001b[39;49;00m]) == [[\u001b[33m\"\u001b[39;49;00m\u001b[33mbat\u001b[39;49;00m\u001b[33m\"\u001b[39;49;00m],[\u001b[33m\"\u001b[39;49;00m\u001b[33mnat\u001b[39;49;00m\u001b[33m\"\u001b[39;49;00m,\u001b[33m\"\u001b[39;49;00m\u001b[33mtan\u001b[39;49;00m\u001b[33m\"\u001b[39;49;00m],[\u001b[33m\"\u001b[39;49;00m\u001b[33mate\u001b[39;49;00m\u001b[33m\"\u001b[39;49;00m,\u001b[33m\"\u001b[39;49;00m\u001b[33meat\u001b[39;49;00m\u001b[33m\"\u001b[39;49;00m,\u001b[33m\"\u001b[39;49;00m\u001b[33mtea\u001b[39;49;00m\u001b[33m\"\u001b[39;49;00m]]\n",
      "\u001b[1m\u001b[31mE       AssertionError: assert dict_values([...t'], ['bat']]) == [['bat'], ['n...'eat', 'tea']]\u001b[0m\n",
      "\u001b[1m\u001b[31mE         Full diff:\u001b[0m\n",
      "\u001b[1m\u001b[31mE         - [['bat'], ['nat', 'tan'], ['ate', 'eat', 'tea']]\u001b[0m\n",
      "\u001b[1m\u001b[31mE         + dict_values([['eat', 'tea', 'ate'], ['tan', 'nat'], ['bat']])\u001b[0m\n",
      "\n",
      "\u001b[1m\u001b[31m<ipython-input-86-3bf18ff0188c>\u001b[0m:2: AssertionError\n",
      "===================================== short test summary info ======================================\n",
      "FAILED tmp2umm9znu.py::test_groupAnagrams - AssertionError: assert dict_values([...t'], ['bat']])...\n",
      "\u001b[31m\u001b[31m\u001b[1m1 failed\u001b[0m\u001b[31m in 0.23s\u001b[0m\u001b[0m\n"
     ]
    }
   ],
   "source": [
    "%%ipytest \n",
    "def test_groupAnagrams():\n",
    "    assert groupAnagrams([\"eat\",\"tea\",\"tan\",\"ate\",\"nat\",\"bat\"]) == [[\"bat\"],[\"nat\",\"tan\"],[\"ate\",\"eat\",\"tea\"]]\n",
    "    assert groupAnagrams([\"\"]) == [[\"\"]]\n",
    "    assert groupAnagrams([\"a\"]) == [[\"a\"]]\n"
   ]
  },
  {
   "cell_type": "code",
   "execution_count": 87,
   "metadata": {},
   "outputs": [
    {
     "data": {
      "text/plain": [
       "dict_values([['eat', 'tea', 'ate'], ['tan', 'nat'], ['bat']])"
      ]
     },
     "execution_count": 87,
     "metadata": {},
     "output_type": "execute_result"
    }
   ],
   "source": [
    "groupAnagrams([\"eat\",\"tea\",\"tan\",\"ate\",\"nat\",\"bat\"])"
   ]
  },
  {
   "cell_type": "code",
   "execution_count": 88,
   "metadata": {},
   "outputs": [],
   "source": [
    "# I don't know how to test this. But it works"
   ]
  },
  {
   "cell_type": "markdown",
   "metadata": {},
   "source": [
    "## [Largest Number](https://leetcode.com/problems/largest-number/)"
   ]
  },
  {
   "cell_type": "raw",
   "metadata": {},
   "source": [
    "Given a list of non-negative integers nums, arrange them such that they form the largest number and return it.\n",
    "\n",
    "Since the result may be very large, so you need to return a string instead of an integer.\n",
    "\n",
    " \n",
    "\n",
    "Example 1:\n",
    "\n",
    "Input: nums = [10,2]\n",
    "Output: \"210\"\n",
    "\n",
    "\n",
    "Example 2:\n",
    "\n",
    "Input: nums = [3,30,34,5,9]\n",
    "Output: \"9534330\"\n",
    " \n",
    "\n",
    "Constraints:\n",
    "\n",
    "1 <= nums.length <= 100\n",
    "0 <= nums[i] <= 10^9"
   ]
  },
  {
   "cell_type": "code",
   "execution_count": 94,
   "metadata": {},
   "outputs": [],
   "source": [
    "# Implementation\n",
    "from functools import cmp_to_key\n",
    "def largestNumber(nums):\n",
    "    for i, num in enumerate(nums):\n",
    "        nums[i] = str(num)\n",
    "    \n",
    "    def compare(a, b):\n",
    "        if a + b > b + a:\n",
    "            return -1\n",
    "        else:\n",
    "            return 1\n",
    "    nums = sorted(nums, key = cmp_to_key(compare))\n",
    "    num = \"\".join(nums)\n",
    "    return str(int(num))"
   ]
  },
  {
   "cell_type": "code",
   "execution_count": 95,
   "metadata": {},
   "outputs": [
    {
     "name": "stdout",
     "output_type": "stream",
     "text": [
      "\u001b[32m.\u001b[0m\u001b[32m                                                                                            [100%]\u001b[0m\n",
      "\u001b[32m\u001b[32m\u001b[1m1 passed\u001b[0m\u001b[32m in 0.01s\u001b[0m\u001b[0m\n"
     ]
    }
   ],
   "source": [
    "%%ipytest \n",
    "def test_largestNumber():\n",
    "    assert largestNumber([10,2]) == '210'\n",
    "    assert largestNumber([3,30,34,5,9]) == \"9534330\"\n"
   ]
  },
  {
   "cell_type": "code",
   "execution_count": null,
   "metadata": {},
   "outputs": [],
   "source": []
  },
  {
   "cell_type": "markdown",
   "metadata": {},
   "source": [
    "## [Valid Parentheses](https://leetcode.com/problems/valid-parentheses/)"
   ]
  },
  {
   "cell_type": "code",
   "execution_count": null,
   "metadata": {},
   "outputs": [],
   "source": []
  }
 ],
 "metadata": {
  "kernelspec": {
   "display_name": "Python 3",
   "language": "python",
   "name": "python3"
  },
  "language_info": {
   "codemirror_mode": {
    "name": "ipython",
    "version": 3
   },
   "file_extension": ".py",
   "mimetype": "text/x-python",
   "name": "python",
   "nbconvert_exporter": "python",
   "pygments_lexer": "ipython3",
   "version": "3.8.3"
  }
 },
 "nbformat": 4,
 "nbformat_minor": 4
}
