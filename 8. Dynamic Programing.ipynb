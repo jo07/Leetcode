{
 "cells": [
  {
   "cell_type": "markdown",
   "metadata": {},
   "source": [
    "## Dynamic Programming"
   ]
  },
  {
   "cell_type": "code",
   "execution_count": 1,
   "metadata": {},
   "outputs": [],
   "source": [
    "# https://leetcode.com/problems/target-sum/"
   ]
  },
  {
   "cell_type": "code",
   "execution_count": 2,
   "metadata": {},
   "outputs": [],
   "source": [
    "# Python testing module\n",
    "import ipytest\n",
    "ipytest.autoconfig()\n",
    "import pytest"
   ]
  },
  {
   "cell_type": "markdown",
   "metadata": {},
   "source": [
    "## [Climbing Stairs](https://leetcode.com/problems/climbing-stairs/)"
   ]
  },
  {
   "cell_type": "raw",
   "metadata": {},
   "source": [
    "You are climbing a staircase. It takes n steps to reach the top.\n",
    "\n",
    "Each time you can either climb 1 or 2 steps. In how many distinct ways can you climb to the top?\n",
    "\n",
    " \n",
    "\n",
    "Example 1:\n",
    "\n",
    "Input: n = 2\n",
    "Output: 2\n",
    "Explanation: There are two ways to climb to the top.\n",
    "1. 1 step + 1 step\n",
    "2. 2 steps\n",
    "\n",
    "\n",
    "Example 2:\n",
    "\n",
    "Input: n = 3\n",
    "Output: 3\n",
    "Explanation: There are three ways to climb to the top.\n",
    "1. 1 step + 1 step + 1 step\n",
    "2. 1 step + 2 steps\n",
    "3. 2 steps + 1 step\n",
    " \n",
    "\n",
    "Constraints:\n",
    "\n",
    "1 <= n <= 45"
   ]
  },
  {
   "cell_type": "code",
   "execution_count": 3,
   "metadata": {},
   "outputs": [],
   "source": [
    "# Solution\n",
    "# This is basically a fibonacci series. Main idea is if you have N steps to climb and you know how many ways you can\n",
    "# climb N-1 steps ie f(n-1) and N-2 steps if f(n-2) then climbing N steps is going to be f(n) = f(n-1) + f(n-2)"
   ]
  },
  {
   "cell_type": "code",
   "execution_count": 4,
   "metadata": {},
   "outputs": [],
   "source": [
    "# Implementation\n",
    "from functools import lru_cache\n",
    "@lru_cache(None)\n",
    "def climbStairs(n):\n",
    "    if n < 3:\n",
    "        return n\n",
    "    else:\n",
    "        return climbStairs(n -1) + climbStairs(n-2)\n",
    "    "
   ]
  },
  {
   "cell_type": "code",
   "execution_count": 5,
   "metadata": {},
   "outputs": [
    {
     "name": "stdout",
     "output_type": "stream",
     "text": [
      "\u001b[32m.\u001b[0m\u001b[32m                                                                                            [100%]\u001b[0m\n",
      "\u001b[32m\u001b[32m\u001b[1m1 passed\u001b[0m\u001b[32m in 0.02s\u001b[0m\u001b[0m\n"
     ]
    }
   ],
   "source": [
    "%%ipytest \n",
    "def test_climbStairs():\n",
    "    assert climbStairs(2) == 2\n",
    "    assert climbStairs(3) == 3"
   ]
  },
  {
   "cell_type": "markdown",
   "metadata": {},
   "source": [
    "## [Coin Change](https://leetcode.com/problems/coin-change/)"
   ]
  },
  {
   "cell_type": "raw",
   "metadata": {},
   "source": [
    "You are given an integer array coins representing coins of different denominations and an integer amount representing a total amount of money.\n",
    "\n",
    "Return the fewest number of coins that you need to make up that amount. If that amount of money cannot be made up by any combination of the coins, return -1.\n",
    "\n",
    "You may assume that you have an infinite number of each kind of coin.\n",
    "\n",
    " \n",
    "\n",
    "Example 1:\n",
    "\n",
    "Input: coins = [1,2,5], amount = 11\n",
    "Output: 3\n",
    "Explanation: 11 = 5 + 5 + 1\n",
    "\n",
    "Example 2:\n",
    "\n",
    "Input: coins = [2], amount = 3\n",
    "Output: -1\n",
    "\n",
    "Example 3:\n",
    "\n",
    "Input: coins = [1], amount = 0\n",
    "Output: 0\n",
    " \n",
    "\n",
    "Constraints:\n",
    "\n",
    "1 <= coins.length <= 12\n",
    "1 <= coins[i] <= 231 - 1\n",
    "0 <= amount <= 104"
   ]
  },
  {
   "cell_type": "code",
   "execution_count": 12,
   "metadata": {},
   "outputs": [],
   "source": [
    "# Solution\n",
    "# We need a recursive solution using dynamic programming. Compute the coins required for all the amounts from 1 to the\n",
    "# amount. Zero coins required for amount 0 and we are gonna initialize rest to any value greater than the amount \n",
    "# itself since the solution can be at max the amount itself if there are only coins of one. Then we keep on comparing \n",
    "# each coin to find the min number of coins and save the min results in the list"
   ]
  },
  {
   "cell_type": "code",
   "execution_count": 7,
   "metadata": {},
   "outputs": [],
   "source": [
    "# Implementation"
   ]
  },
  {
   "cell_type": "code",
   "execution_count": 10,
   "metadata": {},
   "outputs": [],
   "source": [
    "def coinChange(coins, amount):\n",
    "    dp = [amount + 1] * (amount + 1)\n",
    "    dp[0] = 0\n",
    "    for i in range(1, amount+ 1):\n",
    "        for c in coins:\n",
    "            if i - c >= 0:\n",
    "                dp[i] = min(dp[i], 1+ dp[i-c])\n",
    "    return dp[amount] if dp[amount] < amount + 1 else -1"
   ]
  },
  {
   "cell_type": "code",
   "execution_count": 11,
   "metadata": {},
   "outputs": [
    {
     "name": "stdout",
     "output_type": "stream",
     "text": [
      "\u001b[32m.\u001b[0m\u001b[32m                                                                                            [100%]\u001b[0m\n",
      "\u001b[32m\u001b[32m\u001b[1m1 passed\u001b[0m\u001b[32m in 0.02s\u001b[0m\u001b[0m\n"
     ]
    }
   ],
   "source": [
    "%%ipytest \n",
    "def test_coinChange():\n",
    "    assert coinChange([1,2,5], 11) == 3\n",
    "    assert coinChange([2], 3) == -1\n",
    "    assert coinChange([1], 0) == 0\n"
   ]
  },
  {
   "cell_type": "markdown",
   "metadata": {},
   "source": [
    "## [Longest Increasing Subsequence](https://leetcode.com/problems/longest-increasing-subsequence/)"
   ]
  },
  {
   "cell_type": "raw",
   "metadata": {},
   "source": [
    "Given an integer array nums, return the length of the longest strictly increasing subsequence.\n",
    "\n",
    "A subsequence is a sequence that can be derived from an array by deleting some or no elements without changing the order of the remaining elements. For example, [3,6,2,7] is a subsequence of the array [0,3,1,6,2,2,7].\n",
    "\n",
    " \n",
    "\n",
    "Example 1:\n",
    "\n",
    "Input: nums = [10,9,2,5,3,7,101,18]\n",
    "Output: 4\n",
    "Explanation: The longest increasing subsequence is [2,3,7,101], therefore the length is 4.\n",
    "\n",
    "\n",
    "Example 2:\n",
    "\n",
    "Input: nums = [0,1,0,3,2,3]\n",
    "Output: 4\n",
    "\n",
    "\n",
    "Example 3:\n",
    "\n",
    "Input: nums = [7,7,7,7,7,7,7]\n",
    "Output: 1\n",
    " \n",
    "\n",
    "Constraints:\n",
    "\n",
    "1 <= nums.length <= 2500\n",
    "-104 <= nums[i] <= 104\n",
    " \n",
    "\n",
    "Follow up: Can you come up with an algorithm that runs in O(n log(n)) time complexity?"
   ]
  },
  {
   "cell_type": "code",
   "execution_count": 15,
   "metadata": {},
   "outputs": [],
   "source": [
    "# Implementation\n",
    "import bisect\n",
    "\n",
    "def lengthOfLIS(nums):\n",
    "    a = []\n",
    "    for num in nums:\n",
    "        idx = bisect.bisect_left(a, num)\n",
    "        if idx == len(a):\n",
    "            a.append(num)\n",
    "        else:\n",
    "            a[idx] = num\n",
    "    return len(a)\n",
    "        "
   ]
  },
  {
   "cell_type": "code",
   "execution_count": 16,
   "metadata": {},
   "outputs": [
    {
     "name": "stdout",
     "output_type": "stream",
     "text": [
      "\u001b[32m.\u001b[0m\u001b[32m                                                                                            [100%]\u001b[0m\n",
      "\u001b[32m\u001b[32m\u001b[1m1 passed\u001b[0m\u001b[32m in 0.01s\u001b[0m\u001b[0m\n"
     ]
    }
   ],
   "source": [
    "%%ipytest \n",
    "def test_lengthOfLIS():\n",
    "    assert lengthOfLIS([10,9,2,5,3,7,101,18]) == 4\n",
    "    assert lengthOfLIS([0,1,0,3,2,3]) == 4\n",
    "    assert lengthOfLIS([7,7,7,7,7,7,7]) == 1\n"
   ]
  },
  {
   "cell_type": "markdown",
   "metadata": {},
   "source": [
    "## [Longest Common Subsequence](https://leetcode.com/problems/longest-common-subsequence/)"
   ]
  },
  {
   "cell_type": "raw",
   "metadata": {},
   "source": [
    "Given two strings text1 and text2, return the length of their longest common subsequence. If there is no common subsequence, return 0.\n",
    "\n",
    "A subsequence of a string is a new string generated from the original string with some characters (can be none) deleted without changing the relative order of the remaining characters.\n",
    "\n",
    "For example, \"ace\" is a subsequence of \"abcde\".\n",
    "A common subsequence of two strings is a subsequence that is common to both strings.\n",
    "\n",
    " \n",
    "\n",
    "Example 1:\n",
    "\n",
    "Input: text1 = \"abcde\", text2 = \"ace\" \n",
    "Output: 3  \n",
    "Explanation: The longest common subsequence is \"ace\" and its length is 3.\n",
    "\n",
    "Example 2:\n",
    "\n",
    "Input: text1 = \"abc\", text2 = \"abc\"\n",
    "Output: 3\n",
    "Explanation: The longest common subsequence is \"abc\" and its length is 3.\n",
    "\n",
    "Example 3:\n",
    "\n",
    "Input: text1 = \"abc\", text2 = \"def\"\n",
    "Output: 0\n",
    "Explanation: There is no such common subsequence, so the result is 0.\n",
    " \n",
    "\n",
    "Constraints:\n",
    "\n",
    "1 <= text1.length, text2.length <= 1000\n",
    "text1 and text2 consist of only lowercase English characters."
   ]
  },
  {
   "cell_type": "code",
   "execution_count": 34,
   "metadata": {},
   "outputs": [],
   "source": [
    "# Solution\n",
    "# The DP solution would be to use a matrix of size (len(text1)+1)*(len(text)+1) with 0 initialized as the value.\n",
    "# The position (i+1,j+1) in the matrix would denote the max \n",
    "# And for all combination of the lists items update the corresponding value by 1 if the current chars match\n",
    "# Else find the max value of (i+1, j) or (i, j+1) position and  finally return the last cell in the (m+1)*(n+1) matrix\n"
   ]
  },
  {
   "cell_type": "code",
   "execution_count": 105,
   "metadata": {},
   "outputs": [],
   "source": [
    "# Implementation\n",
    "from functools import lru_cache\n",
    "@lru_cache(None)\n",
    "def longestCommonSubsequence(text1, text2):\n",
    "    dp = [[0] * (len(text2)+1) for _ in range(len(text1) + 1)]\n",
    "    for i in range(len(text1)):\n",
    "        for j in range(len(text2)):\n",
    "            dp[i+1][j+1] = 1 + dp[i][j] if text1[i] == text2[j] else max(dp[i][j+1], dp[i+1][j])\n",
    "    return dp[-1][-1]"
   ]
  },
  {
   "cell_type": "code",
   "execution_count": 109,
   "metadata": {},
   "outputs": [
    {
     "name": "stdout",
     "output_type": "stream",
     "text": [
      "\u001b[32m.\u001b[0m\u001b[32m                                                                                            [100%]\u001b[0m\n",
      "\u001b[32m\u001b[32m\u001b[1m1 passed\u001b[0m\u001b[32m in 0.01s\u001b[0m\u001b[0m\n"
     ]
    }
   ],
   "source": [
    "%%ipytest \n",
    "def test_longestCommonSubsequence():\n",
    "    assert longestCommonSubsequence(text1 = \"abc\", text2 = \"abc\") == 3\n",
    "    assert longestCommonSubsequence(text1 = \"abcde\", text2 = \"ace\" ) == 3\n",
    "    assert longestCommonSubsequence(text1 = \"abc\", text2 = \"def\") == 0\n"
   ]
  },
  {
   "cell_type": "code",
   "execution_count": 107,
   "metadata": {},
   "outputs": [],
   "source": [
    "# Recursive solution\n",
    "@lru_cache(None)\n",
    "def longestCommonSubsequence2(text1, text2, i, j):\n",
    "    if i == len(text1) or j == len(text2):\n",
    "        return 0\n",
    "    if text1[i] == text2[j]:\n",
    "        return 1 + longestCommonSubsequence2(text1, text2, i+1, j+1)\n",
    "    else:\n",
    "        return max(longestCommonSubsequence2(text1, text2, i, j+ 1), longestCommonSubsequence2(text1, text2, i+ 1, j))\n"
   ]
  },
  {
   "cell_type": "code",
   "execution_count": 108,
   "metadata": {
    "scrolled": true
   },
   "outputs": [
    {
     "name": "stdout",
     "output_type": "stream",
     "text": [
      "\u001b[32m.\u001b[0m\u001b[32m                                                                                            [100%]\u001b[0m\n",
      "\u001b[32m\u001b[32m\u001b[1m1 passed\u001b[0m\u001b[32m in 0.01s\u001b[0m\u001b[0m\n"
     ]
    }
   ],
   "source": [
    "%%ipytest \n",
    "def test_longestCommonSubsequence2():\n",
    "    assert longestCommonSubsequence2(text1 = \"abc\", text2 = \"abc\", i = 0, j = 0) == 3\n",
    "    assert longestCommonSubsequence2(text1 = \"abcde\", text2 = \"ace\", i = 0, j = 0) == 3\n",
    "    assert longestCommonSubsequence2(text1 = \"abc\", text2 = \"def\", i = 0, j = 0) == 0\n"
   ]
  },
  {
   "cell_type": "markdown",
   "metadata": {},
   "source": [
    "## [Word Break](https://leetcode.com/problems/word-break/)"
   ]
  },
  {
   "cell_type": "raw",
   "metadata": {},
   "source": [
    "Given a string s and a dictionary of strings wordDict, return true if s can be segmented into a space-separated sequence of one or more dictionary words.\n",
    "\n",
    "Note that the same word in the dictionary may be reused multiple times in the segmentation.\n",
    "\n",
    " \n",
    "\n",
    "Example 1:\n",
    "\n",
    "Input: s = \"leetcode\", wordDict = [\"leet\",\"code\"]\n",
    "Output: true\n",
    "Explanation: Return true because \"leetcode\" can be segmented as \"leet code\".\n",
    "\n",
    "Example 2:\n",
    "\n",
    "Input: s = \"applepenapple\", wordDict = [\"apple\",\"pen\"]\n",
    "Output: true\n",
    "Explanation: Return true because \"applepenapple\" can be segmented as \"apple pen apple\".\n",
    "Note that you are allowed to reuse a dictionary word.\n",
    "\n",
    "Example 3:\n",
    "\n",
    "Input: s = \"catsandog\", wordDict = [\"cats\",\"dog\",\"sand\",\"and\",\"cat\"]\n",
    "Output: false\n",
    " \n",
    "\n",
    "Constraints:\n",
    "\n",
    "1 <= s.length <= 300\n",
    "1 <= wordDict.length <= 1000\n",
    "1 <= wordDict[i].length <= 20\n",
    "s and wordDict[i] consist of only lowercase English letters.\n",
    "All the strings of wordDict are unique."
   ]
  },
  {
   "cell_type": "code",
   "execution_count": 110,
   "metadata": {},
   "outputs": [],
   "source": [
    "# Solution\n",
    "# For all words we need to check if that word starts at a position where some other word already ended in 's'.\n",
    "# And if that word is also a substring in 's' then mark the position where this word ends. After we have looked \n",
    "# through all the words at all the position if the last item in 's' is marked then we have a solution else nope."
   ]
  },
  {
   "cell_type": "code",
   "execution_count": 152,
   "metadata": {},
   "outputs": [],
   "source": [
    "# implementation\n",
    "def wordBreak(s, wordDict):\n",
    "    n = len(s) + 1\n",
    "    mark = [False] * n\n",
    "    mark[0] = True #Start condition\n",
    "    for i in range(n):\n",
    "        for word in set(wordDict):\n",
    "            if mark[i] and s[i : i+len(word) ] == word:\n",
    "                mark[i+len(word)] = True\n",
    "                if i+len(word) == n-1: # End condition\n",
    "                    return True\n",
    "    return False # Default end condition"
   ]
  },
  {
   "cell_type": "code",
   "execution_count": 150,
   "metadata": {},
   "outputs": [
    {
     "data": {
      "text/plain": [
       "True"
      ]
     },
     "execution_count": 150,
     "metadata": {},
     "output_type": "execute_result"
    }
   ],
   "source": [
    "wordBreak(s = \"leetcode\", wordDict = [\"leet\",\"code\"])"
   ]
  },
  {
   "cell_type": "code",
   "execution_count": 151,
   "metadata": {},
   "outputs": [
    {
     "data": {
      "text/plain": [
       "True"
      ]
     },
     "execution_count": 151,
     "metadata": {},
     "output_type": "execute_result"
    }
   ],
   "source": [
    "wordBreak(s = \"applepenapple\", wordDict = [\"apple\",\"pen\"])"
   ]
  },
  {
   "cell_type": "code",
   "execution_count": 145,
   "metadata": {},
   "outputs": [
    {
     "name": "stdout",
     "output_type": "stream",
     "text": [
      "\u001b[32m.\u001b[0m\u001b[32m                                                                                            [100%]\u001b[0m\n",
      "\u001b[32m\u001b[32m\u001b[1m1 passed\u001b[0m\u001b[32m in 0.02s\u001b[0m\u001b[0m\n"
     ]
    }
   ],
   "source": [
    "%%ipytest \n",
    "def test_wordBreak():\n",
    "    assert wordBreak(s = \"leetcode\", wordDict = [\"leet\",\"code\"]) == True\n",
    "    assert wordBreak(s = \"applepenapple\", wordDict = [\"apple\",\"pen\"]) == True\n",
    "    assert wordBreak(s = \"catsandog\", wordDict = [\"cats\",\"dog\",\"sand\",\"and\",\"cat\"]) == False\n"
   ]
  },
  {
   "cell_type": "markdown",
   "metadata": {},
   "source": [
    "## [Combination Sum IV](https://leetcode.com/problems/combination-sum-iv/)"
   ]
  },
  {
   "cell_type": "raw",
   "metadata": {},
   "source": [
    "Given an array of distinct integers nums and a target integer target, return the number of possible combinations that add up to target.\n",
    "\n",
    "The test cases are generated so that the answer can fit in a 32-bit integer.\n",
    "\n",
    "Example 1:\n",
    "\n",
    "Input: nums = [1,2,3], target = 4\n",
    "Output: 7\n",
    "Explanation:\n",
    "The possible combination ways are:\n",
    "(1, 1, 1, 1)\n",
    "(1, 1, 2)\n",
    "(1, 2, 1)\n",
    "(1, 3)\n",
    "(2, 1, 1)\n",
    "(2, 2)\n",
    "(3, 1)\n",
    "Note that different sequences are counted as different combinations.\n",
    "\n",
    "\n",
    "Example 2:\n",
    "\n",
    "Input: nums = [9], target = 3\n",
    "Output: 0\n",
    " \n",
    "\n",
    "Constraints:\n",
    "\n",
    "1 <= nums.length <= 200\n",
    "1 <= nums[i] <= 1000\n",
    "All the elements of nums are unique.\n",
    "1 <= target <= 1000\n",
    " \n",
    "\n",
    "Follow up: What if negative numbers are allowed in the given array? How does it change the problem? What limitation we need to add to the question to allow negative numbers?"
   ]
  },
  {
   "cell_type": "code",
   "execution_count": 153,
   "metadata": {},
   "outputs": [],
   "source": [
    "# Solution\n",
    "# Sorting always make the job most of the times easier. So we are gonna start from 0 to target and 0 can be reached \n",
    "# in 1 ways. (Zero is not part of the solution set but useful as a starting point). For each num in nums if the num is\n",
    "# equal to target then we have exactly one combo to make the target. If it's greater than the target then there are\n",
    "# no ways we can make the target so we can skip the rest. If it's less than target then we can make combo in \n",
    "# res[target-num] ways were res is the array storing all the combo counts for each num"
   ]
  },
  {
   "cell_type": "code",
   "execution_count": 163,
   "metadata": {},
   "outputs": [],
   "source": [
    "# Implementation\n",
    "def combinationSum4(nums, target):\n",
    "    nums, combo = sorted(nums), [1] + [0]*target\n",
    "    for i in range(target+1):\n",
    "        for num in nums:\n",
    "            if num>i: \n",
    "                break\n",
    "            combo[i]+= combo[i-num]\n",
    "    return combo[target]"
   ]
  },
  {
   "cell_type": "code",
   "execution_count": 164,
   "metadata": {},
   "outputs": [
    {
     "name": "stdout",
     "output_type": "stream",
     "text": [
      "\u001b[32m.\u001b[0m\u001b[32m                                                                                            [100%]\u001b[0m\n",
      "\u001b[32m\u001b[32m\u001b[1m1 passed\u001b[0m\u001b[32m in 0.02s\u001b[0m\u001b[0m\n"
     ]
    }
   ],
   "source": [
    "%%ipytest \n",
    "def test_combinationSum4():\n",
    "    assert combinationSum4([1,2,3], target = 4) == 7\n",
    "    assert combinationSum4([9], target = 3) == 0\n",
    "    assert combinationSum4([3,1,2,4], target = 4) == 8\n"
   ]
  },
  {
   "cell_type": "markdown",
   "metadata": {},
   "source": [
    "## [House robber](https://leetcode.com/problems/house-robber/)"
   ]
  },
  {
   "cell_type": "raw",
   "metadata": {},
   "source": [
    "You are a professional robber planning to rob houses along a street. Each house has a certain amount of money stashed, the only constraint stopping you from robbing each of them is that adjacent houses have security systems connected and it will automatically contact the police if two adjacent houses were broken into on the same night.\n",
    "\n",
    "Given an integer array nums representing the amount of money of each house, return the maximum amount of money you can rob tonight without alerting the police.\n",
    "\n",
    "\n",
    "Example 1:\n",
    "\n",
    "Input: nums = [1,2,3,1]\n",
    "Output: 4\n",
    "Explanation: Rob house 1 (money = 1) and then rob house 3 (money = 3).\n",
    "Total amount you can rob = 1 + 3 = 4.\n",
    "\n",
    "\n",
    "Example 2:\n",
    "\n",
    "Input: nums = [2,7,9,3,1]\n",
    "Output: 12\n",
    "Explanation: Rob house 1 (money = 2), rob house 3 (money = 9) and rob house 5 (money = 1).\n",
    "Total amount you can rob = 2 + 9 + 1 = 12.\n",
    " \n",
    "\n",
    "Constraints:\n",
    "\n",
    "1 <= nums.length <= 100\n",
    "0 <= nums[i] <= 400"
   ]
  },
  {
   "cell_type": "code",
   "execution_count": 165,
   "metadata": {},
   "outputs": [],
   "source": [
    "# Solution\n",
    "# It's going to be a recursive dynamic problem solution. But we need to hold only two values while we loop over the\n",
    "# array once. The starting point(default) f(0) is going to be zero since I haven't started robbing yet. f(1) is going\n",
    "# to be nums[1] since there is only one house to rob. And for any other value of k, f(k) is going to be max of f(k-1)\n",
    "# or f(k-2) plus the current value. So we keep track of prev and curr value\n"
   ]
  },
  {
   "cell_type": "code",
   "execution_count": 166,
   "metadata": {},
   "outputs": [],
   "source": [
    "# Implementation\n",
    "def rob(nums):\n",
    "    prev, curr = 0, nums[0]\n",
    "    for i in range(1, len(nums)):\n",
    "        prev, curr = curr, max(curr, prev+nums[i])\n",
    "    return curr"
   ]
  },
  {
   "cell_type": "code",
   "execution_count": 167,
   "metadata": {},
   "outputs": [
    {
     "name": "stdout",
     "output_type": "stream",
     "text": [
      "\u001b[32m.\u001b[0m\u001b[32m                                                                                            [100%]\u001b[0m\n",
      "\u001b[32m\u001b[32m\u001b[1m1 passed\u001b[0m\u001b[32m in 0.02s\u001b[0m\u001b[0m\n"
     ]
    }
   ],
   "source": [
    "%%ipytest \n",
    "def test_rob():\n",
    "    assert rob([1,2,3,1]) == 4\n",
    "    assert rob([2,7,9,3,1]) == 12\n"
   ]
  },
  {
   "cell_type": "code",
   "execution_count": 168,
   "metadata": {},
   "outputs": [],
   "source": [
    "# Improvements\n",
    "def rob2(nums):\n",
    "    prev, curr = 0, nums[0]\n",
    "    for i in nums[1:]:\n",
    "        prev, curr = curr, max(curr, prev + i)\n",
    "    return curr"
   ]
  },
  {
   "cell_type": "code",
   "execution_count": 169,
   "metadata": {},
   "outputs": [
    {
     "name": "stdout",
     "output_type": "stream",
     "text": [
      "\u001b[32m.\u001b[0m\u001b[32m                                                                                            [100%]\u001b[0m\n",
      "\u001b[32m\u001b[32m\u001b[1m1 passed\u001b[0m\u001b[32m in 0.02s\u001b[0m\u001b[0m\n"
     ]
    }
   ],
   "source": [
    "%%ipytest \n",
    "def test_rob2():\n",
    "    assert rob2([1,2,3,1]) == 4\n",
    "    assert rob2([2,7,9,3,1]) == 12"
   ]
  },
  {
   "cell_type": "markdown",
   "metadata": {},
   "source": [
    "## [House robber II](https://leetcode.com/problems/house-robber-ii/)"
   ]
  },
  {
   "cell_type": "raw",
   "metadata": {},
   "source": [
    "You are a professional robber planning to rob houses along a street. Each house has a certain amount of money stashed. All houses at this place are arranged in a circle. That means the first house is the neighbor of the last one. Meanwhile, adjacent houses have a security system connected, and it will automatically contact the police if two adjacent houses were broken into on the same night.\n",
    "\n",
    "Given an integer array nums representing the amount of money of each house, return the maximum amount of money you can rob tonight without alerting the police.\n",
    "\n",
    " \n",
    "\n",
    "Example 1:\n",
    "\n",
    "Input: nums = [2,3,2]\n",
    "Output: 3\n",
    "Explanation: You cannot rob house 1 (money = 2) and then rob house 3 (money = 2), because they are adjacent houses.\n",
    "\n",
    "Example 2:\n",
    "\n",
    "Input: nums = [1,2,3,1]\n",
    "Output: 4\n",
    "Explanation: Rob house 1 (money = 1) and then rob house 3 (money = 3).\n",
    "Total amount you can rob = 1 + 3 = 4.\n",
    "\n",
    "Example 3:\n",
    "\n",
    "Input: nums = [1,2,3]\n",
    "Output: 3\n",
    " \n",
    "\n",
    "Constraints:\n",
    "\n",
    "1 <= nums.length <= 100\n",
    "0 <= nums[i] <= 1000"
   ]
  },
  {
   "cell_type": "code",
   "execution_count": 170,
   "metadata": {},
   "outputs": [],
   "source": [
    "# Solution\n",
    "# This is exactly the same problem with one difference. It's a cycle now and our solution to previous problem had\n",
    "# a default starting point set as zero. We can use the same solution as the first one. The only thing we need to do\n",
    "# is run it twice. If we choose first item we can't consider the last item. And vice versa. So calling the function\n",
    "# twice with subset of the nums as mentioned above and returning the max of both the tries would get us the result"
   ]
  },
  {
   "cell_type": "code",
   "execution_count": 180,
   "metadata": {},
   "outputs": [],
   "source": [
    "# Implementation\n",
    "def rob_help(nums):\n",
    "    prev, curr = 0, nums[0]\n",
    "    for i in nums[1:]:\n",
    "        prev, curr = curr, max(curr, prev + i)\n",
    "    return curr\n",
    "\n",
    "def rob(nums):\n",
    "    if len(nums) == 0:\n",
    "        return 0\n",
    "    if len(nums) == 1:\n",
    "        return nums[0]\n",
    "    return max(rob_help(nums[1:]), rob_help(nums[:-1]))"
   ]
  },
  {
   "cell_type": "code",
   "execution_count": 181,
   "metadata": {},
   "outputs": [
    {
     "name": "stdout",
     "output_type": "stream",
     "text": [
      "\u001b[32m.\u001b[0m\u001b[32m                                                                                            [100%]\u001b[0m\n",
      "\u001b[32m\u001b[32m\u001b[1m1 passed\u001b[0m\u001b[32m in 0.01s\u001b[0m\u001b[0m\n"
     ]
    }
   ],
   "source": [
    "%%ipytest \n",
    "def test_rob():\n",
    "    assert rob([2,3,2]) == 3\n",
    "    assert rob([1,2,3,1]) == 4\n",
    "    assert rob([1,2,3]) == 3\n",
    "    assert rob([1]) == 1"
   ]
  },
  {
   "cell_type": "code",
   "execution_count": 179,
   "metadata": {},
   "outputs": [
    {
     "data": {
      "text/plain": [
       "([], [])"
      ]
     },
     "execution_count": 179,
     "metadata": {},
     "output_type": "execute_result"
    }
   ],
   "source": [
    "nums = [1]\n",
    "nums[:-1], nums[1:]"
   ]
  },
  {
   "cell_type": "code",
   "execution_count": null,
   "metadata": {},
   "outputs": [],
   "source": []
  }
 ],
 "metadata": {
  "kernelspec": {
   "display_name": "Python 3",
   "language": "python",
   "name": "python3"
  },
  "language_info": {
   "codemirror_mode": {
    "name": "ipython",
    "version": 3
   },
   "file_extension": ".py",
   "mimetype": "text/x-python",
   "name": "python",
   "nbconvert_exporter": "python",
   "pygments_lexer": "ipython3",
   "version": "3.8.3"
  }
 },
 "nbformat": 4,
 "nbformat_minor": 4
}
