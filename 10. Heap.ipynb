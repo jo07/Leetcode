{
 "cells": [
  {
   "cell_type": "code",
   "execution_count": 1,
   "metadata": {},
   "outputs": [],
   "source": [
    "# Python testing module\n",
    "import ipytest\n",
    "ipytest.autoconfig()\n",
    "import pytest"
   ]
  },
  {
   "cell_type": "markdown",
   "metadata": {},
   "source": [
    "## [Merge k Sorted Lists](https://leetcode.com/problems/merge-k-sorted-lists/)"
   ]
  },
  {
   "cell_type": "raw",
   "metadata": {},
   "source": [
    "ou are given an array of k linked-lists lists, each linked-list is sorted in ascending order.\n",
    "\n",
    "Merge all the linked-lists into one sorted linked-list and return it.\n",
    "\n",
    "Example 1:\n",
    "\n",
    "Input: lists = [[1,4,5],[1,3,4],[2,6]]\n",
    "Output: [1,1,2,3,4,4,5,6]\n",
    "Explanation: The linked-lists are:\n",
    "[\n",
    "  1->4->5,\n",
    "  1->3->4,\n",
    "  2->6\n",
    "]\n",
    "merging them into one sorted list:\n",
    "1->1->2->3->4->4->5->6\n",
    "Example 2:\n",
    "\n",
    "Input: lists = []\n",
    "Output: []\n",
    "Example 3:\n",
    "\n",
    "Input: lists = [[]]\n",
    "Output: []\n",
    " \n",
    "\n",
    "Constraints:\n",
    "\n",
    "k == lists.length\n",
    "0 <= k <= 10^4\n",
    "0 <= lists[i].length <= 500\n",
    "-10^4 <= lists[i][j] <= 10^4\n",
    "lists[i] is sorted in ascending order.\n",
    "The sum of lists[i].length will not exceed 10^4."
   ]
  },
  {
   "cell_type": "raw",
   "metadata": {},
   "source": [
    "Solution\n",
    "Create a dummy head. For each linked list add its first val and the index of the linkedlist as a tuple in a heapq or priority queue. Then update the head of those linked lists to its next value if it exists. Now in the heap queue we have the smallest element of all the linkedlist and the index to identify which linkedlist that element belongs to. \n",
    "Keep on popping the smallest element from the heapqueue and keep on updating the particular linked lists head using the index we saved. The popped element gets appended to the dummy head and when heapqueue becomes empty return the next node after the dummy head."
   ]
  },
  {
   "cell_type": "code",
   "execution_count": 6,
   "metadata": {},
   "outputs": [],
   "source": [
    "# Definition for singly-linked list.\n",
    "class ListNode:\n",
    "    def __init__(self, val=0, next=None):\n",
    "        self.val = val\n",
    "        self.next = next\n",
    "\n",
    "import heapq\n",
    "def mergeKLists(lists):\n",
    "    head = curr = ListNode(0) # dummy head and dummy head which will recur\n",
    "    hq = [] # our heap queue\n",
    "    for i in range(len(lists)):\n",
    "        if lists[i]:\n",
    "            heapq.heappush(hq, (lists[i].val, i)) # push the value and list number together into the heap\n",
    "            lists[i] = lists[i].next\n",
    "\n",
    "    while hq:    # we need to pop from heapq and also keep pushing the rest of the linkedlist nodes to heapq\n",
    "        val, i = heapq.heappop(hq)\n",
    "        curr.next = ListNode(val)\n",
    "        curr = curr.next\n",
    "        if lists[i]:\n",
    "            heapq.heappush(hq, (lists[i].val, i)) # push the value and list number together into the heap\n",
    "            lists[i] = lists[i].next\n",
    "    return head.next # head has a dummy value so we are gonna return from the next node\n"
   ]
  },
  {
   "cell_type": "code",
   "execution_count": 7,
   "metadata": {
    "collapsed": true
   },
   "outputs": [
    {
     "name": "stdout",
     "output_type": "stream",
     "text": [
      "\u001b[31mF\u001b[0m\u001b[31m                                                                                            [100%]\u001b[0m\n",
      "============================================= FAILURES =============================================\n",
      "\u001b[31m\u001b[1m_________________________________________ test_mergeKLists _________________________________________\u001b[0m\n",
      "\n",
      "    \u001b[94mdef\u001b[39;49;00m \u001b[92mtest_mergeKLists\u001b[39;49;00m():\n",
      ">       \u001b[94massert\u001b[39;49;00m mergeKLists([[\u001b[94m1\u001b[39;49;00m,\u001b[94m4\u001b[39;49;00m,\u001b[94m5\u001b[39;49;00m],[\u001b[94m1\u001b[39;49;00m,\u001b[94m3\u001b[39;49;00m,\u001b[94m4\u001b[39;49;00m],[\u001b[94m2\u001b[39;49;00m,\u001b[94m6\u001b[39;49;00m]]) == [\u001b[94m1\u001b[39;49;00m,\u001b[94m1\u001b[39;49;00m,\u001b[94m2\u001b[39;49;00m,\u001b[94m3\u001b[39;49;00m,\u001b[94m4\u001b[39;49;00m,\u001b[94m4\u001b[39;49;00m,\u001b[94m5\u001b[39;49;00m,\u001b[94m6\u001b[39;49;00m]\n",
      "\n",
      "\u001b[1m\u001b[31m<ipython-input-7-d6ebe86e714f>\u001b[0m:2: \n",
      "_ _ _ _ _ _ _ _ _ _ _ _ _ _ _ _ _ _ _ _ _ _ _ _ _ _ _ _ _ _ _ _ _ _ _ _ _ _ _ _ _ _ _ _ _ _ _ _ _ _ \n",
      "\n",
      "lists = [[1, 4, 5], [1, 3, 4], [2, 6]]\n",
      "\n",
      "    \u001b[94mdef\u001b[39;49;00m \u001b[92mmergeKLists\u001b[39;49;00m(lists):\n",
      "        head = curr = ListNode(\u001b[94m0\u001b[39;49;00m) \u001b[90m# head is going to be the head of resultant linkedlist\u001b[39;49;00m\n",
      "        hq = [] \u001b[90m# our heap queue\u001b[39;49;00m\n",
      "        \u001b[94mfor\u001b[39;49;00m i \u001b[95min\u001b[39;49;00m \u001b[96mrange\u001b[39;49;00m(\u001b[96mlen\u001b[39;49;00m(lists)):\n",
      "            \u001b[94mif\u001b[39;49;00m lists[i]:\n",
      ">               heapq.heappush(hq, (lists[i].val, i)) \u001b[90m# push the value and list number together into the heap\u001b[39;49;00m\n",
      "\u001b[1m\u001b[31mE               AttributeError: 'list' object has no attribute 'val'\u001b[0m\n",
      "\n",
      "\u001b[1m\u001b[31m<ipython-input-6-2750deed1177>\u001b[0m:13: AttributeError\n",
      "===================================== short test summary info ======================================\n",
      "FAILED tmpvujy7mck.py::test_mergeKLists - AttributeError: 'list' object has no attribute 'val'\n",
      "\u001b[31m\u001b[31m\u001b[1m1 failed\u001b[0m\u001b[31m in 0.27s\u001b[0m\u001b[0m\n"
     ]
    }
   ],
   "source": [
    "%%ipytest \n",
    "def test_mergeKLists():\n",
    "    assert mergeKLists([[1,4,5],[1,3,4],[2,6]]) == [1,1,2,3,4,4,5,6]\n",
    "    assert mergeKLists([]) == []\n",
    "    assert mergeKLists([[]]) == []"
   ]
  },
  {
   "cell_type": "code",
   "execution_count": null,
   "metadata": {},
   "outputs": [],
   "source": []
  }
 ],
 "metadata": {
  "kernelspec": {
   "display_name": "Python 3",
   "language": "python",
   "name": "python3"
  },
  "language_info": {
   "codemirror_mode": {
    "name": "ipython",
    "version": 3
   },
   "file_extension": ".py",
   "mimetype": "text/x-python",
   "name": "python",
   "nbconvert_exporter": "python",
   "pygments_lexer": "ipython3",
   "version": "3.8.3"
  }
 },
 "nbformat": 4,
 "nbformat_minor": 4
}
