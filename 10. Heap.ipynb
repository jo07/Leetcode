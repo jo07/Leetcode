{
 "cells": [
  {
   "cell_type": "code",
   "execution_count": 1,
   "metadata": {},
   "outputs": [],
   "source": [
    "# Python testing module\n",
    "import ipytest\n",
    "ipytest.autoconfig()\n",
    "import pytest"
   ]
  },
  {
   "cell_type": "markdown",
   "metadata": {},
   "source": [
    "## [Merge k Sorted Lists](https://leetcode.com/problems/merge-k-sorted-lists/)"
   ]
  },
  {
   "cell_type": "raw",
   "metadata": {},
   "source": [
    "ou are given an array of k linked-lists lists, each linked-list is sorted in ascending order.\n",
    "\n",
    "Merge all the linked-lists into one sorted linked-list and return it.\n",
    "\n",
    "Example 1:\n",
    "\n",
    "Input: lists = [[1,4,5],[1,3,4],[2,6]]\n",
    "Output: [1,1,2,3,4,4,5,6]\n",
    "Explanation: The linked-lists are:\n",
    "[\n",
    "  1->4->5,\n",
    "  1->3->4,\n",
    "  2->6\n",
    "]\n",
    "merging them into one sorted list:\n",
    "1->1->2->3->4->4->5->6\n",
    "Example 2:\n",
    "\n",
    "Input: lists = []\n",
    "Output: []\n",
    "Example 3:\n",
    "\n",
    "Input: lists = [[]]\n",
    "Output: []\n",
    " \n",
    "\n",
    "Constraints:\n",
    "\n",
    "k == lists.length\n",
    "0 <= k <= 10^4\n",
    "0 <= lists[i].length <= 500\n",
    "-10^4 <= lists[i][j] <= 10^4\n",
    "lists[i] is sorted in ascending order.\n",
    "The sum of lists[i].length will not exceed 10^4."
   ]
  },
  {
   "cell_type": "raw",
   "metadata": {},
   "source": [
    "Solution\n",
    "Create a dummy head. For each linked list add its first val and the index of the linkedlist as a tuple in a heapq or priority queue. Then update the head of those linked lists to its next value if it exists. Now in the heap queue we have the smallest element of all the linkedlist and the index to identify which linkedlist that element belongs to. \n",
    "Keep on popping the smallest element from the heapqueue and keep on updating the particular linked lists head using the index we saved. The popped element gets appended to the dummy head and when heapqueue becomes empty return the next node after the dummy head."
   ]
  },
  {
   "cell_type": "code",
   "execution_count": 6,
   "metadata": {},
   "outputs": [],
   "source": [
    "# Definition for singly-linked list.\n",
    "class ListNode:\n",
    "    def __init__(self, val=0, next=None):\n",
    "        self.val = val\n",
    "        self.next = next\n",
    "\n",
    "import heapq\n",
    "def mergeKLists(lists):\n",
    "    head = curr = ListNode(0) # dummy head and dummy head which will recur\n",
    "    hq = [] # our heap queue\n",
    "    for i in range(len(lists)):\n",
    "        if lists[i]:\n",
    "            heapq.heappush(hq, (lists[i].val, i)) # push the value and list number together into the heap\n",
    "            lists[i] = lists[i].next\n",
    "\n",
    "    while hq:    # we need to pop from heapq and also keep pushing the rest of the linkedlist nodes to heapq\n",
    "        val, i = heapq.heappop(hq)\n",
    "        curr.next = ListNode(val)\n",
    "        curr = curr.next\n",
    "        if lists[i]:\n",
    "            heapq.heappush(hq, (lists[i].val, i)) # push the value and list number together into the heap\n",
    "            lists[i] = lists[i].next\n",
    "    return head.next # head has a dummy value so we are gonna return from the next node\n"
   ]
  },
  {
   "cell_type": "code",
   "execution_count": 7,
   "metadata": {
    "collapsed": true
   },
   "outputs": [
    {
     "name": "stdout",
     "output_type": "stream",
     "text": [
      "\u001b[31mF\u001b[0m\u001b[31m                                                                                            [100%]\u001b[0m\n",
      "============================================= FAILURES =============================================\n",
      "\u001b[31m\u001b[1m_________________________________________ test_mergeKLists _________________________________________\u001b[0m\n",
      "\n",
      "    \u001b[94mdef\u001b[39;49;00m \u001b[92mtest_mergeKLists\u001b[39;49;00m():\n",
      ">       \u001b[94massert\u001b[39;49;00m mergeKLists([[\u001b[94m1\u001b[39;49;00m,\u001b[94m4\u001b[39;49;00m,\u001b[94m5\u001b[39;49;00m],[\u001b[94m1\u001b[39;49;00m,\u001b[94m3\u001b[39;49;00m,\u001b[94m4\u001b[39;49;00m],[\u001b[94m2\u001b[39;49;00m,\u001b[94m6\u001b[39;49;00m]]) == [\u001b[94m1\u001b[39;49;00m,\u001b[94m1\u001b[39;49;00m,\u001b[94m2\u001b[39;49;00m,\u001b[94m3\u001b[39;49;00m,\u001b[94m4\u001b[39;49;00m,\u001b[94m4\u001b[39;49;00m,\u001b[94m5\u001b[39;49;00m,\u001b[94m6\u001b[39;49;00m]\n",
      "\n",
      "\u001b[1m\u001b[31m<ipython-input-7-d6ebe86e714f>\u001b[0m:2: \n",
      "_ _ _ _ _ _ _ _ _ _ _ _ _ _ _ _ _ _ _ _ _ _ _ _ _ _ _ _ _ _ _ _ _ _ _ _ _ _ _ _ _ _ _ _ _ _ _ _ _ _ \n",
      "\n",
      "lists = [[1, 4, 5], [1, 3, 4], [2, 6]]\n",
      "\n",
      "    \u001b[94mdef\u001b[39;49;00m \u001b[92mmergeKLists\u001b[39;49;00m(lists):\n",
      "        head = curr = ListNode(\u001b[94m0\u001b[39;49;00m) \u001b[90m# head is going to be the head of resultant linkedlist\u001b[39;49;00m\n",
      "        hq = [] \u001b[90m# our heap queue\u001b[39;49;00m\n",
      "        \u001b[94mfor\u001b[39;49;00m i \u001b[95min\u001b[39;49;00m \u001b[96mrange\u001b[39;49;00m(\u001b[96mlen\u001b[39;49;00m(lists)):\n",
      "            \u001b[94mif\u001b[39;49;00m lists[i]:\n",
      ">               heapq.heappush(hq, (lists[i].val, i)) \u001b[90m# push the value and list number together into the heap\u001b[39;49;00m\n",
      "\u001b[1m\u001b[31mE               AttributeError: 'list' object has no attribute 'val'\u001b[0m\n",
      "\n",
      "\u001b[1m\u001b[31m<ipython-input-6-2750deed1177>\u001b[0m:13: AttributeError\n",
      "===================================== short test summary info ======================================\n",
      "FAILED tmpvujy7mck.py::test_mergeKLists - AttributeError: 'list' object has no attribute 'val'\n",
      "\u001b[31m\u001b[31m\u001b[1m1 failed\u001b[0m\u001b[31m in 0.27s\u001b[0m\u001b[0m\n"
     ]
    }
   ],
   "source": [
    "%%ipytest \n",
    "def test_mergeKLists():\n",
    "    assert mergeKLists([[1,4,5],[1,3,4],[2,6]]) == [1,1,2,3,4,4,5,6]\n",
    "    assert mergeKLists([]) == []\n",
    "    assert mergeKLists([[]]) == []"
   ]
  },
  {
   "cell_type": "markdown",
   "metadata": {},
   "source": [
    "## [Top K Frequent Elements](https://leetcode.com/problems/top-k-frequent-elements/)"
   ]
  },
  {
   "cell_type": "raw",
   "metadata": {},
   "source": [
    "Given an integer array nums and an integer k, return the k most frequent elements. You may return the answer in any order.\n",
    "\n",
    "Example 1:\n",
    "\n",
    "Input: nums = [1,1,1,2,2,3], k = 2\n",
    "Output: [1,2]\n",
    "\n",
    "Example 2:\n",
    "\n",
    "Input: nums = [1], k = 1\n",
    "Output: [1]\n",
    " \n",
    "\n",
    "Constraints:\n",
    "\n",
    "1 <= nums.length <= 10^5\n",
    "k is in the range [1, the number of unique elements in the array].\n",
    "It is guaranteed that the answer is unique.\n",
    " \n",
    "\n",
    "Follow up: Your algorithm's time complexity must be better than O(n log n), where n is the array's size."
   ]
  },
  {
   "cell_type": "raw",
   "metadata": {},
   "source": [
    "Solution\n",
    "Make a count or freq dict then put it in a max heap and pull out k items from it."
   ]
  },
  {
   "cell_type": "code",
   "execution_count": 15,
   "metadata": {},
   "outputs": [],
   "source": [
    "# Implementation\n",
    "import heapq\n",
    "def topKFrequent(nums, k):\n",
    "    counter = {}\n",
    "    for num in nums:\n",
    "        if num in counter:\n",
    "            counter[num] += 1\n",
    "        else:\n",
    "            counter[num] = 1\n",
    "    \n",
    "    hq = [(-val, key) for key, val in counter.items()] # creating a max heap\n",
    "    heapq.heapify(hq)\n",
    "    res = []\n",
    "    for i in range(k):\n",
    "        res.append(heapq.heappop(hq)[1])\n",
    "    \n",
    "    return res"
   ]
  },
  {
   "cell_type": "code",
   "execution_count": 16,
   "metadata": {},
   "outputs": [
    {
     "name": "stdout",
     "output_type": "stream",
     "text": [
      "\u001b[32m.\u001b[0m\u001b[32m                                                                                            [100%]\u001b[0m\n",
      "\u001b[32m\u001b[32m\u001b[1m1 passed\u001b[0m\u001b[32m in 0.01s\u001b[0m\u001b[0m\n"
     ]
    }
   ],
   "source": [
    "%%ipytest \n",
    "def test_topKFrequent():\n",
    "    assert topKFrequent(nums = [1,1,1,2,2,3], k = 2) == [1,2]\n",
    "    assert topKFrequent(nums = [1], k = 1) == [1]"
   ]
  },
  {
   "cell_type": "raw",
   "metadata": {},
   "source": [
    "Solution 2 using buckets\n",
    "Instead of putting it in a heap, put it in a bucket of frequencies. Flatten the bucket and list out first k values"
   ]
  },
  {
   "cell_type": "code",
   "execution_count": 28,
   "metadata": {},
   "outputs": [],
   "source": [
    "def topKFrequent(nums, k):\n",
    "    counter = {}\n",
    "    for num in nums:\n",
    "        if num in counter:\n",
    "            counter[num] += 1\n",
    "        else:\n",
    "            counter[num] = 1\n",
    "    \n",
    "    buckets = {}\n",
    "    for key, freq in counter.items():\n",
    "        if freq in buckets:\n",
    "            buckets[freq].append(key)\n",
    "        else:\n",
    "            buckets[freq] = [key]\n",
    "    res = []\n",
    "    k_count = 0\n",
    "    for i in range(len(nums), -1, -1):\n",
    "        if i in buckets:\n",
    "            for num in buckets[i]:\n",
    "                res.append(num)\n",
    "                k_count += 1\n",
    "                if k_count == k:\n",
    "                    return res if res else []\n",
    "    \n"
   ]
  },
  {
   "cell_type": "code",
   "execution_count": 29,
   "metadata": {},
   "outputs": [
    {
     "name": "stdout",
     "output_type": "stream",
     "text": [
      "\u001b[32m.\u001b[0m\u001b[32m                                                                                            [100%]\u001b[0m\n",
      "\u001b[32m\u001b[32m\u001b[1m1 passed\u001b[0m\u001b[32m in 0.01s\u001b[0m\u001b[0m\n"
     ]
    }
   ],
   "source": [
    "%%ipytest \n",
    "def test_topKFrequent():\n",
    "    assert topKFrequent(nums = [1,1,1,2,2,3], k = 2) == [1,2]\n",
    "    assert topKFrequent(nums = [1], k = 1) == [1]"
   ]
  },
  {
   "cell_type": "code",
   "execution_count": 27,
   "metadata": {},
   "outputs": [],
   "source": [
    "topKFrequent(nums = [1], k = 1)"
   ]
  },
  {
   "cell_type": "markdown",
   "metadata": {},
   "source": [
    "## [Find Median from Data Stream](https://leetcode.com/problems/find-median-from-data-stream/)"
   ]
  },
  {
   "cell_type": "raw",
   "metadata": {},
   "source": [
    "The median is the middle value in an ordered integer list. If the size of the list is even, there is no middle value and the median is the mean of the two middle values.\n",
    "\n",
    "For example, for arr = [2,3,4], the median is 3.\n",
    "For example, for arr = [2,3], the median is (2 + 3) / 2 = 2.5.\n",
    "Implement the MedianFinder class:\n",
    "\n",
    "MedianFinder() initializes the MedianFinder object.\n",
    "void addNum(int num) adds the integer num from the data stream to the data structure.\n",
    "double findMedian() returns the median of all elements so far. Answers within 10-5 of the actual answer will be accepted.\n",
    " \n",
    "\n",
    "Example 1:\n",
    "\n",
    "Input\n",
    "[\"MedianFinder\", \"addNum\", \"addNum\", \"findMedian\", \"addNum\", \"findMedian\"]\n",
    "[[], [1], [2], [], [3], []]\n",
    "Output\n",
    "[null, null, null, 1.5, null, 2.0]\n",
    "\n",
    "Explanation\n",
    "MedianFinder medianFinder = new MedianFinder();\n",
    "medianFinder.addNum(1);    // arr = [1]\n",
    "medianFinder.addNum(2);    // arr = [1, 2]\n",
    "medianFinder.findMedian(); // return 1.5 (i.e., (1 + 2) / 2)\n",
    "medianFinder.addNum(3);    // arr[1, 2, 3]\n",
    "medianFinder.findMedian(); // return 2.0\n",
    " \n",
    "\n",
    "Constraints:\n",
    "\n",
    "-10^5 <= num <= 10^5\n",
    "There will be at least one element in the data structure before calling findMedian.\n",
    "At most 5 * 10^4 calls will be made to addNum and findMedian.\n",
    " \n",
    "\n",
    "Follow up:\n",
    "\n",
    "If all integer numbers from the stream are in the range [0, 100], how would you optimize your solution?\n",
    "If 99% of all integer numbers from the stream are in the range [0, 100], how would you optimize your solution?"
   ]
  },
  {
   "cell_type": "raw",
   "metadata": {},
   "source": [
    "Solution\n",
    "Use a max heap to store the smaller half of the stream and a min heap to store the larger half. Larger half always have greter or equal number of elements than smaller half.(Vice versa also works). When a new element comes in if the number of elements in both the heap are same then we push and pop the element from the max heap and push the resultant element to min heap. If smaller half has less elements we push and pop from larger half and push the resultant element to smaller half.\n",
    "For finding the median if both heap have same number of elements then the average of first elements of both halves give the median. Else the larger half's first element would be the median. Bingo"
   ]
  },
  {
   "cell_type": "code",
   "execution_count": 30,
   "metadata": {},
   "outputs": [],
   "source": [
    "from heapq import *\n",
    "class MedianFinder:\n",
    "\n",
    "    def __init__(self):\n",
    "        self.small = []\n",
    "        self.large = []\n",
    "\n",
    "    def addNum(self, num: int) -> None:\n",
    "        if len(self.small) == len(self.large):\n",
    "            heappush(self.large, -heappushpop(self.small, -num))\n",
    "        else:\n",
    "            heappush(self.small, -heappushpop(self.large, num))\n",
    "            \n",
    "    def findMedian(self) -> float:\n",
    "        if len(self.small) == len(self.large):\n",
    "            return float(self.large[0] - self.small[0])/2\n",
    "        else:\n",
    "            return float(self.large[0])"
   ]
  },
  {
   "cell_type": "code",
   "execution_count": null,
   "metadata": {},
   "outputs": [],
   "source": []
  }
 ],
 "metadata": {
  "kernelspec": {
   "display_name": "Python 3",
   "language": "python",
   "name": "python3"
  },
  "language_info": {
   "codemirror_mode": {
    "name": "ipython",
    "version": 3
   },
   "file_extension": ".py",
   "mimetype": "text/x-python",
   "name": "python",
   "nbconvert_exporter": "python",
   "pygments_lexer": "ipython3",
   "version": "3.8.3"
  }
 },
 "nbformat": 4,
 "nbformat_minor": 4
}
