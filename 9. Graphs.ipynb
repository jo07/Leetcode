{
 "cells": [
  {
   "cell_type": "code",
   "execution_count": 2,
   "metadata": {},
   "outputs": [],
   "source": [
    "# Python testing module\n",
    "import ipytest\n",
    "ipytest.autoconfig()\n",
    "import pytest"
   ]
  },
  {
   "cell_type": "markdown",
   "metadata": {},
   "source": [
    "## [Clone graph](https://leetcode.com/problems/clone-graph/)"
   ]
  },
  {
   "cell_type": "raw",
   "metadata": {},
   "source": [
    "Given a reference of a node in a connected undirected graph.\n",
    "\n",
    "Return a deep copy (clone) of the graph.\n",
    "\n",
    "Each node in the graph contains a value (int) and a list (List[Node]) of its neighbors.\n",
    "\n",
    "class Node {\n",
    "    public int val;\n",
    "    public List<Node> neighbors;\n",
    "}\n",
    " \n",
    "\n",
    "Test case format:\n",
    "\n",
    "For simplicity, each node's value is the same as the node's index (1-indexed). For example, the first node with val == 1, the second node with val == 2, and so on. The graph is represented in the test case using an adjacency list.\n",
    "\n",
    "An adjacency list is a collection of unordered lists used to represent a finite graph. Each list describes the set of neighbors of a node in the graph.\n",
    "\n",
    "The given node will always be the first node with val = 1. You must return the copy of the given node as a reference to the cloned graph.\n",
    "\n",
    " \n",
    "\n",
    "Example 1:\n",
    "\n",
    "\n",
    "Input: adjList = [[2,4],[1,3],[2,4],[1,3]]\n",
    "Output: [[2,4],[1,3],[2,4],[1,3]]\n",
    "Explanation: There are 4 nodes in the graph.\n",
    "1st node (val = 1)'s neighbors are 2nd node (val = 2) and 4th node (val = 4).\n",
    "2nd node (val = 2)'s neighbors are 1st node (val = 1) and 3rd node (val = 3).\n",
    "3rd node (val = 3)'s neighbors are 2nd node (val = 2) and 4th node (val = 4).\n",
    "4th node (val = 4)'s neighbors are 1st node (val = 1) and 3rd node (val = 3).\n",
    "Example 2:\n",
    "\n",
    "\n",
    "Input: adjList = [[]]\n",
    "Output: [[]]\n",
    "Explanation: Note that the input contains one empty list. The graph consists of only one node with val = 1 and it does not have any neighbors.\n",
    "Example 3:\n",
    "\n",
    "Input: adjList = []\n",
    "Output: []\n",
    "Explanation: This an empty graph, it does not have any nodes.\n",
    " \n",
    "\n",
    "Constraints:\n",
    "\n",
    "The number of nodes in the graph is in the range [0, 100].\n",
    "1 <= Node.val <= 100\n",
    "Node.val is unique for each node.\n",
    "There are no repeated edges and no self-loops in the graph.\n",
    "The Graph is connected and all nodes can be visited starting from the given node."
   ]
  },
  {
   "cell_type": "raw",
   "metadata": {},
   "source": [
    "Solution\n",
    "This is basically parsing the entire graph and creating a clone node by node. We need a dic to keep track of the \n",
    "nodes visited and cloned. And a BFT or DFT to traverse the graph and a stack or queue to keep track of the nodes\n",
    "to process next"
   ]
  },
  {
   "cell_type": "code",
   "execution_count": 2,
   "metadata": {},
   "outputs": [],
   "source": [
    "# Implementation\n",
    "def cloneGraph(node):\n",
    "    if not node:\n",
    "        return node\n",
    "    # dq is the original graph, clone is the clone :P\n",
    "    dq, clone = deque([node]), {node.val: Node(node.val, [])}\n",
    "    while dq:\n",
    "        cur = dq.popleft()\n",
    "        cur_clone = clone[cur.val]\n",
    "        \n",
    "        for neigh in cur.neigbhors:\n",
    "            if neigh.val not in clone:\n",
    "                clone[neigh.val] =  Node(neigh.val, [])\n",
    "                dq.append(neigh)\n",
    "                \n",
    "            cur_clone.neighbors.append(clone[neigh.val])\n",
    "    return clone[node.val]\n",
    "            "
   ]
  },
  {
   "cell_type": "markdown",
   "metadata": {},
   "source": [
    "## [Course Schedule](https://leetcode.com/problems/course-schedule/)"
   ]
  },
  {
   "cell_type": "raw",
   "metadata": {},
   "source": [
    "There are a total of numCourses courses you have to take, labeled from 0 to numCourses - 1. You are given an array prerequisites where prerequisites[i] = [ai, bi] indicates that you must take course bi first if you want to take course ai.\n",
    "\n",
    "For example, the pair [0, 1], indicates that to take course 0 you have to first take course 1.\n",
    "Return true if you can finish all courses. Otherwise, return false.\n",
    "\n",
    "Example 1:\n",
    "\n",
    "Input: numCourses = 2, prerequisites = [[1,0]]\n",
    "Output: true\n",
    "Explanation: There are a total of 2 courses to take. \n",
    "To take course 1 you should have finished course 0. So it is possible.\n",
    "Example 2:\n",
    "\n",
    "Input: numCourses = 2, prerequisites = [[1,0],[0,1]]\n",
    "Output: false\n",
    "Explanation: There are a total of 2 courses to take. \n",
    "To take course 1 you should have finished course 0, and to take course 0 you should also have finished course 1. So it is impossible.\n",
    " \n",
    "Constraints:\n",
    "\n",
    "1 <= numCourses <= 105\n",
    "0 <= prerequisites.length <= 5000\n",
    "prerequisites[i].length == 2\n",
    "0 <= ai, bi < numCourses\n",
    "All the pairs prerequisites[i] are unique."
   ]
  },
  {
   "cell_type": "raw",
   "metadata": {},
   "source": [
    "# Solution\n",
    "First we need to create an adjacency list since the edge list given is not optimal to solve graph problems.\n",
    "Then we would need a function to check cycles given a vertex. For each vertex we can do a dfs and mark it as processed, in process or not visited in a list. And if we visit an 'in processing' node that means there is a cycle.\n",
    "We can stop right there since we need to do all the courses. We need to check if there is cycle in any of the vertices. So we call the is_cycle function on each vertices(nodes) of the graph."
   ]
  },
  {
   "cell_type": "code",
   "execution_count": null,
   "metadata": {},
   "outputs": [],
   "source": [
    "def canFinish(numCourses, prerequisites ):\n",
    "    \n",
    "    #build adjacency list\n",
    "    adj_list = [[] for _ in range(numCourses)]\n",
    "    for x, y in prerequisites:\n",
    "        adj_list[y].append(x)\n",
    "    \n",
    "    visited = [0] * numCourses\n",
    "    def is_cycle(v):\n",
    "        \n",
    "        if visited[v] == 1: # completed processing\n",
    "            return False\n",
    "        if visited[v] == -1: # In processing and means there is a cycle\n",
    "            return True\n",
    "        \n",
    "        visited[v] = -1 # start processing the course\n",
    "        for course in adj_list[v]:\n",
    "            if is_cycle(course):\n",
    "                return True\n",
    "        \n",
    "        # done processing the course and no cycles found yet\n",
    "        visited[v] = 1 # set as processed\n",
    "        \n",
    "        return False # No cycles found\n",
    "        \n",
    "    \n",
    "    # find cycles for all vertices\n",
    "    for course in range(numCourses):\n",
    "        if is_cycle(course):\n",
    "            return False\n",
    "    # After traversing through all the courses, no cycles found \n",
    "    return True"
   ]
  },
  {
   "cell_type": "code",
   "execution_count": 3,
   "metadata": {},
   "outputs": [
    {
     "data": {
      "text/plain": [
       "[]"
      ]
     },
     "execution_count": 3,
     "metadata": {},
     "output_type": "execute_result"
    }
   ],
   "source": [
    "[]*10"
   ]
  },
  {
   "cell_type": "code",
   "execution_count": 4,
   "metadata": {},
   "outputs": [
    {
     "data": {
      "text/plain": [
       "[[], [], [], [], [], [], [], [], [], []]"
      ]
     },
     "execution_count": 4,
     "metadata": {},
     "output_type": "execute_result"
    }
   ],
   "source": [
    "[[] for _ in range(10)]"
   ]
  },
  {
   "cell_type": "markdown",
   "metadata": {},
   "source": [
    "## [Pacific Atlantic Water Flow](https://leetcode.com/problems/pacific-atlantic-water-flow/)"
   ]
  },
  {
   "cell_type": "raw",
   "metadata": {},
   "source": [
    "There is an m x n rectangular island that borders both the Pacific Ocean and Atlantic Ocean. The Pacific Ocean touches the island's left and top edges, and the Atlantic Ocean touches the island's right and bottom edges.\n",
    "\n",
    "The island is partitioned into a grid of square cells. You are given an m x n integer matrix heights where heights[r][c] represents the height above sea level of the cell at coordinate (r, c).\n",
    "\n",
    "The island receives a lot of rain, and the rain water can flow to neighboring cells directly north, south, east, and west if the neighboring cell's height is less than or equal to the current cell's height. Water can flow from any cell adjacent to an ocean into the ocean.\n",
    "\n",
    "Return a 2D list of grid coordinates result where result[i] = [ri, ci] denotes that rain water can flow from cell (ri, ci) to both the Pacific and Atlantic oceans.\n",
    "\n",
    " \n",
    "\n",
    "Example 1:\n",
    "\n",
    "\n",
    "Input: heights = [[1,2,2,3,5],[3,2,3,4,4],[2,4,5,3,1],[6,7,1,4,5],[5,1,1,2,4]]\n",
    "Output: [[0,4],[1,3],[1,4],[2,2],[3,0],[3,1],[4,0]]\n",
    "Example 2:\n",
    "\n",
    "Input: heights = [[2,1],[1,2]]\n",
    "Output: [[0,0],[0,1],[1,0],[1,1]]\n",
    " \n",
    "\n",
    "Constraints:\n",
    "\n",
    "m == heights.length\n",
    "n == heights[r].length\n",
    "1 <= m, n <= 200\n",
    "0 <= heights[r][c] <= 10^5"
   ]
  },
  {
   "cell_type": "raw",
   "metadata": {},
   "source": [
    "Solution\n",
    "We need two sets one to check if a coordinate can reach the pacific and one for atlantic. The top and left edges are sure shot reachable to pacific and right and bottom edges can reach atlantic. Using those as the starting point check if the positions at all the directions is greater or equal to the node. If yes, those node can reach the oceans too. We can check if those nodes are already in the visited set or not, so we can avoid visiting it again. Once we have the pacific and atlantic visit sets, the '&' of both will give us the result set."
   ]
  },
  {
   "cell_type": "code",
   "execution_count": 8,
   "metadata": {},
   "outputs": [],
   "source": [
    "# Implementation\n",
    "def pacificAtlantic(heights):\n",
    "    \n",
    "    if not heights:\n",
    "        return []\n",
    "    \n",
    "    rows = len(heights)\n",
    "    cols = len(heights[0])\n",
    "    p_visited = set()\n",
    "    a_visited = set()\n",
    "    \n",
    "    directions = [(1, 0), (0, 1), (-1, 0), (0, -1)]\n",
    "    \n",
    "    def traverse(i, j, visited):\n",
    "        \n",
    "        if (i, j) in visited:\n",
    "            return\n",
    "        \n",
    "        visited.add((i, j))\n",
    "        \n",
    "        # visit all other adjacent nodes\n",
    "        for coords in directions:\n",
    "            x, y = i + coords[0], j + coords[1]\n",
    "            if 0<= x < rows and 0 <= y < cols and heights[x][y] >= heights[i][j]:\n",
    "                traverse(x, y, visited)\n",
    "    \n",
    "    # Traverse from all the starting points\n",
    "    for row in range(rows):\n",
    "        traverse(row, 0, p_visited)\n",
    "        traverse(row, cols-1, a_visited)\n",
    "        \n",
    "    for col in range(cols):\n",
    "        traverse(0, col, p_visited)\n",
    "        traverse(rows-1, col, a_visited)\n",
    "        \n",
    "    return list(p_visited & a_visited)"
   ]
  },
  {
   "cell_type": "code",
   "execution_count": 9,
   "metadata": {},
   "outputs": [
    {
     "data": {
      "text/plain": [
       "[(4, 0), (0, 4), (3, 1), (1, 4), (3, 0), (2, 2), (1, 3)]"
      ]
     },
     "execution_count": 9,
     "metadata": {},
     "output_type": "execute_result"
    }
   ],
   "source": [
    "input1 = [[1,2,2,3,5],[3,2,3,4,4],[2,4,5,3,1],[6,7,1,4,5],[5,1,1,2,4]]\n",
    "out1 = [[0,4],[1,3],[1,4],[2,2],[3,0],[3,1],[4,0]]\n",
    "pacificAtlantic(heights = input1)"
   ]
  },
  {
   "cell_type": "code",
   "execution_count": 6,
   "metadata": {
    "collapsed": true
   },
   "outputs": [
    {
     "name": "stdout",
     "output_type": "stream",
     "text": [
      "\u001b[31mF\u001b[0m\u001b[31m                                                                                            [100%]\u001b[0m\n",
      "============================================= FAILURES =============================================\n",
      "\u001b[31m\u001b[1m_______________________________________ test_pacificAtlantic _______________________________________\u001b[0m\n",
      "\n",
      "    \u001b[94mdef\u001b[39;49;00m \u001b[92mtest_pacificAtlantic\u001b[39;49;00m():\n",
      "        input1 = [[\u001b[94m1\u001b[39;49;00m,\u001b[94m2\u001b[39;49;00m,\u001b[94m2\u001b[39;49;00m,\u001b[94m3\u001b[39;49;00m,\u001b[94m5\u001b[39;49;00m],[\u001b[94m3\u001b[39;49;00m,\u001b[94m2\u001b[39;49;00m,\u001b[94m3\u001b[39;49;00m,\u001b[94m4\u001b[39;49;00m,\u001b[94m4\u001b[39;49;00m],[\u001b[94m2\u001b[39;49;00m,\u001b[94m4\u001b[39;49;00m,\u001b[94m5\u001b[39;49;00m,\u001b[94m3\u001b[39;49;00m,\u001b[94m1\u001b[39;49;00m],[\u001b[94m6\u001b[39;49;00m,\u001b[94m7\u001b[39;49;00m,\u001b[94m1\u001b[39;49;00m,\u001b[94m4\u001b[39;49;00m,\u001b[94m5\u001b[39;49;00m],[\u001b[94m5\u001b[39;49;00m,\u001b[94m1\u001b[39;49;00m,\u001b[94m1\u001b[39;49;00m,\u001b[94m2\u001b[39;49;00m,\u001b[94m4\u001b[39;49;00m]]\n",
      "        out1 = [[\u001b[94m0\u001b[39;49;00m,\u001b[94m4\u001b[39;49;00m],[\u001b[94m1\u001b[39;49;00m,\u001b[94m3\u001b[39;49;00m],[\u001b[94m1\u001b[39;49;00m,\u001b[94m4\u001b[39;49;00m],[\u001b[94m2\u001b[39;49;00m,\u001b[94m2\u001b[39;49;00m],[\u001b[94m3\u001b[39;49;00m,\u001b[94m0\u001b[39;49;00m],[\u001b[94m3\u001b[39;49;00m,\u001b[94m1\u001b[39;49;00m],[\u001b[94m4\u001b[39;49;00m,\u001b[94m0\u001b[39;49;00m]]\n",
      ">       \u001b[94massert\u001b[39;49;00m pacificAtlantic(heights = input1) == out1\n",
      "\n",
      "\u001b[1m\u001b[31m<ipython-input-6-66ccf1436c52>\u001b[0m:4: \n",
      "_ _ _ _ _ _ _ _ _ _ _ _ _ _ _ _ _ _ _ _ _ _ _ _ _ _ _ _ _ _ _ _ _ _ _ _ _ _ _ _ _ _ _ _ _ _ _ _ _ _ \n",
      "\u001b[1m\u001b[31m<ipython-input-5-7b62f82aed3b>\u001b[0m:28: in pacificAtlantic\n",
      "    traverse(row, \u001b[94m0\u001b[39;49;00m, p_visited)\n",
      "_ _ _ _ _ _ _ _ _ _ _ _ _ _ _ _ _ _ _ _ _ _ _ _ _ _ _ _ _ _ _ _ _ _ _ _ _ _ _ _ _ _ _ _ _ _ _ _ _ _ \n",
      "\n",
      "i = 0, j = 0, visited = {(0, 0)}\n",
      "\n",
      "    \u001b[94mdef\u001b[39;49;00m \u001b[92mtraverse\u001b[39;49;00m(i, j, visited):\n",
      "    \n",
      "        \u001b[94mif\u001b[39;49;00m (i, j) \u001b[95min\u001b[39;49;00m visited:\n",
      "            \u001b[94mreturn\u001b[39;49;00m\n",
      "    \n",
      "        visited.add((i, j))\n",
      "    \n",
      "        \u001b[90m# visit all other adjacent nodes\u001b[39;49;00m\n",
      "        \u001b[94mfor\u001b[39;49;00m coords \u001b[95min\u001b[39;49;00m directions:\n",
      "            x, y = i + coords[\u001b[94m0\u001b[39;49;00m], j + coords[\u001b[94m1\u001b[39;49;00m]\n",
      "            \u001b[94mif\u001b[39;49;00m \u001b[94m0\u001b[39;49;00m<= x < rows \u001b[95mand\u001b[39;49;00m \u001b[94m0\u001b[39;49;00m <= y < cols \u001b[95mand\u001b[39;49;00m heights[x][y] >= heights[i][j]:\n",
      ">               traverse(x, y)\n",
      "\u001b[1m\u001b[31mE               TypeError: traverse() missing 1 required positional argument: 'visited'\u001b[0m\n",
      "\n",
      "\u001b[1m\u001b[31m<ipython-input-5-7b62f82aed3b>\u001b[0m:24: TypeError\n",
      "===================================== short test summary info ======================================\n",
      "FAILED tmpmrocrvb7.py::test_pacificAtlantic - TypeError: traverse() missing 1 required positional...\n",
      "\u001b[31m\u001b[31m\u001b[1m1 failed\u001b[0m\u001b[31m in 0.71s\u001b[0m\u001b[0m\n"
     ]
    }
   ],
   "source": [
    "%%ipytest \n",
    "def test_pacificAtlantic():\n",
    "    input1 = [[1,2,2,3,5],[3,2,3,4,4],[2,4,5,3,1],[6,7,1,4,5],[5,1,1,2,4]]\n",
    "    out1 = [[0,4],[1,3],[1,4],[2,2],[3,0],[3,1],[4,0]]\n",
    "    assert pacificAtlantic(heights = input1) == out1\n",
    "    input1 = [[2,1],[1,2]]\n",
    "    out1 = [[0,0],[0,1],[1,0],[1,1]]\n",
    "    assert pacificAtlantic(heights = input1) == out1"
   ]
  },
  {
   "cell_type": "markdown",
   "metadata": {},
   "source": [
    "## [Number of Islands](https://leetcode.com/problems/number-of-islands/)"
   ]
  },
  {
   "cell_type": "raw",
   "metadata": {},
   "source": [
    "Given an m x n 2D binary grid grid which represents a map of '1's (land) and '0's (water), return the number of islands.\n",
    "\n",
    "An island is surrounded by water and is formed by connecting adjacent lands horizontally or vertically. You may assume all four edges of the grid are all surrounded by water.\n",
    "\n",
    " \n",
    "Example 1:\n",
    "\n",
    "Input: grid = [\n",
    "  [\"1\",\"1\",\"1\",\"1\",\"0\"],\n",
    "  [\"1\",\"1\",\"0\",\"1\",\"0\"],\n",
    "  [\"1\",\"1\",\"0\",\"0\",\"0\"],\n",
    "  [\"0\",\"0\",\"0\",\"0\",\"0\"]\n",
    "]\n",
    "Output: 1\n",
    "\n",
    "Example 2:\n",
    "\n",
    "Input: grid = [\n",
    "  [\"1\",\"1\",\"0\",\"0\",\"0\"],\n",
    "  [\"1\",\"1\",\"0\",\"0\",\"0\"],\n",
    "  [\"0\",\"0\",\"1\",\"0\",\"0\"],\n",
    "  [\"0\",\"0\",\"0\",\"1\",\"1\"]\n",
    "]\n",
    "Output: 3\n",
    " \n",
    "\n",
    "Constraints:\n",
    "\n",
    "m == grid.length\n",
    "n == grid[i].length\n",
    "1 <= m, n <= 300\n",
    "grid[i][j] is '0' or '1'."
   ]
  },
  {
   "cell_type": "raw",
   "metadata": {},
   "source": [
    "Solution\n",
    "Traverse through the matrix and for each '1' found do a dfs on all its neighbour nodes and convert all the '1' to '0's or something else. And increment the count by 1. The logic is we are 'sinking' the entire island around a '1' we find. So the entire island is sunk and we can iterate over through the grid till we find a new island and do the same. At the end we will have the result in the count."
   ]
  },
  {
   "cell_type": "code",
   "execution_count": 20,
   "metadata": {},
   "outputs": [],
   "source": [
    "# Implementation\n",
    "def numIslands(grid):\n",
    "    if not grid:\n",
    "        return 0\n",
    "    rows = len(grid)\n",
    "    cols = len(grid[0])\n",
    "    def sink(i,j):\n",
    "        if 0 <= i < rows and 0 <= j < cols and grid[i][j] == '1':\n",
    "            grid[i][j] = '0'\n",
    "            list(map(sink, (i-1,i+1, i, i), (j, j, j-1, j+1)))\n",
    "            return 1\n",
    "        else:\n",
    "            return 0\n",
    "    return sum(sink(i, j) for i in range(rows) for j in range(cols))"
   ]
  },
  {
   "cell_type": "code",
   "execution_count": 21,
   "metadata": {},
   "outputs": [
    {
     "name": "stdout",
     "output_type": "stream",
     "text": [
      "\u001b[32m.\u001b[0m\u001b[32m                                                                                            [100%]\u001b[0m\n",
      "\u001b[32m\u001b[32m\u001b[1m1 passed\u001b[0m\u001b[32m in 0.01s\u001b[0m\u001b[0m\n"
     ]
    }
   ],
   "source": [
    "%%ipytest \n",
    "def test_numIslands():\n",
    "    grid = [\n",
    "      [\"1\",\"1\",\"1\",\"1\",\"0\"],\n",
    "      [\"1\",\"1\",\"0\",\"1\",\"0\"],\n",
    "      [\"1\",\"1\",\"0\",\"0\",\"0\"],\n",
    "      [\"0\",\"0\",\"0\",\"0\",\"0\"]]\n",
    "    assert numIslands(grid) == 1\n",
    "    grid = [\n",
    "      [\"1\",\"1\",\"0\",\"0\",\"0\"],\n",
    "      [\"1\",\"1\",\"0\",\"0\",\"0\"],\n",
    "      [\"0\",\"0\",\"1\",\"0\",\"0\"],\n",
    "      [\"0\",\"0\",\"0\",\"1\",\"1\"]]\n",
    "    assert numIslands(grid) == 3"
   ]
  },
  {
   "cell_type": "markdown",
   "metadata": {},
   "source": [
    "## [Longest Consecutive Sequence](https://leetcode.com/problems/longest-consecutive-sequence/)"
   ]
  },
  {
   "cell_type": "raw",
   "metadata": {},
   "source": [
    "Given an unsorted array of integers nums, return the length of the longest consecutive elements sequence.\n",
    "\n",
    "You must write an algorithm that runs in O(n) time.\n",
    "\n",
    "\n",
    "Example 1:\n",
    "\n",
    "Input: nums = [100,4,200,1,3,2]\n",
    "Output: 4\n",
    "Explanation: The longest consecutive elements sequence is [1, 2, 3, 4]. Therefore its length is 4.\n",
    "Example 2:\n",
    "\n",
    "Input: nums = [0,3,7,2,5,8,4,6,0,1]\n",
    "Output: 9\n",
    " \n",
    "\n",
    "Constraints:\n",
    "\n",
    "0 <= nums.length <= 10^5\n",
    "-109 <= nums[i] <= 10^9"
   ]
  },
  {
   "cell_type": "raw",
   "metadata": {},
   "source": [
    "Solution\n",
    "Remove duplicates by putting the list in a set. And for each element in the list, check for next item in the list and update the sequence count by one if found. Since the item we first popped from set could be in between a sequence we need to look for sequence towards its left or lesser than the item and keep updating the count. Also remove the elements since we don't need those anymore. Update the global count as max of the current count and the previous global count. After traversing through each item once we will have the solution in the global count in O(n) time."
   ]
  },
  {
   "cell_type": "code",
   "execution_count": 36,
   "metadata": {},
   "outputs": [],
   "source": [
    "# Implementation\n",
    "def longestConsecutive(nums):\n",
    "    nums = set(nums)\n",
    "    global_max = 0\n",
    "    while nums:\n",
    "        cur_num = nums.pop()\n",
    "        local_max = 1\n",
    "        num = cur_num + 1\n",
    "        cur_num -= 1\n",
    "        while num in nums:\n",
    "            local_max += 1\n",
    "            nums.remove(num)\n",
    "            num += 1\n",
    "        while cur_num in nums:\n",
    "            local_max += 1\n",
    "            nums.remove(cur_num)\n",
    "            cur_num -= 1\n",
    "\n",
    "        global_max = max(global_max, local_max)\n",
    "    \n",
    "    return global_max\n",
    "                "
   ]
  },
  {
   "cell_type": "code",
   "execution_count": 37,
   "metadata": {},
   "outputs": [
    {
     "name": "stdout",
     "output_type": "stream",
     "text": [
      "\u001b[32m.\u001b[0m\u001b[32m                                                                                            [100%]\u001b[0m\n",
      "\u001b[32m\u001b[32m\u001b[1m1 passed\u001b[0m\u001b[32m in 0.01s\u001b[0m\u001b[0m\n"
     ]
    }
   ],
   "source": [
    "%%ipytest \n",
    "def test_longestConsecutive():\n",
    "    assert longestConsecutive(nums = [100,4,200,1,3,2]) == 4\n",
    "    assert longestConsecutive([0,3,7,2,5,8,4,6,0,1]) == 9\n",
    "    assert longestConsecutive([0,-1]) == 2"
   ]
  },
  {
   "cell_type": "code",
   "execution_count": 38,
   "metadata": {},
   "outputs": [
    {
     "name": "stdout",
     "output_type": "stream",
     "text": [
      "-  -1\n"
     ]
    },
    {
     "data": {
      "text/plain": [
       "2"
      ]
     },
     "execution_count": 38,
     "metadata": {},
     "output_type": "execute_result"
    }
   ],
   "source": [
    "longestConsecutive(nums = [0,-1])"
   ]
  },
  {
   "cell_type": "code",
   "execution_count": null,
   "metadata": {},
   "outputs": [],
   "source": []
  }
 ],
 "metadata": {
  "kernelspec": {
   "display_name": "Python 3",
   "language": "python",
   "name": "python3"
  },
  "language_info": {
   "codemirror_mode": {
    "name": "ipython",
    "version": 3
   },
   "file_extension": ".py",
   "mimetype": "text/x-python",
   "name": "python",
   "nbconvert_exporter": "python",
   "pygments_lexer": "ipython3",
   "version": "3.8.3"
  }
 },
 "nbformat": 4,
 "nbformat_minor": 4
}
